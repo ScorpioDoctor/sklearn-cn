{
  "cells": [
    {
      "cell_type": "code",
      "execution_count": null,
      "metadata": {
        "collapsed": false
      },
      "outputs": [],
      "source": [
        "%matplotlib inline"
      ]
    },
    {
      "cell_type": "markdown",
      "metadata": {},
      "source": [
        "\n# \u5728\u5404\u79cdtoy\u6570\u636e\u96c6\u4e0a\u6bd4\u8f83\u7528\u4e8e\u5b64\u7acb\u70b9\u68c0\u6d4b\u7684\u5f02\u5e38\u68c0\u6d4b\u7b97\u6cd5\n\n\n\u8fd9\u4e2a\u4f8b\u5b50\u5c55\u793a\u4e86\u4e8c\u7ef4\u6570\u636e\u96c6\u4e0a\u4e0d\u540c\u5f02\u5e38\u68c0\u6d4b\u7b97\u6cd5\u7684\u7279\u70b9\u3002\u6570\u636e\u96c6\u5305\u542b\u4e00\u4e2a\u6216\u4e24\u4e2a\u6a21\u5f0f(\u9ad8\u5bc6\u5ea6\u533a\u57df)\n\u6765\u8bf4\u660e\u7b97\u6cd5\u5904\u7406\u591a\u6a21\u6001\u6570\u636e(multimodal data)\u7684\u80fd\u529b\u3002\n\n\u5bf9\u4e8e\u6bcf\u4e2a\u6570\u636e\u96c6\uff0c15%\u7684\u6837\u672c\u4ee5\u968f\u673a\u5747\u5300\u566a\u58f0\u7684\u5f62\u5f0f\u4ea7\u751f\u3002\u8fd9\u4e2a\u6bd4\u4f8b\u662f\u7528\u4e8e OneClassSVM \u7684 nu \u53c2\u6570\u548c\n\u5176\u4ed6\u5b64\u7acb\u70b9\u68c0\u6d4b\u7b97\u6cd5\u7684\u6c61\u67d3\u53c2\u6570\u7684\u53d6\u503c\u3002\u9664\u5c40\u90e8\u79bb\u7fa4\u56e0\u5b50(Local Outlier Factor\uff0cLOF)\u5916\uff0c\n\u6b63\u5e38\u503c\u548c\u5f02\u5e38\u503c\u4e4b\u95f4\u7684\u51b3\u7b56\u8fb9\u754c\u4ee5\u9ed1\u8272\u663e\u793a\uff0c\n\u56e0\u4e3a\u5b83\u5728\u7528\u4e8e\u5f02\u5e38\u503c\u68c0\u6d4b\u65f6\u6ca1\u6709\u7528\u4e8e\u65b0\u6570\u636e\u7684\u9884\u6d4b\u65b9\u6cd5\u3002\n\n\u4f17\u6240\u5468\u77e5\uff0c :class:`sklearn.svm.OneClassSVM` \u5bf9outliers\u5f88\u654f\u611f\uff0c\u56e0\u6b64\u5bf9\u4e8eoutliers\u7684\u68c0\u6d4b\u6548\u679c\u4e0d\u592a\u597d\u3002\n\u5f53\u8bad\u7ec3\u96c6\u4e0d\u53d7outliers\u6c61\u67d3\u65f6\uff0c\u8fd9\u79cd\u4f30\u8ba1\u5668\u6700\u9002\u5408\u4e8e\u65b0\u5947\u70b9\u68c0\u6d4b(novelty detection)\u3002\n\u4e5f\u5c31\u662f\u8bf4\uff0c\u5728 \u9ad8\u7ef4 \u6216 \u6ca1\u6709\u4efb\u4f55\u5173\u4e8e\u5185\u5728\u6570\u636e\u7684\u5206\u5e03\u7684\u5047\u8bbe \u7684\u60c5\u51b5\u4e0b\uff0c\n\u5b64\u7acb\u70b9\u7684\u68c0\u6d4b(outlier detection)\u662f\u975e\u5e38\u5177\u6709\u6311\u6218\u6027\u7684\uff0c\nOne-class SVM \u5728\u8fd9\u4e9b\u60c5\u51b5\u4e0b\u53ef\u80fd\u4f1a\u6839\u636e\u5176\u8d85\u53c2\u6570\u7684\u503c\u7ed9\u51fa\u6709\u7528\u7684\u7ed3\u679c\u3002\n\n:class:`sklearn.covariance.EllipticEnvelope` \u5047\u8bbe\u6570\u636e\u662f\u670d\u4ece\u9ad8\u65af\u5206\u5e03\u7684\uff0c\u5e76\u5b66\u4e60\u4e00\u4e2a\u692d\u5706\u5206\u5e03\u3002\n\u56e0\u6b64\uff0c\u5f53\u6570\u636e\u4e0d\u662f\u5355\u5cf0\u65f6(unimodal)\uff0c\u5b83\u5c31\u4f1a\u9000\u5316(degrade)\u3002\n\u4f46\u662f\uff0c\u8bf7\u6ce8\u610f\uff0c\u6b64estimator\u5bf9outliers\u662frobust\u7684\u3002\n\n:class:`sklearn.ensemble.IsolationForest` \u548c :class:`sklearn.neighbors.LocalOutlierFactor` \n\u4f3c\u4e4e\u5728\u591a\u6a21\u5f0f(multi-modal)\u6570\u636e\u96c6\u4e0a\u8868\u73b0\u826f\u597d\u3002 :class:`sklearn.neighbors.LocalOutlierFactor` \n\u5728\u7b2c\u4e09\u4e2a\u6570\u636e\u96c6\u4e2d\u663e\u793a\u4e86\u6bd4\u5176\u4ed6\u4f30\u8ba1\u5668\u66f4\u4f18\u8d8a\u7684\u4f18\u70b9\uff0c\u5176\u4e2d\u4e24\u79cd\u6a21\u5f0f\u5177\u6709\u4e0d\u540c\u7684\u5bc6\u5ea6\u3002\n\u8fd9\u4e00\u4f18\u52bf\u662f\u7531 local aspect of LOF \u6765\u89e3\u91ca\u7684\uff0c\u8fd9\u610f\u5473\u7740\u5b83\u53ea\u5c06\u4e00\u4e2a\u6837\u672c\u7684\u5f02\u5e38\u5206\u6570(score of abnormality)\n\u4e0e\u5176\u90bb\u5c45\u7684\u5206\u6570\u8fdb\u884c\u6bd4\u8f83\u3002\n\n\u6700\u540e\uff0c\u5bf9\u4e8e\u6700\u540e\u4e00\u4e2a\u6570\u636e\u96c6\uff0c\u5f88\u96be\u8bf4\u4e00\u4e2a\u6837\u672c\u6bd4\u53e6\u4e00\u4e2a\u6837\u672c\u66f4\u4e0d\u6b63\u5e38(abnormal)\uff0c\u56e0\u4e3a\u5b83\u4eec\u5728\u8d85\u7acb\u65b9\u4f53(hypercube)\u4e2d\u5747\u5300\u5206\u5e03\u3002\n\u9664\u4e86 :class:`sklearn.svm.OneClassSVM` \u6709\u70b9\u8fc7\u62df\u5408\u5916\uff0c\u6240\u6709\u4f30\u8ba1\u5668\u90fd\u7ed9\u51fa\u4e86\u5f88\u597d\u7684\u89e3\u51b3\u65b9\u6848\u3002\n\u5728\u8fd9\u79cd\u60c5\u51b5\u4e0b\uff0c\u66f4\u4ed4\u7ec6\u5730\u89c2\u5bdf\u6837\u672c\u7684\u5f02\u5e38\u5206\u6570(scores of abnormality of the samples)\u662f\u660e\u667a\u7684\uff0c\n\u56e0\u4e3a\u4e00\u4e2a\u597d\u7684\u4f30\u8ba1\u5668\u5e94\u8be5\u4e3a\u6240\u6709\u6837\u672c\u5206\u914d\u76f8\u4f3c\u7684\u5206\u6570\u3002\n\n\u867d\u7136\u8fd9\u4e2a\u4f8b\u5b50\u7ed9\u51fa\u4e86\u4e00\u4e9b\u5173\u4e8e\u8fd9\u4e9b\u7b97\u6cd5\u7684\u76f4\u89c9\uff0c\u4f46\u8fd9\u79cd\u76f4\u89c9\u53ef\u80fd\u4e0d\u9002\u7528\u4e8e\u975e\u5e38\u9ad8\u7ef4\u7684\u6570\u636e(very high dimensional data)\u3002\n\n\u6700\u540e\uff0c\u8bf7\u6ce8\u610f\uff0c\u8fd9\u4e9b\u6a21\u578b\u7684\u53c2\u6570\u662f\u5728\u8fd9\u91cc\u7cbe\u5fc3\u6311\u9009\u7684\uff0c\u4f46\u5b9e\u9645\u4e0a\u5b83\u4eec\u9700\u8981\u8c03\u6574\u3002\n\u5728\u6ca1\u6709\u6807\u7b7e\u6570\u636e\u7684\u60c5\u51b5\u4e0b\uff0c\u8fd9\u4e2a\u95ee\u9898\u662f\u5b8c\u5168\u6ca1\u6709\u76d1\u7763\u7684\uff0c\u56e0\u6b64\u6a21\u578b\u7684\u9009\u62e9\u53ef\u80fd\u662f\u4e00\u4e2a\u6311\u6218\u3002\n\n"
      ]
    },
    {
      "cell_type": "code",
      "execution_count": null,
      "metadata": {
        "collapsed": false
      },
      "outputs": [],
      "source": [
        "# Author: Alexandre Gramfort <alexandre.gramfort@inria.fr>\n#         Albert Thomas <albert.thomas@telecom-paristech.fr>\n# License: BSD 3 clause\n# \u7ffb\u8bd1\u8005 \uff1a Antares\u535a\u58eb\n\nimport time\n\nimport numpy as np\nimport matplotlib\nimport matplotlib.pyplot as plt\n\nfrom sklearn import svm\nfrom sklearn.datasets import make_moons, make_blobs\nfrom sklearn.covariance import EllipticEnvelope\nfrom sklearn.ensemble import IsolationForest\nfrom sklearn.neighbors import LocalOutlierFactor\n\nprint(__doc__)\n\nmatplotlib.rcParams['contour.negative_linestyle'] = 'solid'\n\n# \u6837\u672c\u8bbe\u7f6e\n\nn_samples = 300\noutliers_fraction = 0.15\nn_outliers = int(outliers_fraction * n_samples)\nn_inliers = n_samples - n_outliers\n\n# \u5b9a\u4e49\u8981\u53c2\u4e0e\u6bd4\u8f83\u7684 outlier/anomaly \u68c0\u6d4b\u7b97\u6cd5\n\nanomaly_algorithms = [\n    (\"Robust covariance\", EllipticEnvelope(contamination=outliers_fraction)),\n    (\"One-Class SVM\", svm.OneClassSVM(nu=outliers_fraction, kernel=\"rbf\",\n                                      gamma=0.1)),\n    (\"Isolation Forest\", IsolationForest(behaviour='new',\n                                         contamination=outliers_fraction,\n                                         random_state=42)),\n    (\"Local Outlier Factor\", LocalOutlierFactor(\n        n_neighbors=35, contamination=outliers_fraction))]\n\n# \u5b9a\u4e49\u6570\u636e\u96c6\n\nblobs_params = dict(random_state=0, n_samples=n_inliers, n_features=2)\ndatasets = [\n    make_blobs(centers=[[0, 0], [0, 0]], cluster_std=0.5,\n               **blobs_params)[0],\n    make_blobs(centers=[[2, 2], [-2, -2]], cluster_std=[0.5, 0.5],\n               **blobs_params)[0],\n    make_blobs(centers=[[2, 2], [-2, -2]], cluster_std=[1.5, .3],\n               **blobs_params)[0],\n    4. * (make_moons(n_samples=n_samples, noise=.05, random_state=0)[0] -\n          np.array([0.5, 0.25])),\n    14. * (np.random.RandomState(42).rand(n_samples, 2) - 0.5)]\n\n# \u5728\u7ed9\u5b9a\u7684\u8bbe\u7f6e\u4e0b\u6bd4\u8f83\u7ed9\u5b9a\u7684\u5206\u7c7b\u5668\n\nxx, yy = np.meshgrid(np.linspace(-7, 7, 150),\n                     np.linspace(-7, 7, 150))\n\nplt.figure(figsize=(len(anomaly_algorithms) * 2 + 3, 12.5))\nplt.subplots_adjust(left=.02, right=.98, bottom=.001, top=.96, wspace=.05,\n                    hspace=.01)\n\nplot_num = 1\nrng = np.random.RandomState(42)\n\nfor i_dataset, X in enumerate(datasets):\n    # \u6dfb\u52a0 outliers\n    X = np.concatenate([X, rng.uniform(low=-6, high=6,\n                       size=(n_outliers, 2))], axis=0)\n\n    for name, algorithm in anomaly_algorithms:\n        t0 = time.time()\n        algorithm.fit(X)\n        t1 = time.time()\n        plt.subplot(len(datasets), len(anomaly_algorithms), plot_num)\n        if i_dataset == 0:\n            plt.title(name, size=18)\n\n        # \u62df\u5408\u6570\u636e \u5e76 \u6807\u8bb0 outliers\n        if name == \"Local Outlier Factor\":\n            y_pred = algorithm.fit_predict(X)\n        else:\n            y_pred = algorithm.fit(X).predict(X)\n\n        # plot the levels lines and the points\n        if name != \"Local Outlier Factor\":  # LOF \u6ca1\u6709\u5b9e\u73b0 predict\n            Z = algorithm.predict(np.c_[xx.ravel(), yy.ravel()])\n            Z = Z.reshape(xx.shape)\n            plt.contour(xx, yy, Z, levels=[0], linewidths=2, colors='black')\n\n        colors = np.array(['#377eb8', '#ff7f00'])\n        plt.scatter(X[:, 0], X[:, 1], s=10, color=colors[(y_pred + 1) // 2])\n\n        plt.xlim(-7, 7)\n        plt.ylim(-7, 7)\n        plt.xticks(())\n        plt.yticks(())\n        plt.text(.99, .01, ('%.2fs' % (t1 - t0)).lstrip('0'),\n                 transform=plt.gca().transAxes, size=15,\n                 horizontalalignment='right')\n        plot_num += 1\n\nplt.show()"
      ]
    }
  ],
  "metadata": {
    "kernelspec": {
      "display_name": "Python 3",
      "language": "python",
      "name": "python3"
    },
    "language_info": {
      "codemirror_mode": {
        "name": "ipython",
        "version": 3
      },
      "file_extension": ".py",
      "mimetype": "text/x-python",
      "name": "python",
      "nbconvert_exporter": "python",
      "pygments_lexer": "ipython3",
      "version": "3.6.4"
    }
  },
  "nbformat": 4,
  "nbformat_minor": 0
}