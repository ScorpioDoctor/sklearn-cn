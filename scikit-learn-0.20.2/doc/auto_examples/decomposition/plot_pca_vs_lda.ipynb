{
  "cells": [
    {
      "cell_type": "code",
      "execution_count": null,
      "metadata": {
        "collapsed": false
      },
      "outputs": [],
      "source": [
        "%matplotlib inline"
      ]
    },
    {
      "cell_type": "markdown",
      "metadata": {},
      "source": [
        "\n# LDA\u4e0ePCA\u5728\u9e22\u5c3e\u82b1\u6570\u636e\u96c6\u4e0a\u7684\u4e8c\u7ef4\u6295\u5f71\u7684\u6bd4\u8f83\n\n\n\u9e22\u5c3e\u82b1(Iris)\u6570\u636e\u96c6\u4ee3\u8868\u4e863\u79cd\u9e22\u5c3e\u82b1(Setosa\u3001Versicolour\u548cVirica)\u76844\u4e2a\u5c5e\u6027\uff1a\n\u843c\u7247(sepal)\u957f\u5ea6\u3001\u843c\u7247\u5bbd\u5ea6\u3001\u82b1\u74e3(petal)\u957f\u5ea6\u548c\u82b1\u74e3\u5bbd\u5ea6\u3002\n\n\u5e94\u7528\u4e8e\u8be5\u6570\u636e\u7684\u4e3b\u6210\u5206\u5206\u6790(PCA)\u786e\u5b9a\u4e86\u5c5e\u6027(\u4e3b\u6210\u5206\uff0c\u6216\u7279\u5f81\u7a7a\u95f4\u4e2d\u7684\u65b9\u5411)\u7684\u7ec4\u5408\uff0c\n\u8fd9\u4e9b\u5c5e\u6027\u5728\u6570\u636e\u4e2d\u7684\u65b9\u5dee\u6700\u5927\u3002\u5728\u8fd9\u91cc\uff0c\u6211\u4eec\u4ee5\u524d\u4e24\u4e2a\u4e3b\u6210\u5206\u7ed8\u5236\u4e86\u4e0d\u540c\u7684\u6837\u672c\u3002\n\n\u7ebf\u6027\u5224\u522b\u5206\u6790(LDA)\u8bd5\u56fe\u8bc6\u522b **\u7c7b\u95f4\u5dee\u5f02\u6700\u5927** \u7684\u5c5e\u6027\u3002\n\u7279\u522b\u662f\uff0c\u4e0ePCA\u76f8\u6bd4\uff0cLDA\u662f\u4e00\u79cd\u76d1\u7763\u65b9\u6cd5\uff0c\u4f7f\u7528\u5df2\u77e5\u7684\u7c7b\u6807\u7b7e\u3002\n\n\u7ffb\u8bd1\u8005\uff1ahttp://www.studyai.com/antares\n\n"
      ]
    },
    {
      "cell_type": "code",
      "execution_count": null,
      "metadata": {
        "collapsed": false
      },
      "outputs": [],
      "source": [
        "print(__doc__)\n\nimport matplotlib.pyplot as plt\n\nfrom sklearn import datasets\nfrom sklearn.decomposition import PCA\nfrom sklearn.discriminant_analysis import LinearDiscriminantAnalysis\n\niris = datasets.load_iris()\n\nX = iris.data\ny = iris.target\ntarget_names = iris.target_names\n\npca = PCA(n_components=2)\nX_r = pca.fit(X).transform(X)\n\nlda = LinearDiscriminantAnalysis(n_components=2)\nX_r2 = lda.fit(X, y).transform(X)\n\n# Percentage of variance explained for each components\nprint('explained variance ratio (first two components): %s'\n      % str(pca.explained_variance_ratio_))\n\nplt.figure()\ncolors = ['navy', 'turquoise', 'darkorange']\nlw = 2\n\nfor color, i, target_name in zip(colors, [0, 1, 2], target_names):\n    plt.scatter(X_r[y == i, 0], X_r[y == i, 1], color=color, alpha=.8, lw=lw,\n                label=target_name)\nplt.legend(loc='best', shadow=False, scatterpoints=1)\nplt.title('PCA of IRIS dataset')\n\nplt.figure()\nfor color, i, target_name in zip(colors, [0, 1, 2], target_names):\n    plt.scatter(X_r2[y == i, 0], X_r2[y == i, 1], alpha=.8, color=color,\n                label=target_name)\nplt.legend(loc='best', shadow=False, scatterpoints=1)\nplt.title('LDA of IRIS dataset')\n\nplt.show()"
      ]
    }
  ],
  "metadata": {
    "kernelspec": {
      "display_name": "Python 3",
      "language": "python",
      "name": "python3"
    },
    "language_info": {
      "codemirror_mode": {
        "name": "ipython",
        "version": 3
      },
      "file_extension": ".py",
      "mimetype": "text/x-python",
      "name": "python",
      "nbconvert_exporter": "python",
      "pygments_lexer": "ipython3",
      "version": "3.6.4"
    }
  },
  "nbformat": 4,
  "nbformat_minor": 0
}