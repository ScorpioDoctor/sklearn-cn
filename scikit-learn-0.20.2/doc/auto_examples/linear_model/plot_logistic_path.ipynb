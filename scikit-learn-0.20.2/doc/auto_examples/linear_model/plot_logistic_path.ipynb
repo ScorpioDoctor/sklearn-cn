{
  "cells": [
    {
      "cell_type": "code",
      "execution_count": null,
      "metadata": {
        "collapsed": false
      },
      "outputs": [],
      "source": [
        "%matplotlib inline"
      ]
    },
    {
      "cell_type": "markdown",
      "metadata": {},
      "source": [
        "\n# L1- Logistic \u56de\u5f52\u7684\u6b63\u5219\u5316\u8def\u5f84\n\n\n\n\u5728\u4e00\u4e2a\u6765\u81ea\u4e8eIris\u6570\u636e\u96c6\u7684\u4e8c\u5206\u7c7b\u95ee\u9898\u4e0a \u8bad\u7ec3\u5e26\u6709L1\u60e9\u7f5a\u7684logistic\u56de\u5f52\u6a21\u578b\u3002\n\n\u6a21\u578b\u6309\u7167\u4ece\u6700\u5f3a\u7684\u6b63\u5219\u5316\u5230\u6700\u5f31\u7684\u6b63\u5219\u5316\u8fdb\u884c\u6392\u5e8f\u3002\u6a21\u578b\u76844\u4e2a\u7cfb\u6570\u88ab\u6536\u96c6\u8d77\u6765\u5e76\u4f5c\u4e3a\u6b63\u5219\u5316\u8def\u5f84\n(regularization path)\u7ed8\u5236\u51fa\u6765:\u5728\u56fe\u50cf\u7684\u5de6\u8fb9(\u5f3a\u6b63\u5219\u5316)\uff0c\u6240\u6709\u7684\u7cfb\u6570\u90fd\u662f0\u3002\u5f53\u6b63\u5219\u5316\n\u9010\u6e10\u53d8\u5f97\u677e\u5f1b\u65f6\uff0c\u6a21\u578b\u7684\u7cfb\u6570\u5c31\u80fd\u591f\u4e00\u4e2a\u63a5\u4e00\u4e2a\u7684\u83b7\u5f97\u975e\u96f6\u503c\u3002\n\n\u8fd9\u91cc\u6211\u4eec\u9009\u62e9\u4e86 SAGA \u6c42\u89e3\u5668\uff0c\u56e0\u4e3a\u5b83\u53ef\u4ee5\u9ad8\u6548\u7684\u4f18\u5316\u5e26\u6709\u975e\u5e73\u6ed1\uff0c\u7a00\u758f\u8bf1\u5bfc\u7684L1\u60e9\u7f5a\u9879\u7684Logistic\u56de\u5f52\u635f\u5931 \u3002\n\n\u53e6\u5916\u9700\u8981\u6ce8\u610f\u7684\u662f \u6211\u4eec\u4e3a tolerance(tol) \u8bbe\u7f6e\u4e00\u4e2a\u8f83\u4f4e\u7684\u503c\u6765\u786e\u4fdd\u5728\u6536\u96c6\u7cfb\u6570\u4e4b\u524d\u6a21\u578b\u5df2\u7ecf\u6536\u655b\u3002\n\n\u6211\u4eec\u4e5f\u4f7f\u7528\u4e86 warm_start=True , \u8fd9\u610f\u5473\u7740 \u6a21\u578b\u7684\u7cfb\u6570\u88ab\u91cd\u590d\u4f7f\u7528\u6765\u521d\u59cb\u5316\u4e0b\u4e00\u4e2a\u6a21\u578b\u4ece\u800c\u52a0\u901f\u5168\u8def\u5f84(full-path)\u7684\u8ba1\u7b97\u3002\n\n\n"
      ]
    },
    {
      "cell_type": "code",
      "execution_count": null,
      "metadata": {
        "collapsed": false
      },
      "outputs": [],
      "source": [
        "print(__doc__)\n\n# Author: Alexandre Gramfort <alexandre.gramfort@inria.fr>\n# License: BSD 3 clause\n# \u7ffb\u8bd1\u8005 \uff1a Antares@studyai.com\n\nfrom time import time\nimport numpy as np\nimport matplotlib.pyplot as plt\n\nfrom sklearn import linear_model\nfrom sklearn import datasets\nfrom sklearn.svm import l1_min_c\n\niris = datasets.load_iris()\nX = iris.data\ny = iris.target\n\n# \u9e22\u5c3e\u82b1\u6570\u636e\u96c6\u603b\u5171\u67093\u4e2a\u7c7b\uff0c\u8fd9\u91cc\u53ea\u4fdd\u7559\u524d\u4e24\u4e2a\u7c7by=0\uff0c1\n# \u5254\u9664\u7b2c\u4e09\u4e2a\u7c7b\u7684\u6837\u672c\u548c\u7c7b\u6807\u7b7e\nX = X[y != 2]\ny = y[y != 2]\n\nX /= X.max()  # \u5f52\u4e00\u5316 X \u6765\u52a0\u901f\u6536\u655b\n\n# #############################################################################\n# Demo path functions\n\ncs = l1_min_c(X, y, loss='log') * np.logspace(0, 7, 16)\n\n\nprint(\"Computing regularization path ...\")\nstart = time()\nclf = linear_model.LogisticRegression(penalty='l1', solver='saga',\n                                      tol=1e-6, max_iter=int(1e6),\n                                      warm_start=True)\ncoefs_ = []\nfor c in cs:\n    clf.set_params(C=c)\n    clf.fit(X, y)\n    coefs_.append(clf.coef_.ravel().copy())\nprint(\"This took %0.3fs\" % (time() - start))\n\ncoefs_ = np.array(coefs_)\nplt.plot(np.log10(cs), coefs_, marker='o')\nymin, ymax = plt.ylim()\nplt.xlabel('log(C)')\nplt.ylabel('Coefficients')\nplt.title('Logistic Regression Path')\nplt.axis('tight')\nplt.show()"
      ]
    }
  ],
  "metadata": {
    "kernelspec": {
      "display_name": "Python 3",
      "language": "python",
      "name": "python3"
    },
    "language_info": {
      "codemirror_mode": {
        "name": "ipython",
        "version": 3
      },
      "file_extension": ".py",
      "mimetype": "text/x-python",
      "name": "python",
      "nbconvert_exporter": "python",
      "pygments_lexer": "ipython3",
      "version": "3.6.4"
    }
  },
  "nbformat": 4,
  "nbformat_minor": 0
}