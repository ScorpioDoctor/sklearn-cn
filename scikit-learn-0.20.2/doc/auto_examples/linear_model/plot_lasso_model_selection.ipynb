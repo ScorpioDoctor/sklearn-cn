{
  "cells": [
    {
      "cell_type": "code",
      "execution_count": null,
      "metadata": {
        "collapsed": false
      },
      "outputs": [],
      "source": [
        "%matplotlib inline"
      ]
    },
    {
      "cell_type": "markdown",
      "metadata": {},
      "source": [
        "\n===================================================\nLasso \u6a21\u578b\u9009\u62e9: \u4ea4\u53c9\u9a8c\u8bc1 / AIC\u51c6\u5219 / BIC\u51c6\u5219\n===================================================\n\n\u5229\u7528Akaike\u4fe1\u606f\u51c6\u5219(AIC)\u3001Bayes\u4fe1\u606f\u51c6\u5219(BIC)\u548c\u4ea4\u53c9\u9a8c\u8bc1\uff0c\n\u9009\u62e9 `lasso` \u4f30\u8ba1\u5668\u6b63\u5219\u5316\u53c2\u6570 alpha \u7684\u6700\u4f18\u503c\u3002\n\n\u4f7f\u7528 LassoLarsIC \u4f30\u8ba1\u5668\u83b7\u5f97\u7684\u7ed3\u679c \u662f\u57fa\u4e8e AIC/BIC \u51c6\u5219\u7684\u3002\n\n\u57fa\u4e8e\u4fe1\u606f\u51c6\u5219(Information-criterion)\u7684\u6a21\u578b\u9009\u62e9\u662f\u975e\u5e38\u5feb\u901f\u7684\uff0c\u4f46\u662f \u8fd9\u79cd\u65b9\u6cd5\n\u4f9d\u8d56\u4e8e\u5bf9\u81ea\u7531\u5ea6\u7684\u5408\u7406\u4f30\u8ba1\u3002\u800c\u81ea\u7531\u5ea6\u662f \u4ece\u5927\u91cf\u6837\u672c(\u6e10\u8fd1\u7ed3\u679c)\u4ee5\u53ca\u5047\u5b9a\u6a21\u578b\u662f\u6b63\u786e\u7684 \u7684\u524d\u63d0\u4e0b\u5bfc\u51fa\u7684,\n\u4e5f\u5c31\u662f\u8bf4 \u4f60\u7684\u6570\u636e\u6070\u597d(\u5b9e\u9645\u4e0a)\u5c31\u662f\u4f60\u6240\u9009\u62e9\u7684\u6a21\u578b\u4ea7\u751f\u7684\u3002\n\u5f53\u95ee\u9898\u6761\u4ef6\u4e0d\u597d\u65f6(\u7279\u5f81\u591a\u4e8e\u6837\u672c)\uff0c\u8fd9\u79cd\u65b9\u6cd5\u4e5f\u4f1a\u5d29\u6e83\u3002\n\n\u5bf9\u4e8e\u4ea4\u53c9\u9a8c\u8bc1\uff0c\u6211\u4eec\u4f7f\u75282\u79cd\u7b97\u6cd5\u572820-fold\u4e0a\u8ba1\u7b97Lasso\u8def\u5f84(path)\uff1a\n\u5750\u6807\u4e0b\u964d(\u7531LassoCV\u7c7b\u5b9e\u73b0)\u548cLars(\u6700\u5c0f\u89d2\u56de\u5f52)(\u7531LassoLarsCV\u7c7b\u5b9e\u73b0)\u3002\n\u8fd9\u4e24\u79cd\u7b97\u6cd5\u7ed9\u51fa\u7684\u7ed3\u679c\u5927\u81f4\u76f8\u540c\u3002\u5b83\u4eec\u5728\u6267\u884c\u901f\u5ea6\u548c\u6570\u503c\u8bef\u5dee\u6765\u6e90\u65b9\u9762\u5b58\u5728\u5dee\u5f02\u3002\n\nLars\u53ea\u4e3a\u8def\u5f84\u4e2d\u7684\u6bcf\u4e2a\u626d\u7ed3(kink)\u8ba1\u7b97\u5176\u8def\u5f84\u89e3(path solution)\u3002\n\u56e0\u6b64\uff0c\u5f53\u53ea\u6709\u5f88\u5c11\u7684\u626d\u7ed3\u65f6\uff0c\u5b83\u662f\u975e\u5e38\u6709\u6548\u7684\uff0c\u5982\u679c\u6709\u5f88\u5c11\u7684\u7279\u5f81\u6216\u6837\u672c\u90a3\u4e48\u626d\u7ed3\u5c31\u4f1a\u5f88\u5c11\u3002\n\u6b64\u5916\uff0c\u5b83\u80fd\u591f\u8ba1\u7b97\u5b8c\u6574\u7684\u8def\u5f84\u800c\u4e0d\u8bbe\u7f6e\u4efb\u4f55\u5143\u53c2\u6570\u3002\n\u76f8\u53cd\uff0c\u5750\u6807\u4e0b\u964d\u6cd5\u8ba1\u7b97\u9884\u5148\u6307\u5b9a\u7684\u7f51\u683c\u4e0a\u7684\u8def\u5f84\u70b9(\u8fd9\u91cc\u6211\u4eec\u4f7f\u7528\u9ed8\u8ba4\u503c)\u3002\n\u56e0\u6b64\uff0c\u5982\u679c\u7f51\u683c\u70b9\u7684\u6570\u76ee\u5c0f\u4e8e\u8def\u5f84\u4e2d\u7684\u626d\u7ed3\u6570\uff0c\u5750\u6807\u4e0b\u964d\u6cd5\u5219\u6548\u7387\u66f4\u9ad8\u3002\n\u5982\u679c\u7279\u5f81\u7684\u6570\u91cf\u771f\u7684\u975e\u5e38\u591a\uff0c\u5e76\u4e14\u6709\u8db3\u591f\u7684\u6837\u672c\u6765\u9009\u62e9\u5927\u91cf\u7684\u7279\u6027\uff0c\u90a3\u4e48\u8fd9\u6837\u7684\u7b56\u7565\u53ef\u80fd\u4f1a\u5f88\u6709\u8da3\u3002\n\u5728\u6570\u503c\u8bef\u5dee\u65b9\u9762\uff0c\u5bf9\u4e8e\u9ad8\u5ea6\u76f8\u5173\u7684\u53d8\u91cf\uff0cLars\u4f1a\u79ef\u7d2f\u66f4\u591a\u7684\u8bef\u5dee\uff0c\u800c\u5750\u6807\u4e0b\u964d\u7b97\u6cd5\u53ea\u4f1a\u5bf9\u7f51\u683c\u4e0a\u7684\u8def\u5f84\u8fdb\u884c\u91c7\u6837\u3002\n\n\u6ce8\u610falpha\u7684\u6700\u4f18\u503c\u5728\u6bcf\u4e00\u4e2afold\u4e0a\u662f\u5982\u4f55\u53d8\u5316\u7684\u3002\u8fd9\u8bf4\u660e\u4e86\u4e3a\u4ec0\u4e48\u5728\u8bd5\u56fe\u8bc4\u4f30\u901a\u8fc7\u4ea4\u53c9\u9a8c\u8bc1\u9009\u62e9\u53c2\u6570\u7684\u65b9\u6cd5\u7684\u6027\u80fd\u65f6\uff0c\n\u5d4c\u5957\u4ea4\u53c9\u9a8c\u8bc1\u662f\u5fc5\u8981\u7684\uff1a\u5bf9\u4e8e\u672a\u89c1\u6570\u636e\uff0c\u8fd9\u79cd\u53c2\u6570\u9009\u62e9\u53ef\u80fd\u4e0d\u662f\u6700\u4f18\u7684\u3002\n\n"
      ]
    },
    {
      "cell_type": "code",
      "execution_count": null,
      "metadata": {
        "collapsed": false
      },
      "outputs": [],
      "source": [
        "print(__doc__)\n\n# Author: Olivier Grisel, Gael Varoquaux, Alexandre Gramfort\n# License: BSD 3 clause\n# \u7ffb\u8bd1\u8005\uff1astudyai.com\u7684Antares\u535a\u58eb\n\n\nimport time\n\nimport numpy as np\nimport matplotlib.pyplot as plt\n\nfrom sklearn.linear_model import LassoCV, LassoLarsCV, LassoLarsIC\nfrom sklearn import datasets\n\ndiabetes = datasets.load_diabetes()\nX = diabetes.data\ny = diabetes.target\n\nrng = np.random.RandomState(42)\nX = np.c_[X, rng.randn(X.shape[0], 14)]  # \u6dfb\u52a0\u4e00\u4e9b\u574f\u7279\u5f81\n\n# normalize data as done by Lars to allow for comparison\nX /= np.sqrt(np.sum(X ** 2, axis=0))\n\n# #############################################################################\n# LassoLarsIC: \u4f7f\u7528 BIC/AIC \u51c6\u5219\u7684\u6700\u5c0f\u89d2\u56de\u5f52(Lars)\n\nmodel_bic = LassoLarsIC(criterion='bic')\nt1 = time.time()\nmodel_bic.fit(X, y)\nt_bic = time.time() - t1\nalpha_bic_ = model_bic.alpha_\n\nmodel_aic = LassoLarsIC(criterion='aic')\nmodel_aic.fit(X, y)\nalpha_aic_ = model_aic.alpha_\n\n\ndef plot_ic_criterion(model, name, color):\n    alpha_ = model.alpha_\n    alphas_ = model.alphas_\n    criterion_ = model.criterion_\n    plt.plot(-np.log10(alphas_), criterion_, '--', color=color,\n             linewidth=3, label='%s criterion' % name)\n    plt.axvline(-np.log10(alpha_), color=color, linewidth=3,\n                label='alpha: %s estimate' % name)\n    plt.xlabel('-log(alpha)')\n    plt.ylabel('criterion')\n\nplt.figure()\nplot_ic_criterion(model_aic, 'AIC', 'b')\nplot_ic_criterion(model_bic, 'BIC', 'r')\nplt.legend()\nplt.title('Information-criterion for model selection (training time %.3fs)' % t_bic)\n\n# #############################################################################\n# LassoCV: \u68af\u5ea6\u4e0b\u964d\u6cd5(coordinate descent)\n\n# \u8ba1\u7b97\u6b63\u5219\u5316\u8def\u5f84\nprint(\"Computing regularization path using the coordinate descent lasso...\")\nt1 = time.time()\nmodel = LassoCV(cv=20).fit(X, y)\nt_lasso_cv = time.time() - t1\n\n# \u5c55\u793a\u7ed3\u679c\nm_log_alphas = -np.log10(model.alphas_)\n\nplt.figure()\nymin, ymax = 2300, 3800\nplt.plot(m_log_alphas, model.mse_path_, ':')\nplt.plot(m_log_alphas, model.mse_path_.mean(axis=-1), 'k',\n         label='Average across the folds', linewidth=2)\nplt.axvline(-np.log10(model.alpha_), linestyle='--', color='k',\n            label='alpha: CV estimate')\n\nplt.legend()\n\nplt.xlabel('-log(alpha)')\nplt.ylabel('Mean square error')\nplt.title('Mean square error on each fold: coordinate descent '\n          '(train time: %.2fs)' % t_lasso_cv)\nplt.axis('tight')\nplt.ylim(ymin, ymax)\n\n# #############################################################################\n# LassoLarsCV: \u6700\u5c0f\u89d2\u56de\u5f52(least angle regression)\n\n# \u8ba1\u7b97\u6b63\u5219\u5316\u8def\u5f84\nprint(\"Computing regularization path using the Lars lasso...\")\nt1 = time.time()\nmodel = LassoLarsCV(cv=20).fit(X, y)\nt_lasso_lars_cv = time.time() - t1\n\n# \u5c55\u793a\u7ed3\u679c\nm_log_alphas = -np.log10(model.cv_alphas_)\n\nplt.figure()\nplt.plot(m_log_alphas, model.mse_path_, ':')\nplt.plot(m_log_alphas, model.mse_path_.mean(axis=-1), 'k',\n         label='Average across the folds', linewidth=2)\nplt.axvline(-np.log10(model.alpha_), linestyle='--', color='k',\n            label='alpha CV')\nplt.legend()\n\nplt.xlabel('-log(alpha)')\nplt.ylabel('Mean square error')\nplt.title('Mean square error on each fold: Lars (train time: %.2fs)'\n          % t_lasso_lars_cv)\nplt.axis('tight')\nplt.ylim(ymin, ymax)\n\nplt.show()"
      ]
    }
  ],
  "metadata": {
    "kernelspec": {
      "display_name": "Python 3",
      "language": "python",
      "name": "python3"
    },
    "language_info": {
      "codemirror_mode": {
        "name": "ipython",
        "version": 3
      },
      "file_extension": ".py",
      "mimetype": "text/x-python",
      "name": "python",
      "nbconvert_exporter": "python",
      "pygments_lexer": "ipython3",
      "version": "3.6.4"
    }
  },
  "nbformat": 4,
  "nbformat_minor": 0
}