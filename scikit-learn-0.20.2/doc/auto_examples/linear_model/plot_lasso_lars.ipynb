{
  "cells": [
    {
      "cell_type": "code",
      "execution_count": null,
      "metadata": {
        "collapsed": false
      },
      "outputs": [],
      "source": [
        "%matplotlib inline"
      ]
    },
    {
      "cell_type": "markdown",
      "metadata": {},
      "source": [
        "\n====================================================\n\u4f7f\u7528\u6700\u5c0f\u89d2\u56de\u5f52(LARS)\u6c42\u89e3\u7684Lasso\u7b97\u6cd5\u7684\u6b63\u5219\u5316\u8def\u5f84\n====================================================\n\n\u5728\u7cd6\u5c3f\u75c5\u6570\u636e\u96c6(diabetes dataset)\u4e0a\uff0c\u4f7f\u7528LARS\u7b97\u6cd5 \u6cbf\u7740\u6b63\u5219\u5316\u53c2\u6570\u8ba1\u7b97 Lasso Path\u3002\n\u6bcf\u79cd\u989c\u8272\u4ee3\u8868\u7cfb\u6570\u5411\u91cf\u7684\u4e0d\u540c\u7279\u5f81, \u5e76\u4e14\u88ab\u5c55\u793a\u4e3a\u6b63\u5219\u5316\u53c2\u6570 alpha \u7684\u4e00\u4e2a\u51fd\u6570\u3002\n\n(\u8bd1\u8005\u6ce8\uff1a\u611f\u89c9\u8fd9\u4e2a\u56fe\u753b\u7684\u6709\u95ee\u9898\uff0c\u6309\u7167\u8fd9\u4e2a\u4ee3\u7801\u7684\u753b\u6cd5\uff0c\u6a2a\u5750\u6807\u53ea\u662f\u7edd\u5bf9\u5f52\u4e00\u5316\u7684\u7cfb\u6570\uff0c\u7eb5\u5750\u6807\u662f\u6ca1\u6709\u7edd\u5bf9\u5f52\u4e00\u5316\u7684\u7cfb\u6570\uff0c\n\u5b83\u6839\u672c\u5c31\u6ca1\u6709\u4ece lars_path \u8fd9\u4e2a\u51fd\u6570\u63a5\u53d7 \u6b63\u5219\u5316\u53c2\u6570 alpha \u7684\u503c\u3002 lars_path\u8fd9\u4e2a\u51fd\u6570\u8fd4\u56de\u7684\u7b2c\u4e00\u4e2a\u5c31\u662f alpha\uff0c\n\u5b83\u5374\u6ca1\u6709\u63a5\u53d7\uff0co(\ufe36\ufe3f\ufe36)o \u5509)\n\n\n"
      ]
    },
    {
      "cell_type": "code",
      "execution_count": null,
      "metadata": {
        "collapsed": false
      },
      "outputs": [],
      "source": [
        "print(__doc__)\n\n# Author: Fabian Pedregosa <fabian.pedregosa@inria.fr>\n#         Alexandre Gramfort <alexandre.gramfort@inria.fr>\n# License: BSD 3 clause\n# \u7ffb\u8bd1\u8005\uff1a Antares \u535a\u58eb\n\n\nimport numpy as np\nimport matplotlib.pyplot as plt\n\nfrom sklearn import linear_model\nfrom sklearn import datasets\n\ndiabetes = datasets.load_diabetes()\nX = diabetes.data\ny = diabetes.target\n\nprint(\"Computing regularization path using the LARS ...\")\n_, _, coefs = linear_model.lars_path(X, y, method='lasso', verbose=True)\n\nxx = np.sum(np.abs(coefs.T), axis=1)\nxx /= xx[-1]\n\nplt.plot(xx, coefs.T)\nymin, ymax = plt.ylim()\nplt.vlines(xx, ymin, ymax, linestyle='dashed')\nplt.xlabel('|coef| / max|coef|')\nplt.ylabel('Coefficients')\nplt.title('LASSO Path')\nplt.axis('tight')\nplt.show()"
      ]
    }
  ],
  "metadata": {
    "kernelspec": {
      "display_name": "Python 3",
      "language": "python",
      "name": "python3"
    },
    "language_info": {
      "codemirror_mode": {
        "name": "ipython",
        "version": 3
      },
      "file_extension": ".py",
      "mimetype": "text/x-python",
      "name": "python",
      "nbconvert_exporter": "python",
      "pygments_lexer": "ipython3",
      "version": "3.6.4"
    }
  },
  "nbformat": 4,
  "nbformat_minor": 0
}