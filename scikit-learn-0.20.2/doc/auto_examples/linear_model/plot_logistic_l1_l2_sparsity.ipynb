{
  "cells": [
    {
      "cell_type": "code",
      "execution_count": null,
      "metadata": {
        "collapsed": false
      },
      "outputs": [],
      "source": [
        "%matplotlib inline"
      ]
    },
    {
      "cell_type": "markdown",
      "metadata": {},
      "source": [
        "\n# L1 \u60e9\u7f5a \u4e0e Logistic\u56de\u5f52\u4e2d\u7684\u7a00\u758f\u6027\n\n\n\u5bf9\u4e0d\u540c\u7684 C \u503c\u91c7\u7528L1\u548cL2\u60e9\u7f5a\u65f6\uff0c\u89e3\u7684\u7a00\u758f\u6027(\u96f6\u7cfb\u6570\u767e\u5206\u6bd4)\u7684\u6bd4\u8f83\u3002\n\u6211\u4eec\u53ef\u4ee5\u770b\u5230\uff0c\u8f83\u5927\u7684 C \u503c\u7ed9\u4e86\u6a21\u578b\u66f4\u591a\u7684\u81ea\u7531\u5ea6\u3002\n\u76f8\u53cd\uff0c\u8f83\u5c0f\u7684 C \u503c\u5bf9\u6a21\u578b\u7684\u7ea6\u675f\u66f4\u5927\u3002 L1\u60e9\u7f5a\u5bfc\u81f4\u66f4\u7a00\u758f\u7684\u89e3\u3002\n\n\u6211\u4eec\u5c068x8\u7684\u6570\u5b57\u56fe\u50cf\u5206\u4e3a\u4e24\u7c7b\uff1a0-4\u5bf95-9\u3002\u53ef\u89c6\u5316\u663e\u793a\u4e86\u6a21\u578b\u7684\u7cfb\u6570\u5728\u4e0d\u65ad\u53d8\u5316\u7684C\u503c\u4e0b\u7684\u56fe\u50cf\u3002\n\n"
      ]
    },
    {
      "cell_type": "code",
      "execution_count": null,
      "metadata": {
        "collapsed": false
      },
      "outputs": [],
      "source": [
        "print(__doc__)\n\n# Authors: Alexandre Gramfort <alexandre.gramfort@inria.fr>\n#          Mathieu Blondel <mathieu@mblondel.org>\n#          Andreas Mueller <amueller@ais.uni-bonn.de>\n# \u7ffb\u8bd1\u8005\uff1astudyai.com \u7684 Antares \u535a\u58eb\n# License: BSD 3 clause\n\nimport numpy as np\nimport matplotlib.pyplot as plt\n\nfrom sklearn.linear_model import LogisticRegression\nfrom sklearn import datasets\nfrom sklearn.preprocessing import StandardScaler\n\ndigits = datasets.load_digits()\n\nX, y = digits.data, digits.target\nX = StandardScaler().fit_transform(X)\n\n# \u628a>4\u7684\u6570\u5b57\u770b\u505a\u4e00\u7c7b\uff0c<=4\u7684\u6570\u5b57\u770b\u505a\u53e6\u4e00\u7c7b\uff0c\n# \u5c31\u53d8\u6210\u4e86\u5178\u578b\u7684\u4e8c\u5206\u7c7b\u95ee\u9898\ny = (y > 4).astype(np.int)\n\n\n# \u8bbe\u7f6e\u6b63\u5219\u5316\u53c2\u6570\nfor i, C in enumerate((1, 0.1, 0.01)):\n    # turn down tolerance for short training time\n    clf_l1_LR = LogisticRegression(C=C, penalty='l1', tol=0.01, solver='saga')\n    clf_l2_LR = LogisticRegression(C=C, penalty='l2', tol=0.01, solver='saga')\n    clf_l1_LR.fit(X, y)\n    clf_l2_LR.fit(X, y)\n\n    coef_l1_LR = clf_l1_LR.coef_.ravel()\n    coef_l2_LR = clf_l2_LR.coef_.ravel()\n\n    # coef_l1_LR contains zeros due to the\n    # L1 sparsity inducing norm\n\n    sparsity_l1_LR = np.mean(coef_l1_LR == 0) * 100\n    sparsity_l2_LR = np.mean(coef_l2_LR == 0) * 100\n\n    print(\"C=%.2f\" % C)\n    print(\"Sparsity with L1 penalty: %.2f%%\" % sparsity_l1_LR)\n    print(\"score with L1 penalty: %.4f\" % clf_l1_LR.score(X, y))\n    print(\"Sparsity with L2 penalty: %.2f%%\" % sparsity_l2_LR)\n    print(\"score with L2 penalty: %.4f\" % clf_l2_LR.score(X, y))\n\n    l1_plot = plt.subplot(3, 2, 2 * i + 1)\n    l2_plot = plt.subplot(3, 2, 2 * (i + 1))\n    if i == 0:\n        l1_plot.set_title(\"L1 penalty\")\n        l2_plot.set_title(\"L2 penalty\")\n\n    l1_plot.imshow(np.abs(coef_l1_LR.reshape(8, 8)), interpolation='nearest',\n                   cmap='binary', vmax=1, vmin=0)\n    l2_plot.imshow(np.abs(coef_l2_LR.reshape(8, 8)), interpolation='nearest',\n                   cmap='binary', vmax=1, vmin=0)\n    plt.text(-8, 3, \"C = %.2f\" % C)\n\n    l1_plot.set_xticks(())\n    l1_plot.set_yticks(())\n    l2_plot.set_xticks(())\n    l2_plot.set_yticks(())\n\nplt.show()"
      ]
    }
  ],
  "metadata": {
    "kernelspec": {
      "display_name": "Python 3",
      "language": "python",
      "name": "python3"
    },
    "language_info": {
      "codemirror_mode": {
        "name": "ipython",
        "version": 3
      },
      "file_extension": ".py",
      "mimetype": "text/x-python",
      "name": "python",
      "nbconvert_exporter": "python",
      "pygments_lexer": "ipython3",
      "version": "3.6.4"
    }
  },
  "nbformat": 4,
  "nbformat_minor": 0
}