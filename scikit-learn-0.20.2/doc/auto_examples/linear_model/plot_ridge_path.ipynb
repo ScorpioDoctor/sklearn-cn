{
  "cells": [
    {
      "cell_type": "code",
      "execution_count": null,
      "metadata": {
        "collapsed": false
      },
      "outputs": [],
      "source": [
        "%matplotlib inline"
      ]
    },
    {
      "cell_type": "markdown",
      "metadata": {},
      "source": [
        "\n# \u7ed8\u5236 \u5cad\u7cfb\u6570\u4f5c\u4e3a\u6b63\u5219\u5316\u91cf\u7684\u51fd\u6570\u7684\u66f2\u7ebf\u56fe\n\n\n\u5c55\u793a\u5171\u7ebf\u6027(collinearity)\u5bf9\u4f30\u8ba1\u5668\u7cfb\u6570\u7684\u5f71\u54cd\n\n.. currentmodule:: sklearn.linear_model\n\n\u8fd9\u4e2a\u4f8b\u5b50\u4e2d\u7528\u5230\u7684\u6a21\u578b\u662f\u5cad\u56de\u5f52\u4f30\u8ba1\u5668(:class:`Ridge`)\u3002\n\u6bcf\u79cd\u989c\u8272\u8868\u793a\u7cfb\u6570\u5411\u91cf\u7684\u4e0d\u540c\u7279\u5f81\uff0c\u5e76\u5c06\u5176\u663e\u793a\u4e3a\u6b63\u5219\u5316\u53c2\u6570\u7684\u51fd\u6570\u3002\n\n\u6b64\u793a\u4f8b\u8fd8\u663e\u793a\u4e86\u5c06\u5cad\u56de\u5f52\u5e94\u7528\u4e8e\u9ad8\u5ea6\u75c5\u6001(ill-conditioned)\u77e9\u9635\u7684\u6709\u6548\u6027\u3002\n\u5bf9\u4e8e\u8fd9\u6837\u7684\u77e9\u9635\uff0c\u76ee\u6807\u53d8\u91cf\u7684\u5fae\u5c0f\u53d8\u5316\u4f1a\u5bfc\u81f4\u8ba1\u7b97\u51fa\u7684\u6743\u91cd\u7684\u5de8\u5927\u5dee\u5f02\u3002\n\u5728\u8fd9\u79cd\u60c5\u51b5\u4e0b\uff0c\u8bbe\u7f6e\u4e00\u5b9a\u7684\u6b63\u5219\u5316(alpha)\u6765\u51cf\u5c11\u8fd9\u79cd\u53d8\u5316(\u566a\u58f0)\u662f\u5f88\u6709\u7528\u7684\u3002\n\n\u5f53 alpha \u5f88\u5927\u65f6\uff0c\u6b63\u5219\u5316\u6548\u5e94\u5c06\u4f1a\u4e3b\u5bfc(\u63a7\u5236)\u5e73\u65b9\u635f\u5931\u51fd\u6570\uff0c\u7ebf\u6027\u6a21\u578b\u7684\u7cfb\u6570\u4e5f\u5c06\u8d8b\u4e8e\u96f6\u3002\n\u5728\u8def\u5f84\u7684\u672b\u5c3e\uff0c\u5f53 alpha \u8d8b\u4e8e\u96f6\u65f6\uff0c\u89e3\u8d8b\u4e8e\u666e\u901a\u6700\u5c0f\u4e8c\u4e58\u89e3\u65f6\uff0c\u7cfb\u6570\u4f1a\u51fa\u73b0\u5f88\u5927\u7684\u632f\u8361\u3002\n\u5728\u5b9e\u8df5\u4e2d\uff0c\u6709\u5fc5\u8981\u5bf9 alpha \u8fdb\u884c\u8c03\u4f18\uff0c\u4ee5\u4fbf\u5728\u4e24\u8005\u4e4b\u95f4\u4fdd\u6301\u5e73\u8861\u3002\n\n\u603b\u5171\u670910\u4e2a\u7cfb\u6570\uff0c10\u6761\u66f2\u7ebf\uff0c\u4ed6\u4eec\u662f\u4e00\u4e00\u5bf9\u5e94\u7684\u3002\n\n"
      ]
    },
    {
      "cell_type": "code",
      "execution_count": null,
      "metadata": {
        "collapsed": false
      },
      "outputs": [],
      "source": [
        "# Author: Fabian Pedregosa -- <fabian.pedregosa@inria.fr>\n# License: BSD 3 clause\n# \u7ffb\u8bd1\u8005\uff1astudyai.com\u7684Antares\u535a\u58eb\n\nprint(__doc__)\n\nimport numpy as np\nimport matplotlib.pyplot as plt\nfrom sklearn import linear_model\n\n# X \u662f\u4e00\u4e2a 10x10 \u7684 \u5e0c\u5c14\u4f2f\u7279\u77e9\u9635(Hilbert matrix)\nX = 1. / (np.arange(1, 11) + np.arange(0, 10)[:, np.newaxis])\ny = np.ones(10)\n\n# #############################################################################\n# \u8ba1\u7b97\u8def\u5f84(Compute paths)\n\nn_alphas = 200\nalphas = np.logspace(-10, -2, n_alphas)\n\ncoefs = []\nfor a in alphas:\n    ridge = linear_model.Ridge(alpha=a, fit_intercept=False)    #\u6bcf\u4e2a\u5faa\u73af\u90fd\u8981\u91cd\u65b0\u5b9e\u4f8b\u5316\u4e00\u4e2aestimator\u5bf9\u8c61\n    ridge.fit(X, y)\n    coefs.append(ridge.coef_)\n# print(coefs)\n\n# #############################################################################\n# \u5c55\u793a\u7ed3\u679c\nax = plt.gca()\n\nax.plot(alphas, coefs)\nax.set_xscale('log')\nax.set_xlim(ax.get_xlim()[::-1])  # \u53cd\u8f6c\u6570\u8f74\uff0c\u8d8a\u9760\u5de6\u8fb9 alpha \u8d8a\u5927\uff0c\u6b63\u5219\u5316\u4e5f\u8d8a\u5389\u5bb3\nplt.xlabel('alpha')\nplt.ylabel('weights')\nplt.title('Ridge coefficients as a function of the regularization')\nplt.axis('tight')\nplt.show()"
      ]
    }
  ],
  "metadata": {
    "kernelspec": {
      "display_name": "Python 3",
      "language": "python",
      "name": "python3"
    },
    "language_info": {
      "codemirror_mode": {
        "name": "ipython",
        "version": 3
      },
      "file_extension": ".py",
      "mimetype": "text/x-python",
      "name": "python",
      "nbconvert_exporter": "python",
      "pygments_lexer": "ipython3",
      "version": "3.6.4"
    }
  },
  "nbformat": 4,
  "nbformat_minor": 0
}