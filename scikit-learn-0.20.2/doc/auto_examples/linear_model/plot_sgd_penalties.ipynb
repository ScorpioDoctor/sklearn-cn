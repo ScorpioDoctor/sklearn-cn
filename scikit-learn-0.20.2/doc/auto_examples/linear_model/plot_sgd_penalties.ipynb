{
  "cells": [
    {
      "cell_type": "code",
      "execution_count": null,
      "metadata": {
        "collapsed": false
      },
      "outputs": [],
      "source": [
        "%matplotlib inline"
      ]
    },
    {
      "cell_type": "markdown",
      "metadata": {},
      "source": [
        "\n==============\nSGD: \u60e9\u7f5a\u9879\n==============\n\nL1\uff0cL2\uff0c\u4ee5\u53ca elastic-net \u8fd9\u4e09\u79cd\u60e9\u7f5a\u7b49\u4e8e1\u7684\u65f6\u5019\u7684\u7b49\u9ad8\u7ebf\n\u5bf9\u6bd4\u56fe\u3002\n\n\u4e0a\u9762\u8fd9\u4e09\u79cd\u60e9\u7f5a\u90fd\u53ef\u88ab\n:class:`sklearn.linear_model.stochastic_gradient` \u6240\u652f\u6301\u3002\n\n\n"
      ]
    },
    {
      "cell_type": "code",
      "execution_count": null,
      "metadata": {
        "collapsed": false
      },
      "outputs": [],
      "source": [
        "print(__doc__)\n\nimport numpy as np\nimport matplotlib.pyplot as plt\n\nl1_color = \"navy\"\nl2_color = \"c\"\nelastic_net_color = \"darkorange\"\n\nline = np.linspace(-1.5, 1.5, 1001)\nxx, yy = np.meshgrid(line, line)\n\nl2 = xx ** 2 + yy ** 2\nl1 = np.abs(xx) + np.abs(yy)\nrho = 0.5\nelastic_net = rho * l1 + (1 - rho) * l2\n\nplt.figure(figsize=(10, 10), dpi=100)\nax = plt.gca()\n\nelastic_net_contour = plt.contour(xx, yy, elastic_net, levels=[1],\n                                  colors=elastic_net_color)\nl2_contour = plt.contour(xx, yy, l2, levels=[1], colors=l2_color)\nl1_contour = plt.contour(xx, yy, l1, levels=[1], colors=l1_color)\nax.set_aspect(\"equal\")\nax.spines['left'].set_position('center')\nax.spines['right'].set_color('none')\nax.spines['bottom'].set_position('center')\nax.spines['top'].set_color('none')\n\nplt.clabel(elastic_net_contour, inline=1, fontsize=18,\n           fmt={1.0: 'elastic-net'}, manual=[(-1, -1)])\nplt.clabel(l2_contour, inline=1, fontsize=18,\n           fmt={1.0: 'L2'}, manual=[(-1, -1)])\nplt.clabel(l1_contour, inline=1, fontsize=18,\n           fmt={1.0: 'L1'}, manual=[(-1, -1)])\n\nplt.tight_layout()\nplt.show()"
      ]
    }
  ],
  "metadata": {
    "kernelspec": {
      "display_name": "Python 3",
      "language": "python",
      "name": "python3"
    },
    "language_info": {
      "codemirror_mode": {
        "name": "ipython",
        "version": 3
      },
      "file_extension": ".py",
      "mimetype": "text/x-python",
      "name": "python",
      "nbconvert_exporter": "python",
      "pygments_lexer": "ipython3",
      "version": "3.6.4"
    }
  },
  "nbformat": 4,
  "nbformat_minor": 0
}