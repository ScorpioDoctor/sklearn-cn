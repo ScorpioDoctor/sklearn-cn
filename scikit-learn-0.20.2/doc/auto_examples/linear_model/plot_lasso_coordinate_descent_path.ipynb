{
  "cells": [
    {
      "cell_type": "code",
      "execution_count": null,
      "metadata": {
        "collapsed": false
      },
      "outputs": [],
      "source": [
        "%matplotlib inline"
      ]
    },
    {
      "cell_type": "markdown",
      "metadata": {},
      "source": [
        "\n# Lasso \u548c Elastic-Net\n\n\nLasso \u548c elastic-net (L1\u4e0eL2\u60e9\u7f5a) \u662f\u4f7f\u7528\u5750\u6807\u4e0b\u964d\u6cd5\u6765\u5b9e\u73b0\u7684\u3002\n\n\u6a21\u578b\u7684\u7cfb\u6570\u53ef\u4ee5\u88ab\u5f3a\u5236\u53d8\u4e3a\u6b63\u7684(\u901a\u8fc7\u8bbe\u7f6e\u53c2\u6570 ``positive=True`` )\u3002\n\n(\u8bd1\u8005\u6ce8\uff1a\u8981\u6ce8\u610f \u5728\u4e09\u4e2a\u56fe\u4e2dalpha\u88ab\u53d6\u4e86\u8d1f\u5bf9\u6570\uff0c\u6240\u4ee5\u8d8a\u9760\u8fd1\u56fe\u7684\u5de6\u8fb9alpha\u7684\u8d1f\u5bf9\u6570\u8d8a\u5c0f\u800calpha\u5219\u8d8a\u5927\uff0c\nalpha\u8d8a\u5927\u5219\u6b63\u5219\u5316\u5c31\u8d8a\u5389\u5bb3\uff0c\u7cfb\u6570\u5c31\u90fd\u7f29\u51cf\u4e3a0\u4e86\u3002\u6240\u4ee5\u5927\u5bb6\u770b\u5230\u5728\u4e09\u5e45\u56fe\u91cc\u9762\u90fd\u662f\n\u4ece\u5de6\u5230\u53f3\u7cfb\u6570\u8d8a\u6765\u8d8a\u53d1\u6563\uff0c\u5c31\u662f\u56e0\u4e3a\u968f\u7740alpha\u7684\u51cf\u5c0f\u6b63\u5219\u5316\u9879\u88ab\u9010\u6e10\u524a\u5f31\u5bfc\u81f4\u7684\u3002\n\u4f46\u662f\u5728Lasso\u4e2d\u968f\u7740alpha\u7684\u51cf\u5c0f\u6a21\u578b\u7cfb\u6570\u53d1\u6563\u7684\u6bd4ElesticNet\u8981\u5feb\u3002)\n\n"
      ]
    },
    {
      "cell_type": "code",
      "execution_count": null,
      "metadata": {
        "collapsed": false
      },
      "outputs": [],
      "source": [
        "print(__doc__)\n\n# Author: Alexandre Gramfort <alexandre.gramfort@inria.fr>\n# License: BSD 3 clause\n# \u7ffb\u8bd1\u8005\uff1a studyai.com \u7684 Antares \u535a\u58eb\n\nfrom itertools import cycle\nimport numpy as np\nimport matplotlib.pyplot as plt\n\nfrom sklearn.linear_model import lasso_path, enet_path\nfrom sklearn import datasets\n\ndiabetes = datasets.load_diabetes()\nX = diabetes.data\ny = diabetes.target\n\nX /= X.std(axis=0)  # \u6807\u51c6\u5316\u6570\u636e (\u66f4\u5bb9\u6613\u8bbe\u7f6e l1_ratio \u53c2\u6570)\n\n# \u8ba1\u7b97(\u6b63\u5219\u5316)\u8def\u5f84\n\neps = 5e-3  # \u6b64\u503c\u8d8a\u5c0f\uff0c\u8def\u5f84\u8d8a\u957f\n\nprint(\"Computing regularization path using the lasso...\")\nalphas_lasso, coefs_lasso, _ = lasso_path(X, y, eps, fit_intercept=False)\n\nprint(\"Computing regularization path using the positive lasso...\")\nalphas_positive_lasso, coefs_positive_lasso, _ = lasso_path(\n    X, y, eps, positive=True, fit_intercept=False)\nprint(\"Computing regularization path using the elastic net...\")\nalphas_enet, coefs_enet, _ = enet_path(\n    X, y, eps=eps, l1_ratio=0.8, fit_intercept=False)\n\nprint(\"Computing regularization path using the positive elastic net...\")\nalphas_positive_enet, coefs_positive_enet, _ = enet_path(\n    X, y, eps=eps, l1_ratio=0.8, positive=True, fit_intercept=False)\n\n# \u5c55\u793a\u7ed3\u679c\n\nplt.figure(1)\ncolors = cycle(['b', 'r', 'g', 'c', 'k'])\nneg_log_alphas_lasso = -np.log10(alphas_lasso)\nneg_log_alphas_enet = -np.log10(alphas_enet)\nfor coef_l, coef_e, c in zip(coefs_lasso, coefs_enet, colors):\n    l1 = plt.plot(neg_log_alphas_lasso, coef_l, c=c)\n    l2 = plt.plot(neg_log_alphas_enet, coef_e, linestyle='--', c=c)\n\nplt.xlabel('-Log(alpha)')\nplt.ylabel('coefficients')\nplt.title('Lasso and Elastic-Net Paths')\nplt.legend((l1[-1], l2[-1]), ('Lasso', 'Elastic-Net'), loc='lower left')\nplt.axis('tight')\n\n\nplt.figure(2)\nneg_log_alphas_positive_lasso = -np.log10(alphas_positive_lasso)\nfor coef_l, coef_pl, c in zip(coefs_lasso, coefs_positive_lasso, colors):\n    l1 = plt.plot(neg_log_alphas_lasso, coef_l, c=c)\n    l2 = plt.plot(neg_log_alphas_positive_lasso, coef_pl, linestyle='--', c=c)\n\nplt.xlabel('-Log(alpha)')\nplt.ylabel('coefficients')\nplt.title('Lasso and positive Lasso')\nplt.legend((l1[-1], l2[-1]), ('Lasso', 'positive Lasso'), loc='lower left')\nplt.axis('tight')\n\n\nplt.figure(3)\nneg_log_alphas_positive_enet = -np.log10(alphas_positive_enet)\nfor (coef_e, coef_pe, c) in zip(coefs_enet, coefs_positive_enet, colors):\n    l1 = plt.plot(neg_log_alphas_enet, coef_e, c=c)\n    l2 = plt.plot(neg_log_alphas_positive_enet, coef_pe, linestyle='--', c=c)\n\nplt.xlabel('-Log(alpha)')\nplt.ylabel('coefficients')\nplt.title('Elastic-Net and positive Elastic-Net')\nplt.legend((l1[-1], l2[-1]), ('Elastic-Net', 'positive Elastic-Net'),\n           loc='lower left')\nplt.axis('tight')\nplt.show()"
      ]
    }
  ],
  "metadata": {
    "kernelspec": {
      "display_name": "Python 3",
      "language": "python",
      "name": "python3"
    },
    "language_info": {
      "codemirror_mode": {
        "name": "ipython",
        "version": 3
      },
      "file_extension": ".py",
      "mimetype": "text/x-python",
      "name": "python",
      "nbconvert_exporter": "python",
      "pygments_lexer": "ipython3",
      "version": "3.6.4"
    }
  },
  "nbformat": 4,
  "nbformat_minor": 0
}