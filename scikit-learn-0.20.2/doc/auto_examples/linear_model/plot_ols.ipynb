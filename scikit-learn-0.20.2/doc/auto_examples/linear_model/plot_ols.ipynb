{
  "cells": [
    {
      "cell_type": "code",
      "execution_count": null,
      "metadata": {
        "collapsed": false
      },
      "outputs": [],
      "source": [
        "%matplotlib inline"
      ]
    },
    {
      "cell_type": "markdown",
      "metadata": {},
      "source": [
        "\n# \u7ebf\u6027\u56de\u5f52\u6848\u4f8b\n\n\u6b64\u793a\u4f8b\u4ec5\u4f7f\u7528\u7cd6\u5c3f\u75c5(`diabetes`)\u6570\u636e\u96c6\u7684\u7b2c\u4e00\u4e2a\u7279\u5f81\uff0c\u4ee5\u8bf4\u660e\u6b64\u56de\u5f52\u6280\u672f\u7684\u4e8c\u7ef4\u7ed8\u56fe\u3002\n\u5728\u56fe\u4e2d\u53ef\u4ee5\u770b\u5230\u76f4\u7ebf\uff0c\u663e\u793a\u4e86\u7ebf\u6027\u56de\u5f52\u5982\u4f55\u8bd5\u56fe\u7ed8\u5236\u4e00\u6761\u76f4\u7ebf\uff0c\n\u4f7f\u6570\u636e\u96c6\u4e2d\u89c2\u5bdf\u5230\u7684\u54cd\u5e94\u4e0e\u7ebf\u6027\u8fd1\u4f3c\u9884\u6d4b\u7684\u54cd\u5e94\u4e4b\u95f4\u7684\u6b8b\u5dee\u5e73\u65b9\u548c\u6700\u5c0f\u5316\u3002\n\n\u7cfb\u6570(The coefficients), \u6b8b\u5dee\u5e73\u65b9\u548c(the residual sum of squares) \u548c \u65b9\u5dee\u5f97\u5206(the variance score)\n\u4e5f\u88ab\u8ba1\u7b97\u51fa\u6765\u4e86\u3002\n\n\n"
      ]
    },
    {
      "cell_type": "code",
      "execution_count": null,
      "metadata": {
        "collapsed": false
      },
      "outputs": [],
      "source": [
        "print(__doc__)\n\n\n# Code source: Jaques Grobler\n# \u7ffb\u8bd1\u8005: Antares \u535a\u58eb\n# License: BSD 3 clause\n\n\nimport matplotlib.pyplot as plt\nimport numpy as np\nfrom sklearn import datasets, linear_model\nfrom sklearn.metrics import mean_squared_error, r2_score\n\n# \u52a0\u8f7d diabetes \u6570\u636e\u96c6\ndiabetes = datasets.load_diabetes()\n\n\n# \u4ec5\u4f7f\u7528\u7b2c\u4e00\u4e2a\u7279\u5f81\ndiabetes_X = diabetes.data[:, np.newaxis, 2]\n\n# \u628a\u6570\u636e\u5212\u5206\u6210\u8bad\u7ec3\u96c6\u548c\u6d4b\u8bd5\u96c6\ndiabetes_X_train = diabetes_X[:-20]\ndiabetes_X_test = diabetes_X[-20:]\n\n# \u628a\u76ee\u6807\u503c\u5212\u5206\u6210\u5bf9\u5e94\u7684\u8bad\u7ec3\u96c6\u548c\u6d4b\u8bd5\u96c6\ndiabetes_y_train = diabetes.target[:-20]\ndiabetes_y_test = diabetes.target[-20:]\n\n# \u5b9e\u4f8b\u5316\u4e00\u4e2a \u7ebf\u6027\u56de\u5f52 \u7c7b\u7684\u5bf9\u8c61\nregr = linear_model.LinearRegression()\n\n# \u5728\u8bad\u7ec3\u96c6\u4e0a\u8bad\u7ec3\u6a21\u578b\nregr.fit(diabetes_X_train, diabetes_y_train)\n\n# \u5728\u6d4b\u8bd5\u96c6\u4e0a\u8fdb\u884c\u9884\u6d4b\ndiabetes_y_pred = regr.predict(diabetes_X_test)\n\n# \u7ebf\u6027\u6a21\u578b\u7684\u7cfb\u6570\nprint('Coefficients: \\n', regr.coef_)\n# \u5747\u65b9\u8bef\u5dee\nprint(\"Mean squared error: %.2f\"\n      % mean_squared_error(diabetes_y_test, diabetes_y_pred))\n# \u89e3\u91ca\u65b9\u5dee: 1 \u4ee3\u8868\u5b8c\u7f8e\u9884\u6d4b\nprint('Variance score: %.2f' % r2_score(diabetes_y_test, diabetes_y_pred))\n\n# \u7ed8\u5236\u8f93\u51fa\u7ed3\u679c\nplt.scatter(diabetes_X_test, diabetes_y_test,  color='black')\nplt.plot(diabetes_X_test, diabetes_y_pred, color='blue', linewidth=3)\n\nplt.xticks(())\nplt.yticks(())\n\nplt.show()"
      ]
    }
  ],
  "metadata": {
    "kernelspec": {
      "display_name": "Python 3",
      "language": "python",
      "name": "python3"
    },
    "language_info": {
      "codemirror_mode": {
        "name": "ipython",
        "version": 3
      },
      "file_extension": ".py",
      "mimetype": "text/x-python",
      "name": "python",
      "nbconvert_exporter": "python",
      "pygments_lexer": "ipython3",
      "version": "3.6.4"
    }
  },
  "nbformat": 4,
  "nbformat_minor": 0
}