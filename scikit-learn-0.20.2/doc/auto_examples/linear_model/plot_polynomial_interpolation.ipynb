{
  "cells": [
    {
      "cell_type": "code",
      "execution_count": null,
      "metadata": {
        "collapsed": false
      },
      "outputs": [],
      "source": [
        "%matplotlib inline"
      ]
    },
    {
      "cell_type": "markdown",
      "metadata": {},
      "source": [
        "\n# \u591a\u9879\u5f0f\u63d2\u503c\n\n\n\u8fd9\u4e2a\u4f8b\u5b50\u6f14\u793a\u4e86\u5982\u4f55\u7528\u5cad\u56de\u5f52\u7528n_degree\u6b21\u591a\u9879\u5f0f\u903c\u8fd1\u51fd\u6570\u3002\u5177\u4f53\u800c\u8a00\uff0c\u4ece n_samples \u4e2a1d\u70b9\u51fa\u53d1\uff0c\n\u5efa\u7acb\u8303\u5fb7\u8499\u77e9\u9635(Vandermonde matrix)\u5c31\u8db3\u591f\u4e86\uff0c\u5b83\u7684shape\u662f n_samples x n_degree+1\uff0c\u5176\u5f62\u5f0f\u5982\u4e0b:\n\n[[1, x_1, x_1 ** 2, x_1 ** 3, ...],\n [1, x_2, x_2 ** 2, x_2 ** 3, ...],\n ...]\n\n\u76f4\u89c2\u5730\u8bf4\uff0c\u8fd9\u4e2a\u77e9\u9635\u53ef\u4ee5\u89e3\u91ca\u4e3a\u4f2a\u7279\u5f81\u77e9\u9635(\u6570\u636e\u70b9\u88ab\u63d0\u9ad8\u5230\u67d0\u4e2a\u6b21\u5e42)\u3002\n\u8be5\u77e9\u9635\u7c7b\u4f3c\u4e8e(\u4f46\u4e0d\u540c\u4e8e)\u7531\u591a\u9879\u5f0f\u6838\u8bf1\u5bfc\u51fa\u7684\u77e9\u9635\u3002\n\n\u6b64\u793a\u4f8b\u663e\u793a\uff0c\u60a8\u53ef\u4ee5\u4f7f\u7528\u7ebf\u6027\u6a21\u578b\u8fdb\u884c\u975e\u7ebf\u6027\u56de\u5f52\uff0c\u4f7f\u7528\u7ba1\u9053\u6dfb\u52a0\u975e\u7ebf\u6027\u7279\u5f81\u3002\n\u6838\u65b9\u6cd5\u6269\u5c55\u4e86\u8fd9\u4e00\u601d\u60f3\uff0c\u53ef\u4ee5\u8bf1\u5bfc\u51fa\u5f88\u9ad8(\u751a\u81f3\u65e0\u9650)\u7ef4\u6570\u7684\u7279\u5f81\u7a7a\u95f4\u3002\n\n"
      ]
    },
    {
      "cell_type": "code",
      "execution_count": null,
      "metadata": {
        "collapsed": false
      },
      "outputs": [],
      "source": [
        "print(__doc__)\n\n# Author: Mathieu Blondel\n#         Jake Vanderplas\n# License: BSD 3 clause\n# \u7ffb\u8bd1\u8005\uff1a www.studyai.com/antares\n\nimport numpy as np\nimport matplotlib.pyplot as plt\n\nfrom sklearn.linear_model import Ridge\nfrom sklearn.preprocessing import PolynomialFeatures\nfrom sklearn.pipeline import make_pipeline\n\n\ndef f(x):\n    \"\"\" \u8981\u901a\u8fc7\u591a\u9879\u5f0f\u63d2\u503c\u903c\u8fd1\u7684\u51fd\u6570\"\"\"\n    return x * np.sin(x)\n\n\n# \u4ea7\u751f x \u8f74\u4e0a\u7684\u5750\u6807\u70b9\u7528\u4e8e\u7ed8\u56fe\nx_plot = np.linspace(0, 10, 100)\n\n# \u4ea7\u751f\u6570\u636e\u70b9\u5e76\u4fdd\u7559\u4e00\u4e2a\u5b50\u96c6\nx = np.linspace(0, 10, 100)\nrng = np.random.RandomState(0)\nrng.shuffle(x)\n# \u5728[0,10]\u7684\u533a\u95f4\u5185\u968f\u673a\u6311\u900920\u4e2a\u70b9\nx = np.sort(x[:20])\ny = f(x)\n\n# \u521b\u5efa\u8fd9\u4e9b\u6570\u7ec4\u7684\u77e9\u9635\u7248\u672c\nX = x[:, np.newaxis]\nX_plot = x_plot[:, np.newaxis]\n\ncolors = ['teal', 'yellowgreen', 'gold']\nlw = 2\nplt.plot(x_plot, f(x_plot), color='cornflowerblue', linewidth=lw,\n         label=\"ground truth\")\nplt.scatter(x, y, color='navy', s=30, marker='o', label=\"training points\")\n\nfor count, degree in enumerate([3, 4, 5]):\n    model = make_pipeline(PolynomialFeatures(degree), Ridge())\n    model.fit(X, y)\n    y_plot = model.predict(X_plot)\n    plt.plot(x_plot, y_plot, color=colors[count], linewidth=lw,\n             label=\"degree %d\" % degree)\n\nplt.legend(loc='lower left')\n\nplt.show()"
      ]
    }
  ],
  "metadata": {
    "kernelspec": {
      "display_name": "Python 3",
      "language": "python",
      "name": "python3"
    },
    "language_info": {
      "codemirror_mode": {
        "name": "ipython",
        "version": 3
      },
      "file_extension": ".py",
      "mimetype": "text/x-python",
      "name": "python",
      "nbconvert_exporter": "python",
      "pygments_lexer": "ipython3",
      "version": "3.6.4"
    }
  },
  "nbformat": 4,
  "nbformat_minor": 0
}