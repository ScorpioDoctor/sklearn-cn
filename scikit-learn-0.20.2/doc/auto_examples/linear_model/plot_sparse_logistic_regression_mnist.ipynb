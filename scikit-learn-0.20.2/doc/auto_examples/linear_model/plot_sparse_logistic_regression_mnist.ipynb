{
  "cells": [
    {
      "cell_type": "code",
      "execution_count": null,
      "metadata": {
        "collapsed": false
      },
      "outputs": [],
      "source": [
        "%matplotlib inline"
      ]
    },
    {
      "cell_type": "markdown",
      "metadata": {},
      "source": [
        "\n=====================================================\n\u5728MNIST\u5206\u7c7b\u4efb\u52a1\u4e2d\u4f7f\u7528 multinomial logistic + L1\n=====================================================\n\n\u8fd9\u91cc\u6211\u4eec\u5728MNIST\u624b\u5199\u6570\u5b57\u5206\u7c7b\u4efb\u52a1\u7684\u4e00\u4e2a\u5b50\u96c6\u4e0a\u62df\u5408\u4e86\u4e00\u4e2a\u5e26\u6709L1\u60e9\u7f5a\u7684\u591a\u9879\u5f0flogistic\u56de\u5f52\u6a21\u578b\u3002\n\u6211\u4eec\u4f7f\u7528 SAGA\u7b97\u6cd5 \u505a\u6c42\u89e3\u5668\u7684\u539f\u56e0\u662f\uff1aSAGA \u5728\u6837\u672c\u6570\u91cf\u663e\u8457\u5927\u4e8e\u7279\u5f81\u6570\u91cf\u7684\u65f6\u5019\u975e\u5e38\u5feb\uff0c\n\u800c\u4e14\u53ef\u4ee5\u5f88\u597d\u5730\u4f18\u5316\u5e26\u6709L1\u60e9\u7f5a\u9879\u7684\u975e\u5e73\u6ed1\u76ee\u6807\u51fd\u6570\u3002\n\u6d4b\u8bd5\u51c6\u786e\u7387\u8fbe\u5230 0.8 \u4ee5\u4e0a\uff0c\u800c\u6743\u91cd\u5411\u91cf\u8fd8\u53ef\u4ee5\u4fdd\u6301\u7a00\u758f\u5316\uff0c\n\u8fd9\u6837\u5f97\u5230\u7684\u6a21\u578b\u5c31\u66f4\u5177\u6709\u53ef\u89e3\u91ca\u6027(*interpretable*)\u4e86\u3002\n\n\u8bf7\u6ce8\u610f\uff1a\u8fd9\u4e2aL1\u60e9\u7f5a\u7684\u7ebf\u6027\u6a21\u578b\u7684\u51c6\u786e\u7387\u662f\u660e\u663e\u4f4e\u4e8eL2\u60e9\u7f5a\u7684\u7ebf\u6027\u6a21\u578b\u80fd\u591f\u8fbe\u5230\u7684\u51c6\u786e\u7387\n\u6216\u662f\u4e00\u4e2a\u975e\u7ebf\u6027\u591a\u5c42\u611f\u77e5\u5668\u80fd\u591f\u8fbe\u5230\u7684\u51c6\u786e\u7387\u7684\u3002\n\n\n"
      ]
    },
    {
      "cell_type": "code",
      "execution_count": null,
      "metadata": {
        "collapsed": false
      },
      "outputs": [],
      "source": [
        "import time\nimport matplotlib.pyplot as plt\nimport numpy as np\n\nfrom sklearn.datasets import fetch_openml\nfrom sklearn.linear_model import LogisticRegression\nfrom sklearn.model_selection import train_test_split\nfrom sklearn.preprocessing import StandardScaler\nfrom sklearn.utils import check_random_state\n\nprint(__doc__)\n\n# Author: Arthur Mensch <arthur.mensch@m4x.org>\n# License: BSD 3 clause\n\n# Turn down for faster convergence\nt0 = time.time()\ntrain_samples = 5000\n\n# \u4ece\u8fd9\u513f https://www.openml.org/d/554 \u52a0\u8f7d\u6570\u636e\nX, y = fetch_openml('mnist_784', version=1, return_X_y=True)\n\n# \u5bf9\u6570\u636e\u8fdb\u884c\u968f\u673a\u6d17\u724c(shuffle data)\nrandom_state = check_random_state(0)\npermutation = random_state.permutation(X.shape[0])\nX = X[permutation]\ny = y[permutation]\nX = X.reshape((X.shape[0], -1))\n\n# \u5206\u6210 \u8bad\u7ec3\u96c6 \u4e0e \u6d4b\u8bd5\u96c6\nX_train, X_test, y_train, y_test = train_test_split(\n    X, y, train_size=train_samples, test_size=10000)\n\nscaler = StandardScaler()\nX_train = scaler.fit_transform(X_train)\nX_test = scaler.transform(X_test)\n\n# \u4e0a\u8c03 tolerance \u53ef\u4ee5\u66f4\u5feb\u7684\u6536\u655b\nclf = LogisticRegression(C=50. / train_samples,\n                         multi_class='multinomial',\n                         penalty='l1', solver='saga', tol=0.1)\nclf.fit(X_train, y_train)\nsparsity = np.mean(clf.coef_ == 0) * 100\nscore = clf.score(X_test, y_test)\n# print('Best C % .4f' % clf.C_)\nprint(\"Sparsity with L1 penalty: %.2f%%\" % sparsity)\nprint(\"Test score with L1 penalty: %.4f\" % score)\n\ncoef = clf.coef_.copy()\nplt.figure(figsize=(10, 5))\nscale = np.abs(coef).max()\nfor i in range(10):\n    l1_plot = plt.subplot(2, 5, i + 1)\n    l1_plot.imshow(coef[i].reshape(28, 28), interpolation='nearest',\n                   cmap=plt.cm.RdBu, vmin=-scale, vmax=scale)\n    l1_plot.set_xticks(())\n    l1_plot.set_yticks(())\n    l1_plot.set_xlabel('Class %i' % i)\nplt.suptitle('Classification vector for...')\n\nrun_time = time.time() - t0\nprint('Example run in %.3f s' % run_time)\nplt.show()"
      ]
    }
  ],
  "metadata": {
    "kernelspec": {
      "display_name": "Python 3",
      "language": "python",
      "name": "python3"
    },
    "language_info": {
      "codemirror_mode": {
        "name": "ipython",
        "version": 3
      },
      "file_extension": ".py",
      "mimetype": "text/x-python",
      "name": "python",
      "nbconvert_exporter": "python",
      "pygments_lexer": "ipython3",
      "version": "3.6.4"
    }
  },
  "nbformat": 4,
  "nbformat_minor": 0
}