{
  "cells": [
    {
      "cell_type": "code",
      "execution_count": null,
      "metadata": {
        "collapsed": false
      },
      "outputs": [],
      "source": [
        "%matplotlib inline"
      ]
    },
    {
      "cell_type": "markdown",
      "metadata": {},
      "source": [
        "\n# \u7528\u4e8e\u7a00\u758f\u4fe1\u53f7\u7684 Lasso \u548c Elastic-Net \n\n\n\u5728\u4eba\u5de5\u4ea7\u751f\u7684\u88ab\u52a0\u6027\u566a\u58f0\u6c61\u67d3\u7684\u7a00\u758f\u4fe1\u53f7\u4e0a\u4f30\u8ba1Lasso\u548cElastic-Net\u56de\u5f52\u6a21\u578b\u3002\n\u4f30\u8ba1\u51fa\u7684\u7cfb\u6570\u62ff\u6765\u4e0e\u771f\u5b9e\u7684\u7cfb\u6570\u8fdb\u884c\u6bd4\u8f83\u3002\n\n\u7ffb\u8bd1\u8005\uff1astudyai.com\u7684Antares\u535a\u58eb\n\n\n"
      ]
    },
    {
      "cell_type": "code",
      "execution_count": null,
      "metadata": {
        "collapsed": false
      },
      "outputs": [],
      "source": [
        "print(__doc__)\n\nimport numpy as np\nimport matplotlib.pyplot as plt\n\nfrom sklearn.metrics import r2_score\n\n# #############################################################################\n# \u4ea7\u751f\u4e00\u4e9b\u7a00\u758f\u6570\u636e\nnp.random.seed(42)\n\nn_samples, n_features = 50, 200\nX = np.random.randn(n_samples, n_features) # randn(...)\u4ea7\u751f\u7684\u662f\u6b63\u6001\u5206\u5e03\u7684\u6570\u636e\ncoef = 3 * np.random.randn(n_features)     # \u6bcf\u4e2a\u7279\u5f81\u5bf9\u5e94\u4e00\u4e2a\u7cfb\u6570\ninds = np.arange(n_features)\nnp.random.shuffle(inds)\ncoef[inds[10:]] = 0  # \u7a00\u758f\u5316\u7cfb\u6570--\u968f\u673a\u7684\u628a\u7cfb\u6570\u5411\u91cf1x200\u7684\u5176\u4e2d10\u4e2a\u503c\u53d8\u4e3a0\ny = np.dot(X, coef)  # \u7ebf\u6027\u8fd0\u7b97 -- y = X.*w\n\n# \u6dfb\u52a0\u566a\u58f0\uff1a\u96f6\u5747\u503c\uff0c\u6807\u51c6\u5dee\u4e3a 0.01 \u7684\u9ad8\u65af\u566a\u58f0\ny += 0.01 * np.random.normal(size=n_samples)\n\n# \u628a\u6570\u636e\u5212\u5206\u6210\u8bad\u7ec3\u96c6\u548c\u6d4b\u8bd5\u96c6\nn_samples = X.shape[0]\nX_train, y_train = X[:n_samples // 2], y[:n_samples // 2]\nX_test, y_test = X[n_samples // 2:], y[n_samples // 2:]\n\n# #############################################################################\n# \u8bad\u7ec3 Lasso \u6a21\u578b\nfrom sklearn.linear_model import Lasso\n\nalpha = 0.1\nlasso = Lasso(alpha=alpha)\n\ny_pred_lasso = lasso.fit(X_train, y_train).predict(X_test)\nr2_score_lasso = r2_score(y_test, y_pred_lasso)\nprint(lasso)\nprint(\"r^2 on test data : %f\" % r2_score_lasso)\n\n# #############################################################################\n# \u8bad\u7ec3 ElasticNet \u6a21\u578b\nfrom sklearn.linear_model import ElasticNet\n\nenet = ElasticNet(alpha=alpha, l1_ratio=0.7)\n\ny_pred_enet = enet.fit(X_train, y_train).predict(X_test)\nr2_score_enet = r2_score(y_test, y_pred_enet)\nprint(enet)\nprint(\"r^2 on test data : %f\" % r2_score_enet)\n\nplt.plot(enet.coef_, color='lightgreen', linewidth=2,\n         label='Elastic net coefficients')\nplt.plot(lasso.coef_, color='gold', linewidth=2,\n         label='Lasso coefficients')\nplt.plot(coef, '--', color='navy', label='original coefficients')\nplt.legend(loc='best')\nplt.title(\"Lasso R^2: %f, Elastic Net R^2: %f\"\n          % (r2_score_lasso, r2_score_enet))\nplt.show()"
      ]
    }
  ],
  "metadata": {
    "kernelspec": {
      "display_name": "Python 3",
      "language": "python",
      "name": "python3"
    },
    "language_info": {
      "codemirror_mode": {
        "name": "ipython",
        "version": 3
      },
      "file_extension": ".py",
      "mimetype": "text/x-python",
      "name": "python",
      "nbconvert_exporter": "python",
      "pygments_lexer": "ipython3",
      "version": "3.6.4"
    }
  },
  "nbformat": 4,
  "nbformat_minor": 0
}