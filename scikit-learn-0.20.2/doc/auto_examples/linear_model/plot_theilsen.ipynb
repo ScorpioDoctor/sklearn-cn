{
  "cells": [
    {
      "cell_type": "code",
      "execution_count": null,
      "metadata": {
        "collapsed": false
      },
      "outputs": [],
      "source": [
        "%matplotlib inline"
      ]
    },
    {
      "cell_type": "markdown",
      "metadata": {},
      "source": [
        "\n# Theil-Sen Regression\n\n\n\u5728\u4eba\u5de5\u5408\u6210\u7684\u6570\u636e\u96c6\u4e0a\u8ba1\u7b97 Theil-Sen \u56de\u5f52\u3002\n\n\u8bf7\u770b `theil_sen_regression` \u83b7\u5f97\u5173\u4e8e\u56de\u5f52\u5668\u7684\u66f4\u591a\u4fe1\u606f\u3002\n\n\u4e0e OLS (\u6700\u5c0f\u4e8c\u4e58) \u4f30\u8ba1\u5668\u76f8\u6bd4, Theil-Sen \u4f30\u8ba1\u5668\u662f\u5bf9\u79bb\u7fa4\u5b64\u7acb\u70b9\u6bd4\u8f83\u9c81\u68d2\u7684\u4f30\u8ba1\u5668\u3002\n\u5728\u4e00\u4e2a\u7b80\u53552D\u7ebf\u6027\u56de\u5f52\u95ee\u9898\u4e2d\uff0c\u5b83\u6709\u5927\u7ea629.3%\u7684\u5d29\u6e83\u70b9(breakdown point)\uff0c \u8fd9\u5c31\u610f\u5473\u7740\u5b83\u53ef\u4ee5\u5fcd\u53d7\u4efb\u610f\u7684\n\u635f\u574f\u6570\u636e(outliers)\u7684\u5360\u6bd4\u53ef\u4ee5\u8fbe\u523029.3%\u3002\n\n\u6a21\u578b\u7684\u4f30\u8ba1\u662f\u901a\u8fc7\u8ba1\u7b97 p \u4e2a\u5b50\u6837\u672c\u70b9\u7684\u6240\u6709\u53ef\u80fd\u7ec4\u5408\u7684\u5b50\u79cd\u7fa4\u7684\u659c\u7387\u548c\u622a\u53d6\u6765\u5b8c\u6210\u7684\u3002\n\u5982\u679c\u622a\u8ddd(intercept)\u4e5f\u88ab\u62df\u5408\u4e86\uff0c\u5219 p \u5fc5\u987b\u5927\u4e8e\u6216\u7b49\u4e8e n_features + 1\u3002\n\u6700\u7ec8\u7684\u659c\u7387\u548c\u622a\u8ddd\u88ab\u5b9a\u4e49\u4e3a\u8fd9\u4e9b\u659c\u7387\u548c\u622a\u53d6\u7684\u7a7a\u95f4\u4e2d\u503c\u3002\n\n\u5728\u67d0\u4e9b\u60c5\u5f62\u4e0b Theil-Sen \u6bd4\u53e6\u4e00\u4e2a\u9c81\u68d2\u7b97\u6cd5 `RANSAC <ransac_regression>` \u8868\u73b0\u7684\u66f4\u597d\u3002\n\u8fd9\u4e00\u70b9\u5728\u4e0b\u9762\u7684\u7b2c\u4e8c\u4e2a\u6848\u4f8b\u4e2d\u8fdb\u884c\u4e86\u8bf4\u660e\uff0c\u5176\u4e2d\u76f8\u5bf9\u4e8ex\u8f74\u7684\u79bb\u7fa4\u70b9\u4f7f RANSAC \u4e0d\u9c81\u68d2\u3002\n\u8c03\u6574RANSAC\u7684 ``residual_threshold`` \u53c2\u6570\u53ef\u4ee5\u5f25\u8865\u8fd9\u4e00\u70b9\uff0c\u4f46\u662f\u4e00\u822c\u6765\u8bf4\uff0c\u9700\u8981\u5bf9\u6570\u636e\u548c\u5f02\u5e38\u503c\u7684\u6027\u8d28\u6709\u4e00\u4e2a\u5148\u9a8c\u7684\u8ba4\u8bc6\u3002\n\u81f3\u4e8eTheil-Sen\u7b97\u6cd5\u7684\u8ba1\u7b97\u590d\u6742\u6027\uff0c\u5efa\u8bae\u53ea\u80fd\u4f7f\u7528\u5728\u6837\u672c\u6570\u91cf\u548c\u7279\u5f81\u6570\u91cf\u6bd4\u8f83\u5c0f\u7684\u95ee\u9898\u4e0a\u3002\n\u5bf9\u4e8e\u5927\u95ee\u9898\uff0c\u53c2\u6570 ``max_subpopulation`` \u9650\u5236p\u5b50\u91c7\u6837\u70b9\u7684\u6240\u6709\u53ef\u80fd\u7684\u7ec4\u5408\u5230\u4e00\u4e2a\u968f\u673a\u9009\u62e9\u7684\u5b50\u96c6\uff0c\u5e76\u56e0\u6b64\u4f1a\u9650\u5236\u8fd0\u884c\u65f6\u95f4\u3002\n\u56e0\u6b64\uff0cTheil-Sen \u65b9\u6cd5\u662f\u53ef\u4ee5\u7528\u4e8e\u66f4\u5927\u7684\u95ee\u9898\u7684\uff0c\u4f46\u4f1a\u635f\u5931\u4e00\u4e9b\u5b83\u7684\u6570\u5b66\u6027\u8d28\uff0c\u56e0\u4e3a\u5728\u5927\u95ee\u9898\u4e0a\u5b83\u662f\u5728\u968f\u673a\u5b50\u96c6\u4e0a\u5de5\u4f5c\u7684\u3002\n\n"
      ]
    },
    {
      "cell_type": "code",
      "execution_count": null,
      "metadata": {
        "collapsed": false
      },
      "outputs": [],
      "source": [
        "# Author: Florian Wilhelm -- <florian.wilhelm@gmail.com>\n# License: BSD 3 clause\n\nimport time\nimport numpy as np\nimport matplotlib.pyplot as plt\nfrom sklearn.linear_model import LinearRegression, TheilSenRegressor\nfrom sklearn.linear_model import RANSACRegressor\n\nprint(__doc__)\n\nestimators = [('OLS', LinearRegression()),\n              ('Theil-Sen', TheilSenRegressor(random_state=42)),\n              ('RANSAC', RANSACRegressor(random_state=42)), ]\ncolors = {'OLS': 'turquoise', 'Theil-Sen': 'gold', 'RANSAC': 'lightgreen'}\nlw = 2\n\n# #############################################################################\n# \u53ea\u6709 y \u65b9\u5411\u6709\u79bb\u7fa4\u70b9\n\nnp.random.seed(0)\nn_samples = 200\n# \u7ebf\u6027\u6a21\u578b y = 3*x + N(2, 0.1**2)\nx = np.random.randn(n_samples)\nw = 3.\nc = 2.\nnoise = 0.1 * np.random.randn(n_samples)\ny = w * x + c + noise\n# 10% outliers\ny[-20:] += -20 * x[-20:]\nX = x[:, np.newaxis]\n\nplt.scatter(x, y, color='indigo', marker='x', s=40)\nline_x = np.array([-3, 3])\nfor name, estimator in estimators:\n    t0 = time.time()\n    estimator.fit(X, y)\n    elapsed_time = time.time() - t0\n    y_pred = estimator.predict(line_x.reshape(2, 1))\n    plt.plot(line_x, y_pred, color=colors[name], linewidth=lw,\n             label='%s (fit time: %.2fs)' % (name, elapsed_time))\n\nplt.axis('tight')\nplt.legend(loc='upper left')\nplt.title(\"Corrupt y\")\n\n# #############################################################################\n# X \u65b9\u5411\u4e0a\u6709\u79bb\u7fa4\u70b9\n\nnp.random.seed(0)\n# \u7ebf\u6027\u6a21\u578b y = 3*x + N(2, 0.1**2)\nx = np.random.randn(n_samples)\nnoise = 0.1 * np.random.randn(n_samples)\ny = 3 * x + 2 + noise\n# 10% outliers\nx[-20:] = 9.9\ny[-20:] += 22\nX = x[:, np.newaxis]\n\nplt.figure()\nplt.scatter(x, y, color='indigo', marker='x', s=40)\n\nline_x = np.array([-3, 10])\nfor name, estimator in estimators:\n    t0 = time.time()\n    estimator.fit(X, y)\n    elapsed_time = time.time() - t0\n    y_pred = estimator.predict(line_x.reshape(2, 1))\n    plt.plot(line_x, y_pred, color=colors[name], linewidth=lw,\n             label='%s (fit time: %.2fs)' % (name, elapsed_time))\n\nplt.axis('tight')\nplt.legend(loc='upper left')\nplt.title(\"Corrupt x\")\nplt.show()"
      ]
    }
  ],
  "metadata": {
    "kernelspec": {
      "display_name": "Python 3",
      "language": "python",
      "name": "python3"
    },
    "language_info": {
      "codemirror_mode": {
        "name": "ipython",
        "version": 3
      },
      "file_extension": ".py",
      "mimetype": "text/x-python",
      "name": "python",
      "nbconvert_exporter": "python",
      "pygments_lexer": "ipython3",
      "version": "3.6.4"
    }
  },
  "nbformat": 4,
  "nbformat_minor": 0
}