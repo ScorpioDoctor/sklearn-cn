{
  "cells": [
    {
      "cell_type": "code",
      "execution_count": null,
      "metadata": {
        "collapsed": false
      },
      "outputs": [],
      "source": [
        "%matplotlib inline"
      ]
    },
    {
      "cell_type": "markdown",
      "metadata": {},
      "source": [
        "\n# \u4f7f\u7528 multi-task Lasso \u7684\u8054\u5408\u7279\u5f81\u9009\u62e9\n\n\nmulti-task lasso \u5141\u8bb8\u8054\u5408\u7684\u62df\u5408\u591a\u5143\u56de\u5f52\u95ee\u9898\uff0c\u5f3a\u5236\u90a3\u4e9b\u88ab\u9009\u62e9\u7684\u7279\u5f81\u5728\u6240\u6709\u4efb\u52a1\u4e0a\u90fd\u4e00\u6837\u3002\n\u6b64\u793a\u4f8b\u6a21\u62df\u4e86\u4e00\u4e9b\u5e8f\u8d2f\u6d4b\u91cf(sequential measurements)\uff0c\u6bcf\u4e2a\u4efb\u52a1\u90fd\u662f\u5373\u65f6\u7684\uff0c\u76f8\u5173\u7684\u7279\u5f81\u7684\u5e45\u503c\u5728\u53d8\u5f97\u76f8\u540c\u7684\u65f6\u5019\u968f\u65f6\u95f4\u800c\u53d8\u5316\u3002\nmulti-task lasso\u5f3a\u5236\u90a3\u4e9b\u5728\u4e00\u4e2a\u65f6\u95f4\u70b9\u88ab\u9009\u62e9\u7684\u7279\u5f81\u5c31\u662f\u4e3a\u6240\u6709\u7684\u65f6\u95f4\u70b9\u9009\u62e9\u7684\u3002\u8fd9\u4f7f\u5f97\u4f7f\u7528 Lasso \u7684\u7279\u5f81\u9009\u62e9\u66f4\u52a0\u7a33\u5b9a\u3002\n\n\n"
      ]
    },
    {
      "cell_type": "code",
      "execution_count": null,
      "metadata": {
        "collapsed": false
      },
      "outputs": [],
      "source": [
        "print(__doc__)\n\n# Author: Alexandre Gramfort <alexandre.gramfort@inria.fr>\n# License: BSD 3 clause\n# \u7ffb\u8bd1\u8005\uff1astudyai.com\u7684Antares\u535a\u58eb\n\n\nimport matplotlib.pyplot as plt\nimport numpy as np\n\nfrom sklearn.linear_model import MultiTaskLasso, Lasso\n\nrng = np.random.RandomState(42)\n\n# Generate some 2D coefficients with sine waves with random frequency and phase\nn_samples, n_features, n_tasks = 100, 30, 40\nn_relevant_features = 5\ncoef = np.zeros((n_tasks, n_features))\ntimes = np.linspace(0, 2 * np.pi, n_tasks)\nfor k in range(n_relevant_features):\n    coef[:, k] = np.sin((1. + rng.randn(1)) * times + 3 * rng.randn(1))\n\nX = rng.randn(n_samples, n_features)\nY = np.dot(X, coef.T) + rng.randn(n_samples, n_tasks)\n\ncoef_lasso_ = np.array([Lasso(alpha=0.5).fit(X, y).coef_ for y in Y.T])\ncoef_multi_task_lasso_ = MultiTaskLasso(alpha=1.).fit(X, Y).coef_\n\n# #############################################################################\n# Plot support and time series\nfig = plt.figure(figsize=(8, 5))\nplt.subplot(1, 2, 1)\nplt.spy(coef_lasso_)\nplt.xlabel('Feature')\nplt.ylabel('Time (or Task)')\nplt.text(10, 5, 'Lasso')\nplt.subplot(1, 2, 2)\nplt.spy(coef_multi_task_lasso_)\nplt.xlabel('Feature')\nplt.ylabel('Time (or Task)')\nplt.text(10, 5, 'MultiTaskLasso')\nfig.suptitle('Coefficient non-zero location')\n\nfeature_to_plot = 0\nplt.figure()\nlw = 2\nplt.plot(coef[:, feature_to_plot], color='seagreen', linewidth=lw,\n         label='Ground truth')\nplt.plot(coef_lasso_[:, feature_to_plot], color='cornflowerblue', linewidth=lw,\n         label='Lasso')\nplt.plot(coef_multi_task_lasso_[:, feature_to_plot], color='gold', linewidth=lw,\n         label='MultiTaskLasso')\nplt.legend(loc='upper center')\nplt.axis('tight')\nplt.ylim([-1.1, 1.1])\nplt.show()"
      ]
    }
  ],
  "metadata": {
    "kernelspec": {
      "display_name": "Python 3",
      "language": "python",
      "name": "python3"
    },
    "language_info": {
      "codemirror_mode": {
        "name": "ipython",
        "version": 3
      },
      "file_extension": ".py",
      "mimetype": "text/x-python",
      "name": "python",
      "nbconvert_exporter": "python",
      "pygments_lexer": "ipython3",
      "version": "3.6.4"
    }
  },
  "nbformat": 4,
  "nbformat_minor": 0
}