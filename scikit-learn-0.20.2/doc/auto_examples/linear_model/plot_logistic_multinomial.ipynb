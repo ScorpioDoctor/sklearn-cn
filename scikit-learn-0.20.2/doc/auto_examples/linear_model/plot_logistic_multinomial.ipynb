{
  "cells": [
    {
      "cell_type": "code",
      "execution_count": null,
      "metadata": {
        "collapsed": false
      },
      "outputs": [],
      "source": [
        "%matplotlib inline"
      ]
    },
    {
      "cell_type": "markdown",
      "metadata": {},
      "source": [
        "\n====================================================\n\u7ed8\u5236 \u591a\u9879\u5f0f(multinomial)\u548c One-vs-Rest Logistic \u56de\u5f52\n====================================================\n\n\u7ed8\u5236 \u591a\u9879\u5f0fLogistic\u56de\u5f52 \u548c OVR Logistic\u56de\u5f52 \u7684\u51b3\u7b56\u9762\u3002\n\u5bf9\u5e94\u4e8e\u4e09\u4e2aOVR\u5206\u7c7b\u5668\u7684\u8d85\u5e73\u9762\u5728\u56fe\u4e2d\u4ee5\u865a\u7ebf\u7ed8\u5236(dashed lines)\u3002\n\n"
      ]
    },
    {
      "cell_type": "code",
      "execution_count": null,
      "metadata": {
        "collapsed": false
      },
      "outputs": [],
      "source": [
        "print(__doc__)\n# Authors: Tom Dupre la Tour <tom.dupre-la-tour@m4x.org>\n# License: BSD 3 clause\n# \u7ffb\u8bd1\u8005: Antares@studyai.com\n\nimport numpy as np\nimport matplotlib.pyplot as plt\nfrom sklearn.datasets import make_blobs\nfrom sklearn.linear_model import LogisticRegression\n\n# \u5236\u9020\u67093\u4e2a\u7c7b\u7684\u6570\u636e\u96c6\u7528\u4e8e\u5206\u7c7b\ncenters = [[-5, 0], [0, 1.5], [5, -1]]\nX, y = make_blobs(n_samples=1000, centers=centers, random_state=40)\ntransformation = [[0.4, 0.2], [-0.4, 1.2]]\nX = np.dot(X, transformation)\n\nfor multi_class in ('multinomial', 'ovr'):\n    clf = LogisticRegression(solver='sag', max_iter=100, random_state=42,\n                             multi_class=multi_class).fit(X, y)\n\n    # \u6253\u5370\u8bad\u7ec3\u96c6\u4e0a\u7684\u5f97\u5206\n    print(\"training score : %.3f (%s)\" % (clf.score(X, y), multi_class))\n\n    # create a mesh to plot in\n    h = .02  # mesh \u4e2d\u7684\u6b65\u957f\n    x_min, x_max = X[:, 0].min() - 1, X[:, 0].max() + 1\n    y_min, y_max = X[:, 1].min() - 1, X[:, 1].max() + 1\n    xx, yy = np.meshgrid(np.arange(x_min, x_max, h),\n                         np.arange(y_min, y_max, h))\n\n    # \u7ed8\u5236\u51b3\u7b56\u8fb9\u754c\u3002 \u4e3a\u4e86\u8fd9\u4e2a\u76ee\u7684, \u6211\u4eec\u5206\u914d\u4e00\u4e2a\u989c\u8272\u5230\n    # mesh [x_min, x_max]x[y_min, y_max] \u4e2d\u7684\u6bcf\u4e00\u4e2a\u70b9 .\n    Z = clf.predict(np.c_[xx.ravel(), yy.ravel()])\n    # \u5c06\u7ed3\u679c\u653e\u5230 color plot \u4e2d\n    Z = Z.reshape(xx.shape)\n    plt.figure()\n    plt.contourf(xx, yy, Z, cmap=plt.cm.Paired)\n    plt.title(\"Decision surface of LogisticRegression (%s)\" % multi_class)\n    plt.axis('tight')\n\n    # \u5c06\u8bad\u7ec3\u6570\u636e\u70b9\u4e5f\u753b\u51fa\u6765\n    colors = \"bry\"\n    for i, color in zip(clf.classes_, colors):\n        idx = np.where(y == i)\n        plt.scatter(X[idx, 0], X[idx, 1], c=color, cmap=plt.cm.Paired,\n                    edgecolor='black', s=20)\n\n    # \u753b\u51fa\u4e09\u4e2a one-against-all classifiers\n    xmin, xmax = plt.xlim()\n    ymin, ymax = plt.ylim()\n    coef = clf.coef_\n    intercept = clf.intercept_\n\n    def plot_hyperplane(c, color):\n        def line(x0):\n            return (-(x0 * coef[c, 0]) - intercept[c]) / coef[c, 1]\n        plt.plot([xmin, xmax], [line(xmin), line(xmax)],\n                 ls=\"--\", color=color)\n\n    for i, color in zip(clf.classes_, colors):\n        plot_hyperplane(i, color)\n\nplt.show()"
      ]
    }
  ],
  "metadata": {
    "kernelspec": {
      "display_name": "Python 3",
      "language": "python",
      "name": "python3"
    },
    "language_info": {
      "codemirror_mode": {
        "name": "ipython",
        "version": 3
      },
      "file_extension": ".py",
      "mimetype": "text/x-python",
      "name": "python",
      "nbconvert_exporter": "python",
      "pygments_lexer": "ipython3",
      "version": "3.6.4"
    }
  },
  "nbformat": 4,
  "nbformat_minor": 0
}