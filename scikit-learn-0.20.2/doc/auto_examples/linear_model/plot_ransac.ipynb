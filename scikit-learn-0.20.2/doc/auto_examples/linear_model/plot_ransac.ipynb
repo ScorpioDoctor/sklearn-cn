{
  "cells": [
    {
      "cell_type": "code",
      "execution_count": null,
      "metadata": {
        "collapsed": false
      },
      "outputs": [],
      "source": [
        "%matplotlib inline"
      ]
    },
    {
      "cell_type": "markdown",
      "metadata": {},
      "source": [
        "\n# \u4f7f\u7528 RANSAC \u8fdb\u884c\u9c81\u68d2\u7ebf\u6027\u6a21\u578b\u4f30\u8ba1\n\n\n\u5728\u8fd9\u4e2a\u4f8b\u5b50\u4e2d\uff0c\u6211\u4eec\u5c06\u770b\u5230\u5982\u4f55\u4f7f\u7528RANSAC\u7b97\u6cd5\u5728\u9519\u8bef\u6570\u636e(faulty data)\u4e0a\u9c81\u68d2\u5730\u62df\u5408\u7ebf\u6027\u6a21\u578b\u3002\n\n\u7ffb\u8bd1\u8005\uff1awww.studyai.com/antares\n\n"
      ]
    },
    {
      "cell_type": "code",
      "execution_count": null,
      "metadata": {
        "collapsed": false
      },
      "outputs": [],
      "source": [
        "import numpy as np\nfrom matplotlib import pyplot as plt\n\nfrom sklearn import linear_model, datasets\n\n\nn_samples = 1000\nn_outliers = 50\n\n\nX, y, coef = datasets.make_regression(n_samples=n_samples, n_features=1,\n                                      n_informative=1, noise=10,\n                                      coef=True, random_state=0)\n\n# \u6dfb\u52a0 outliers \u6570\u636e\u70b9\nnp.random.seed(0)\nX[:n_outliers] = 3 + 0.5 * np.random.normal(size=(n_outliers, 1))\ny[:n_outliers] = -3 + 10 * np.random.normal(size=n_outliers)\n\n# \u4f7f\u7528\u6240\u6709\u6570\u636e\u62df\u5408\u7ebf\u6027\u6a21\u578b\nlr = linear_model.LinearRegression()\nlr.fit(X, y)\n\n# \u4f7f\u7528 RANSAC \u7b97\u6cd5\u9c81\u68d2\u6ef4\u62df\u5408\u7ebf\u6027\u6a21\u578b\nransac = linear_model.RANSACRegressor()\nransac.fit(X, y)\ninlier_mask = ransac.inlier_mask_\noutlier_mask = np.logical_not(inlier_mask)\n\n# \u4f7f\u7528\u4f30\u8ba1\u5f97\u5230\u7684\u6a21\u578b\u62df\u5408\u6570\u636e\nline_X = np.arange(X.min(), X.max())[:, np.newaxis]\nline_y = lr.predict(line_X)\nline_y_ransac = ransac.predict(line_X)\nprint(line_X.shape, line_y.shape, line_y_ransac.shape)\n\n# \u6bd4\u8f83\u4f30\u8ba1\u51fa\u7684 coefficients\nprint(\"Estimated coefficients (true, linear regression, RANSAC):\")\nprint(coef, lr.coef_, ransac.estimator_.coef_)\n\nlw = 2\nplt.scatter(X[inlier_mask], y[inlier_mask], color='yellowgreen', marker='.',\n            label='Inliers')\nplt.scatter(X[outlier_mask], y[outlier_mask], color='gold', marker='.',\n            label='Outliers')\nplt.plot(line_X, line_y, color='navy', linewidth=lw, label='Linear regressor')\nplt.plot(line_X, line_y_ransac, color='cornflowerblue', linewidth=lw,\n         label='RANSAC regressor')\nplt.legend(loc='lower right')\nplt.xlabel(\"Input\")\nplt.ylabel(\"Response\")\nplt.show()"
      ]
    }
  ],
  "metadata": {
    "kernelspec": {
      "display_name": "Python 3",
      "language": "python",
      "name": "python3"
    },
    "language_info": {
      "codemirror_mode": {
        "name": "ipython",
        "version": 3
      },
      "file_extension": ".py",
      "mimetype": "text/x-python",
      "name": "python",
      "nbconvert_exporter": "python",
      "pygments_lexer": "ipython3",
      "version": "3.6.4"
    }
  },
  "nbformat": 4,
  "nbformat_minor": 0
}