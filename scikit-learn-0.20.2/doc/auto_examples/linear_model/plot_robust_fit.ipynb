{
  "cells": [
    {
      "cell_type": "code",
      "execution_count": null,
      "metadata": {
        "collapsed": false
      },
      "outputs": [],
      "source": [
        "%matplotlib inline"
      ]
    },
    {
      "cell_type": "markdown",
      "metadata": {},
      "source": [
        "\n\u9c81\u68d2\u7ebf\u6027\u4f30\u8ba1\u5668\u62df\u5408\u5bf9\u6bd4\u8bd5\u9a8c\n===============================\n\n\u8fd9\u91cc\uff0c\u75283\u9636\u591a\u9879\u5f0f\u5bf9\u6b63\u5f26\u51fd\u6570\u8fdb\u884c\u62df\u5408\uff0c\u6b63\u5f26\u51fd\u6570\u6570\u503c\u63a5\u8fd1\u4e8e\u96f6\u3002\n\n\u9c81\u68d2\u7684\u62df\u5408\u5728\u591a\u79cd\u4e0d\u540c\u60c5\u5f62\u4e0b\u505a\u4e86\u5c55\u793a:\n\n- \u6ca1\u6709\u6d4b\u91cf\u8bef\u5dee, \u53ea\u6709\u6a21\u578b\u8bef\u5dee(\u5373\uff0c\u4f7f\u7528\u591a\u9879\u5f0f\u6a21\u578b\u62df\u5408\u6b63\u5f26\u51fd\u6570\u6a21\u578b\u5e26\u6765\u7684\u8bef\u5dee)\n\n- \u5728 X \u4e2d\u6709\u6d4b\u91cf\u8bef\u5dee\n\n- \u5728 y \u4e2d\u6709\u6d4b\u91cf\u8bef\u5dee\n\n\u65e0\u6c61\u67d3\u65b0\u6570\u636e\u7684\u4e2d\u4f4d\u7edd\u5bf9\u504f\u5dee(median absolute deviation)\u7528\u6765\u5224\u65ad\u9884\u6d4b\u7684\u8d28\u91cf\u3002\n\n\u6211\u4eec\u53ef\u4ee5\u770b\u5230\u7684\u662f:\n\n- RANSAC \u5728y\u65b9\u5411\u4e0a\u6709\u5f3a\u79bb\u7fa4\u70b9\u7684\u65f6\u5019\u8868\u73b0\u4e0d\u9519\n\n- TheilSen \u5bf9\u5f31\u79bb\u7fa4\u70b9\u7684\u6548\u679c\u4e0d\u9519, \u4e0d\u4ec5\u5728 X \u65b9\u5411\u8fd8\u6709 y \u65b9\u5411, \u4f46\u662f\u5b83\u6709\u4e00\u4e2a\u5d29\u6e83\u70b9\n  \u5728\u8fd9\u4e2a\u5d29\u6e83\u70b9\u4e4b\u4e0a\uff0c\u5b83\u7684\u8868\u73b0\u5f31\u4e8eOLS\u3002\n\n- HuberRegressor \u7684\u5f97\u5206\u53ef\u80fd\u65e0\u6cd5\u4e0e TheilSen \u548c RANSAC \u76f4\u63a5\u5bf9\u6bd4\uff0c\u56e0\u4e3a\u5b83\u4e0d\u5c1d\u8bd5\n  \u5b8c\u5168\u8fc7\u6ee4\u6389\u79bb\u7fa4\u70b9\u800c\u662f\u53bb\u524a\u5f31\u5b83\u4eec\u5bf9\u6a21\u578b\u62df\u5408\u7684\u5f71\u54cd\u3002\n\n\n"
      ]
    },
    {
      "cell_type": "code",
      "execution_count": null,
      "metadata": {
        "collapsed": false
      },
      "outputs": [],
      "source": [
        "from matplotlib import pyplot as plt\nimport numpy as np\n\nfrom sklearn.linear_model import (\n    LinearRegression, TheilSenRegressor, RANSACRegressor, HuberRegressor)\nfrom sklearn.metrics import mean_squared_error\nfrom sklearn.preprocessing import PolynomialFeatures\nfrom sklearn.pipeline import make_pipeline\n\nnp.random.seed(42)\n\nX = np.random.normal(size=400)\ny = np.sin(X)\n# \u786e\u4fdd X \u662f\u4e00\u4e2a 2D \u6570\u7ec4\nX = X[:, np.newaxis]\n# \u6216 X= X.reshape(-1,1)\n\nX_test = np.random.normal(size=200)\ny_test = np.sin(X_test)\nX_test = X_test[:, np.newaxis]\n\ny_errors = y.copy()\ny_errors[::3] = 3\n\nX_errors = X.copy()\nX_errors[::3] = 3\n\ny_errors_large = y.copy()\ny_errors_large[::3] = 10\n\nX_errors_large = X.copy()\nX_errors_large[::3] = 10\n\nestimators = [('OLS', LinearRegression()),\n              ('Theil-Sen', TheilSenRegressor(random_state=42)),\n              ('RANSAC', RANSACRegressor(random_state=42)),\n              ('HuberRegressor', HuberRegressor())]\ncolors = {'OLS': 'turquoise', 'Theil-Sen': 'gold', 'RANSAC': 'lightgreen', 'HuberRegressor': 'black'}\nlinestyle = {'OLS': '-', 'Theil-Sen': '-.', 'RANSAC': '--', 'HuberRegressor': '--'}\nlw = 3\n\nx_plot = np.linspace(X.min(), X.max())\nfor title, this_X, this_y in [\n        ('Modeling Errors Only', X, y),\n        ('Corrupt X, Small Deviants', X_errors, y),\n        ('Corrupt y, Small Deviants', X, y_errors),\n        ('Corrupt X, Large Deviants', X_errors_large, y),\n        ('Corrupt y, Large Deviants', X, y_errors_large)]:\n    plt.figure(figsize=(5, 4))\n    plt.plot(this_X[:, 0], this_y, 'b+')\n\n    for name, estimator in estimators:\n        model = make_pipeline(PolynomialFeatures(3), estimator)\n        model.fit(this_X, this_y)\n        mse = mean_squared_error(model.predict(X_test), y_test)\n        y_plot = model.predict(x_plot[:, np.newaxis])\n        plt.plot(x_plot, y_plot, color=colors[name], linestyle=linestyle[name],\n                 linewidth=lw, label='%s: error = %.3f' % (name, mse))\n\n    legend_title = 'Error of Mean\\nAbsolute Deviation\\nto Non-corrupt Data'\n    legend = plt.legend(loc='upper right', frameon=False, title=legend_title,\n                        prop=dict(size='x-small'))\n    plt.xlim(-4, 10.2)\n    plt.ylim(-2, 10.2)\n    plt.title(title)\nplt.show()"
      ]
    }
  ],
  "metadata": {
    "kernelspec": {
      "display_name": "Python 3",
      "language": "python",
      "name": "python3"
    },
    "language_info": {
      "codemirror_mode": {
        "name": "ipython",
        "version": 3
      },
      "file_extension": ".py",
      "mimetype": "text/x-python",
      "name": "python",
      "nbconvert_exporter": "python",
      "pygments_lexer": "ipython3",
      "version": "3.6.4"
    }
  },
  "nbformat": 4,
  "nbformat_minor": 0
}