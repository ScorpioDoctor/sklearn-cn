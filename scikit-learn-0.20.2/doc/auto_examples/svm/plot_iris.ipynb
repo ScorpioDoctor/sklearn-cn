{
  "cells": [
    {
      "cell_type": "code",
      "execution_count": null,
      "metadata": {
        "collapsed": false
      },
      "outputs": [],
      "source": [
        "%matplotlib inline"
      ]
    },
    {
      "cell_type": "markdown",
      "metadata": {},
      "source": [
        "\n# \u5728\u9e22\u5c3e\u82b1\u6570\u636e\u96c6\u4e0a\u7ed8\u5236\u4f7f\u7528\u4e0d\u540c\u7c7b\u578bSVM\u5206\u7c7b\u5668\u7684\u5206\u7c7b\u7ed3\u679c\n\n\n\u4e0d\u540c\u7ebf\u6027SVM\u5206\u7c7b\u5668\u5728\u9e22\u5c3e\u82b1\u6570\u636e\u96c6\u7684\u4e8c\u7ef4\u6295\u5f71\u4e0a\u7684\u6bd4\u8f83\u3002\u6211\u4eec\u53ea\u8003\u8651\u8fd9\u4e2a\u6570\u636e\u96c6\u7684\u524d\u4e24\u4e2a\u7279\u5f81\uff1a\n\n- \u82b1\u843c\u957f\u5ea6(Sepal length)\n- \u82b1\u843c\u5bbd\u5ea6(Sepal width)\n\n\u8fd9\u4e2a\u4f8b\u5b50\u5c55\u793a\u4e86\u5982\u4f55\u7ed8\u5236\u56db\u4e2a\u5177\u6709\u4e0d\u540c\u6838\u7684SVM\u5206\u7c7b\u5668\u7684\u51b3\u7b56\u9762\u3002\n\n\u7ebf\u6027\u6a21\u578b  ``LinearSVC()`` \u548c ``SVC(kernel='linear')`` \u4ea7\u751f\u7684\u51b3\u7b56\u8fb9\u754c\u7565\u6709\u4e0d\u540c\u3002\n\u8fd9\u53ef\u80fd\u662f\u4ee5\u4e0b\u5dee\u5f02\u5bfc\u81f4\u7684\u7ed3\u679c\uff1a\n\n- ``LinearSVC`` \u6700\u5c0f\u5316\u5e73\u65b9\u6298\u9875\u635f\u5931(squared hinge loss) \u800c ``SVC`` \u6700\u5c0f\u5316\u5e38\u89c4\u7684\u6298\u9875\u635f\u5931(regular hinge loss)\u3002\n\n- ``LinearSVC`` \u4f7f\u7528 One-vs-All (\u4e5f\u88ab\u79f0\u4e3a One-vs-Rest) \u591a\u7c7b\u5206\u7c7b\u7b56\u7565\uff0c\u800c ``SVC`` \u4f7f\u7528 One-vs-One \u591a\u7c7b\u5206\u7c7b\u7b56\u7565\u3002\n\n\u4e24\u4e2a\u7ebf\u6027\u6a21\u578b\u90fd\u5177\u6709\u7ebf\u6027\u51b3\u7b56\u9762(\u76f8\u4ea4\u7684\u8d85\u5e73\u9762)\uff0c\u800c\u5e26\u6709\u975e\u7ebf\u6027\u6838(\u591a\u9879\u5f0f\u6838\u4e0e\u9ad8\u65af\u5f84\u5411\u57fa\u6838)\u7684SVM\u6709\u66f4\u52a0\u7075\u6d3b\u7684\u975e\u7ebf\u6027\u51b3\u7b56\u8fb9\u754c\uff0c\n\u8fd9\u4e9b\u51b3\u7b56\u8fb9\u754c\u7684shapes\u4f9d\u8d56\u4e8e\u6838\u7684\u79cd\u7c7b\u548c\u5176\u53c2\u6570\u3002\n\n.. NOTE:: \u5c3d\u7ba1\u7ed8\u5236\u5206\u7c7b\u5668\u57282D\u8ff7\u4f60\u6570\u636e\u96c6\u4e0a\u7684\u51b3\u7b56\u51fd\u6570\u6709\u52a9\u4e8e\u6211\u4eec\u83b7\u5f97\u5bf9\u8fd9\u4e9b\u5206\u7c7b\u5668\u7684\u8868\u8fbe\u80fd\u529b\u7684\u76f4\u89c2\u7406\u89e3\uff0c\n   \u4f46\u662f\u8fd9\u4e9b\u76f4\u89c2\u5370\u8c61\u4e0d\u80fd\u603b\u662f\u63a8\u5e7f\u5230\u66f4\u771f\u5b9e\u7684\u9ad8\u7ef4\u7a7a\u95f4\u4e2d\u7684\u95ee\u9898\u4e0a\u53bb\u3002\n\n\u7ffb\u8bd1\u8005\uff1ahttp://studyai.com/antares\n\n"
      ]
    },
    {
      "cell_type": "code",
      "execution_count": null,
      "metadata": {
        "collapsed": false
      },
      "outputs": [],
      "source": [
        "print(__doc__)\n\nimport numpy as np\nimport matplotlib.pyplot as plt\nfrom sklearn import svm, datasets\n\n\ndef make_meshgrid(x, y, h=.02):\n    \"\"\"Create a mesh of points to plot in\n\n    Parameters\n    ----------\n    x: data to base x-axis meshgrid on\n    y: data to base y-axis meshgrid on\n    h: stepsize for meshgrid, optional\n\n    Returns\n    -------\n    xx, yy : ndarray\n    \"\"\"\n    x_min, x_max = x.min() - 1, x.max() + 1\n    y_min, y_max = y.min() - 1, y.max() + 1\n    xx, yy = np.meshgrid(np.arange(x_min, x_max, h),\n                         np.arange(y_min, y_max, h))\n    return xx, yy\n\n\ndef plot_contours(ax, clf, xx, yy, **params):\n    \"\"\"Plot the decision boundaries for a classifier.\n\n    Parameters\n    ----------\n    ax: matplotlib axes object\n    clf: a classifier\n    xx: meshgrid ndarray\n    yy: meshgrid ndarray\n    params: dictionary of params to pass to contourf, optional\n    \"\"\"\n    Z = clf.predict(np.c_[xx.ravel(), yy.ravel()])\n    Z = Z.reshape(xx.shape)\n    out = ax.contourf(xx, yy, Z, **params)\n    return out\n\n\n# import some data to play with\niris = datasets.load_iris()\n# Take the first two features. We could avoid this by using a two-dim dataset\nX = iris.data[:, :2]\ny = iris.target\n\n# we create an instance of SVM and fit out data. We do not scale our\n# data since we want to plot the support vectors\nC = 1.0  # SVM regularization parameter\nmodels = (svm.SVC(kernel='linear', C=C),\n          svm.LinearSVC(C=C),\n          svm.SVC(kernel='rbf', gamma=0.7, C=C),\n          svm.SVC(kernel='poly', degree=3, C=C))\nmodels = (clf.fit(X, y) for clf in models)\n\n# title for the plots\ntitles = ('SVC with linear kernel',\n          'LinearSVC (linear kernel)',\n          'SVC with RBF kernel',\n          'SVC with polynomial (degree 3) kernel')\n\n# Set-up 2x2 grid for plotting.\nfig, sub = plt.subplots(2, 2)\nplt.subplots_adjust(wspace=0.4, hspace=0.4)\n\nX0, X1 = X[:, 0], X[:, 1]\nxx, yy = make_meshgrid(X0, X1)\n\nfor clf, title, ax in zip(models, titles, sub.flatten()):\n    plot_contours(ax, clf, xx, yy,\n                  cmap=plt.cm.coolwarm, alpha=0.8)\n    ax.scatter(X0, X1, c=y, cmap=plt.cm.coolwarm, s=20, edgecolors='k')\n    ax.set_xlim(xx.min(), xx.max())\n    ax.set_ylim(yy.min(), yy.max())\n    ax.set_xlabel('Sepal length')\n    ax.set_ylabel('Sepal width')\n    ax.set_xticks(())\n    ax.set_yticks(())\n    ax.set_title(title)\n\nplt.show()"
      ]
    }
  ],
  "metadata": {
    "kernelspec": {
      "display_name": "Python 3",
      "language": "python",
      "name": "python3"
    },
    "language_info": {
      "codemirror_mode": {
        "name": "ipython",
        "version": 3
      },
      "file_extension": ".py",
      "mimetype": "text/x-python",
      "name": "python",
      "nbconvert_exporter": "python",
      "pygments_lexer": "ipython3",
      "version": "3.6.4"
    }
  },
  "nbformat": 4,
  "nbformat_minor": 0
}