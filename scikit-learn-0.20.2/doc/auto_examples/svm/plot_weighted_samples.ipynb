{
  "cells": [
    {
      "cell_type": "code",
      "execution_count": null,
      "metadata": {
        "collapsed": false
      },
      "outputs": [],
      "source": [
        "%matplotlib inline"
      ]
    },
    {
      "cell_type": "markdown",
      "metadata": {},
      "source": [
        "\n=====================\nSVM: \u52a0\u6743\u6837\u672c\n=====================\n\n\u7ed8\u5236\u52a0\u6743\u6570\u636e\u96c6\u7684\u51b3\u7b56\u51fd\u6570, \u5176\u4e2d\u6570\u636e\u70b9\u7684\u5927\u5c0f(\u5c31\u662f\u56fe\u4e2d\u5708\u5708\u7684\u76f4\u5f84)\u4e0e\u5b83\u7684\u6743\u91cd\u6210\u6b63\u6bd4\u3002\n\n\u6837\u672c\u52a0\u6743\u91cd\u65b0\u6807\u5ea6C\u53c2\u6570\uff0c\u8fd9\u610f\u5473\u7740\u5206\u7c7b\u5668\u66f4\u6ce8\u91cd\u628a\u6743\u91cd\u5927\u7684\u90a3\u4e9b\u70b9\u5206\u7c7b\u6b63\u786e\u3002\n\u8fd9\u79cd\u5f71\u54cd\u5f80\u5f80\u662f\u5fae\u5999\u7684\u3002\u4e3a\u4e86\u5f3a\u8c03\u8fd9\u91cc\u7684\u6548\u679c\uff0c\u6211\u4eec\u7279\u522b\u52a0\u5927\u4e86\u79bb\u7fa4\u503c\u7684\u6743\u91cd\uff0c\u4ece\u800c\u4f7f\u5f97\u51b3\u7b56\u8fb9\u754c\u7684\u53d8\u5f62\u975e\u5e38\u660e\u663e\u3002\n\n"
      ]
    },
    {
      "cell_type": "code",
      "execution_count": null,
      "metadata": {
        "collapsed": false
      },
      "outputs": [],
      "source": [
        "print(__doc__)\n\nimport numpy as np\nimport matplotlib.pyplot as plt\nfrom sklearn import svm\n\n\ndef plot_decision_function(classifier, sample_weight, axis, title):\n    # plot the decision function\n    xx, yy = np.meshgrid(np.linspace(-4, 5, 500), np.linspace(-4, 5, 500))\n\n    Z = classifier.decision_function(np.c_[xx.ravel(), yy.ravel()])\n    Z = Z.reshape(xx.shape)\n\n    # plot the line, the points, and the nearest vectors to the plane\n    axis.contourf(xx, yy, Z, alpha=0.75, cmap=plt.cm.bone)\n    axis.scatter(X[:, 0], X[:, 1], c=y, s=100 * sample_weight, alpha=0.9,\n                 cmap=plt.cm.bone, edgecolors='black')\n\n    axis.axis('off')\n    axis.set_title(title)\n\n\n# we create 20 points\nnp.random.seed(0)\nX = np.r_[np.random.randn(10, 2) + [1, 1], np.random.randn(10, 2)]\ny = [1] * 10 + [-1] * 10\nsample_weight_last_ten = abs(np.random.randn(len(X)))\nsample_weight_constant = np.ones(len(X))\n# and bigger weights to some outliers\nsample_weight_last_ten[15:] *= 5\nsample_weight_last_ten[9] *= 15\n\n# for reference, first fit without sample weights\n\n# fit the model\nclf_weights = svm.SVC(gamma=1)\nclf_weights.fit(X, y, sample_weight=sample_weight_last_ten)\n\nclf_no_weights = svm.SVC(gamma=1)\nclf_no_weights.fit(X, y)\n\nfig, axes = plt.subplots(1, 2, figsize=(14, 6))\nplot_decision_function(clf_no_weights, sample_weight_constant, axes[0],\n                       \"Constant weights\")\nplot_decision_function(clf_weights, sample_weight_last_ten, axes[1],\n                       \"Modified weights\")\n\nplt.show()"
      ]
    }
  ],
  "metadata": {
    "kernelspec": {
      "display_name": "Python 3",
      "language": "python",
      "name": "python3"
    },
    "language_info": {
      "codemirror_mode": {
        "name": "ipython",
        "version": 3
      },
      "file_extension": ".py",
      "mimetype": "text/x-python",
      "name": "python",
      "nbconvert_exporter": "python",
      "pygments_lexer": "ipython3",
      "version": "3.6.4"
    }
  },
  "nbformat": 4,
  "nbformat_minor": 0
}