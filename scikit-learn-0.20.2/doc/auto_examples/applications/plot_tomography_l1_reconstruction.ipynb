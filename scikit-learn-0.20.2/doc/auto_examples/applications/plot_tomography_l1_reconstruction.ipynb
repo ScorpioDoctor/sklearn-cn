{
  "cells": [
    {
      "cell_type": "code",
      "execution_count": null,
      "metadata": {
        "collapsed": false
      },
      "outputs": [],
      "source": [
        "%matplotlib inline"
      ]
    },
    {
      "cell_type": "markdown",
      "metadata": {},
      "source": [
        "\n======================================================================\n\u538b\u7f29\u611f\u77e5: \u4f7f\u7528 L1 prior (Lasso) \u8fdb\u884c\u5c42\u6790\u91cd\u5efa\n======================================================================\n\n\u8fd9\u4e2a\u4f8b\u5b50\u663e\u793a\u4e86\u4ece\u4e00\u7ec4\u5e73\u884c\u6295\u5f71\u4e2d\u91cd\u5efa\u56fe\u50cf\u7684\u8fc7\u7a0b\uff0c\u8fd9\u4e9b\u6295\u5f71\u662f\u6cbf\u7740\u4e0d\u540c\u7684\u89d2\u5ea6\u83b7\u5f97\u7684\u3002\n\u8fd9\u79cd\u6570\u636e\u96c6\u662f\u5728\u8ba1\u7b97\u673a\u65ad\u5c42\u626b\u63cf(**computed tomography** (CT))\u4e2d\u83b7\u53d6\u7684\u3002\n\n\u5728\u6ca1\u6709\u5173\u4e8e\u6837\u672c\u7684\u4efb\u4f55\u5148\u9a8c\u4fe1\u606f\u7684\u60c5\u51b5\u4e0b\uff0c\u91cd\u5efa\u56fe\u50cf\u6240\u9700\u7684\u6295\u5f71\u6570\u662f\u56fe\u50cf\u7ebf\u6027\u5927\u5c0f ``l`` \u7684\u6570\u91cf\u7ea7(\u4ee5\u50cf\u7d20\u4e3a\u5355\u4f4d)\u3002\n\u4e3a\u4e86\u7b80\u5355\u8d77\u89c1\uff0c\u6211\u4eec\u5728\u8fd9\u91cc\u8003\u8651\u7a00\u758f\u56fe\u50cf\uff0c\u5176\u4e2d\u53ea\u6709\u7269\u4f53\u8fb9\u754c\u4e0a\u7684\u50cf\u7d20\u6709\u4e00\u4e2a\u975e\u96f6\u503c\u3002\n\u4f8b\u5982\uff0c\u8fd9\u6837\u7684\u6570\u636e\u53ef\u4ee5\u5bf9\u5e94\u4e8e\u8702\u7a9d\u6750\u6599\u3002 \u4f46\u662f\uff0c\u8bf7\u6ce8\u610f\uff0c\u5927\u591a\u6570\u56fe\u50cf\u90fd\u662f\u5728\u4e0d\u540c\u7684\u57fa(basis)\u4e0a\u7a00\u758f\u7684\uff0c\u4f8b\u5982Haar\u5c0f\u6ce2\u3002\n\u53ea\u83b7\u5f97\u4e86 ``l/7`` \u6295\u5f71\uff0c\u56e0\u6b64\u6709\u5fc5\u8981\u4f7f\u7528\u73b0\u6709\u7684\u6837\u672c\u4e0a\u7684\u5148\u9a8c\u4fe1\u606f(\u5176\u7a00\u758f\u6027)\uff1a\u8fd9\u662f\u538b\u7f29\u611f\u77e5(**compressive sensing**)\u7684\u4e00\u4e2a\u4f8b\u5b50\u3002\n\n\u5c42\u6790\u6295\u5f71\u64cd\u4f5c( tomography projection operation)\u662f\u4e00\u79cd\u7ebf\u6027\u53d8\u6362\u3002\u9664\u4e86\u5bf9\u5e94\u4e8e\u7ebf\u6027\u56de\u5f52\u7684\u6570\u636e\u4fdd\u771f\u5ea6\u9879(data-fidelity term)\u5916\uff0c\n\u6211\u4eec\u8fd8\u60e9\u7f5a\u56fe\u50cf\u7684L1\u8303\u6570\u4ee5\u4fbf\u628a\u56fe\u50cf\u7684\u7a00\u758f\u6027\u4e5f\u8003\u8651\u5230\u6a21\u578b\u4e2d\u53bb\u3002 \u7531\u6b64\u4ea7\u751f\u7684\u4f18\u5316\u95ee\u9898\u79f0\u4e3a `lasso` \u95ee\u9898\u3002\n\u6211\u4eec\u4f7f\u7528 :class:`sklearn.linear_model.Lasso` \u7c7b\uff0c\u5b83\u4f7f\u7528\u5750\u6807\u4e0b\u964d\u7b97\u6cd5\u3002\n\u91cd\u8981\u7684\u662f\uff0c\u8fd9\u4e2a\u5b9e\u73b0\u5728\u7a00\u758f\u77e9\u9635\u4e0a\u7684\u8ba1\u7b97\u6548\u7387\u6bd4\u8fd9\u91cc\u4f7f\u7528\u7684\u6295\u5f71\u7b97\u5b50(projection operator)\u66f4\u9ad8\u6548\u3002\n\nL1\u60e9\u7f5a\u7684\u91cd\u5efa\u7ed3\u679c\u4e3a\u96f6\u8bef\u5dee(\u6240\u6709\u50cf\u7d20\u90fd\u88ab\u6210\u529f\u6807\u8bb0\u4e3a0\u62161)\uff0c\u5373\u4f7f\u5728\u6295\u5f71\u4e2d\u6dfb\u52a0\u4e86\u566a\u58f0\u3002\n\u76f8\u6bd4\u4e4b\u4e0b\uff0cL2\u60e9\u7f5a(:class:`sklearn.linear_model.Ridge`)\u4f1a\u4ea7\u751f\u5927\u91cf\u7684\u50cf\u7d20\u6807\u8bb0\u9519\u8bef\u3002\n\u5728\u91cd\u5efa\u56fe\u50cf\u4e0a\u89c2\u5bdf\u5230\u91cd\u8981\u7684\u4f2a\u5f71(Important artifacts)\uff0c\u8fd9\u4e0eL1\u60e9\u7f5a\u76f8\u53cd\u3002\u7279\u522b\u8981\u6ce8\u610f\u7684\u662f\uff0c\u5706\u5f62\u4f2a\u5f71\u5c06\u89d2\u4e0a\u7684\u50cf\u7d20\u5206\u9694\u5f00\u6765\uff0c\n\u800c\u4e0e\u4e2d\u592e\u5706\u76d8\u5185\u7684\u50cf\u7d20\u76f8\u6bd4\uff0c\u89d2\u70b9\u5904\u7684\u50cf\u7d20\u53ea\u8d21\u732e\u4e86\u5f88\u5c11\u7684\u6295\u5f71\u3002\n\n"
      ]
    },
    {
      "cell_type": "code",
      "execution_count": null,
      "metadata": {
        "collapsed": false
      },
      "outputs": [],
      "source": [
        "from __future__ import division\n\nprint(__doc__)\n\n# Author: Emmanuelle Gouillart <emmanuelle.gouillart@nsup.org>\n# License: BSD 3 clause\n# \u7ffb\u8bd1\u8005\uff1astudyai.com\u7684Antares\u535a\u58eb\n\nimport numpy as np\nfrom scipy import sparse\nfrom scipy import ndimage\nfrom sklearn.linear_model import Lasso\nfrom sklearn.linear_model import Ridge\nimport matplotlib.pyplot as plt\n\n\ndef _weights(x, dx=1, orig=0):\n    x = np.ravel(x)\n    floor_x = np.floor((x - orig) / dx).astype(np.int64)\n    alpha = (x - orig - floor_x * dx) / dx\n    return np.hstack((floor_x, floor_x + 1)), np.hstack((1 - alpha, alpha))\n\n\ndef _generate_center_coordinates(l_x):\n    X, Y = np.mgrid[:l_x, :l_x].astype(np.float64)\n    center = l_x / 2.\n    X += 0.5 - center\n    Y += 0.5 - center\n    return X, Y\n\n\ndef build_projection_operator(l_x, n_dir):\n    \"\"\" \u8ba1\u7b97\u5c42\u6790\u8bbe\u8ba1\u77e9\u9635\n\n    \u53c2\u6570\n    ----------\n\n    l_x : int\n        \u56fe\u50cf\u6570\u7ec4\u7684\u7ebf\u6027\u957f\u5ea6\n\n    n_dir : int\n        \u83b7\u5f97\u6295\u5f71\u6240\u9700\u7684\u89d2\u5ea6\u7684\u6570\u91cf.\n\n    Returns\n    -------\n    p :  shape \u4e3a (n_dir l_x, l_x**2) \u7684\u7a00\u758f\u77e9\u9635\n    \"\"\"\n    X, Y = _generate_center_coordinates(l_x)\n    angles = np.linspace(0, np.pi, n_dir, endpoint=False)\n    data_inds, weights, camera_inds = [], [], []\n    data_unravel_indices = np.arange(l_x ** 2)\n    data_unravel_indices = np.hstack((data_unravel_indices,\n                                      data_unravel_indices))\n    for i, angle in enumerate(angles):\n        Xrot = np.cos(angle) * X - np.sin(angle) * Y\n        inds, w = _weights(Xrot, dx=1, orig=X.min())\n        mask = np.logical_and(inds >= 0, inds < l_x)\n        weights += list(w[mask])\n        camera_inds += list(inds[mask] + i * l_x)\n        data_inds += list(data_unravel_indices[mask])\n    proj_operator = sparse.coo_matrix((weights, (camera_inds, data_inds)))\n    return proj_operator\n\n\ndef generate_synthetic_data():\n    \"\"\" \u5408\u6210\u4e8c\u8fdb\u5236\u6570\u636e \"\"\"\n    rs = np.random.RandomState(0)\n    n_pts = 36\n    x, y = np.ogrid[0:l, 0:l]\n    mask_outer = (x - l / 2.) ** 2 + (y - l / 2.) ** 2 < (l / 2.) ** 2\n    mask = np.zeros((l, l))\n    points = l * rs.rand(2, n_pts)\n    mask[(points[0]).astype(np.int), (points[1]).astype(np.int)] = 1\n    mask = ndimage.gaussian_filter(mask, sigma=l / n_pts)\n    res = np.logical_and(mask > mask.mean(), mask_outer)\n    return np.logical_xor(res, ndimage.binary_erosion(res))\n\n\n# \u751f\u6210\u5408\u6210\u56fe\u50cf\u548c\u6295\u5f71\nl = 128\nproj_operator = build_projection_operator(l, l // 7)\ndata = generate_synthetic_data()\nproj = proj_operator * data.ravel()[:, np.newaxis]\nproj += 0.15 * np.random.randn(*proj.shape)\n\n# \u4f7f\u7528 L2 (Ridge) \u60e9\u7f5a\u7684\u91cd\u5efa\nrgr_ridge = Ridge(alpha=0.2)\nrgr_ridge.fit(proj_operator, proj.ravel())\nrec_l2 = rgr_ridge.coef_.reshape(l, l)\n\n# \u4f7f\u7528 L1 (Lasso) \u60e9\u7f5a\u7684\u91cd\u5efa\n# alpha \u7684\u6700\u4f73\u503c \u4f7f\u7528\u4ea4\u53c9\u9a8c\u8bc1\u6765\u786e\u5b9a: LassoCV\nrgr_lasso = Lasso(alpha=0.001)\nrgr_lasso.fit(proj_operator, proj.ravel())\nrec_l1 = rgr_lasso.coef_.reshape(l, l)\n\nplt.figure(figsize=(8, 3.3))\nplt.subplot(131)\nplt.imshow(data, cmap=plt.cm.gray, interpolation='nearest')\nplt.axis('off')\nplt.title('original image')\nplt.subplot(132)\nplt.imshow(rec_l2, cmap=plt.cm.gray, interpolation='nearest')\nplt.title('L2 penalization')\nplt.axis('off')\nplt.subplot(133)\nplt.imshow(rec_l1, cmap=plt.cm.gray, interpolation='nearest')\nplt.title('L1 penalization')\nplt.axis('off')\n\nplt.subplots_adjust(hspace=0.01, wspace=0.01, top=1, bottom=0, left=0,\n                    right=1)\n\nplt.show()"
      ]
    }
  ],
  "metadata": {
    "kernelspec": {
      "display_name": "Python 3",
      "language": "python",
      "name": "python3"
    },
    "language_info": {
      "codemirror_mode": {
        "name": "ipython",
        "version": 3
      },
      "file_extension": ".py",
      "mimetype": "text/x-python",
      "name": "python",
      "nbconvert_exporter": "python",
      "pygments_lexer": "ipython3",
      "version": "3.6.4"
    }
  },
  "nbformat": 4,
  "nbformat_minor": 0
}