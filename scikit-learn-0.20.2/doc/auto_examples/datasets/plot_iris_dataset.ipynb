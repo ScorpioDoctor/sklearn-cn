{
  "cells": [
    {
      "cell_type": "code",
      "execution_count": null,
      "metadata": {
        "collapsed": false
      },
      "outputs": [],
      "source": [
        "%matplotlib inline"
      ]
    },
    {
      "cell_type": "markdown",
      "metadata": {},
      "source": [
        "\n=========================================================\n\u9e22\u5c3e\u82b1\u6570\u636e\u96c6(Iris Dataset)\n=========================================================\n\u8be5\u6570\u636e\u96c6\u5305\u542b\u4e86\u4e09\u79cd\u4e0d\u540c\u54c1\u79cd\u7684\u9e22\u5c3e\u82b1(Setosa, Versicolour, \u548c Virginica) \u3002\n\u6bcf\u4e2a\u9e22\u5c3e\u82b1\u6837\u672c\u4e0a\u91c7\u96c6\u56db\u4e2a\u7279\u5f81: \u82b1\u74e3(petal)\u7684\u957f\u5ea6,\u5bbd\u5ea6 \u548c \u82b1\u843c(sepal)\u7684\u957f\u5ea6,\u5bbd\u5ea6\uff0c\n\u603b\u5171150\u4e2a\u6837\u672c\uff0c\u6240\u4ee5\u6700\u7ec8\u7684\u6570\u636e\u5b58\u50a8\u4e3a 150x4 numpy.ndarray\u3002\n\nnumpy.ndarray \u7684\u6bcf\u4e00\u884c\u5bf9\u5e94\u4e00\u4e2a\u6837\u672c\uff0c\u800c\u56db\u4e2a\u7279\u5f81\u6784\u6210\u7684\u56db\u5217\u7684\u987a\u5e8f\u4e3a:\nSepal Length, Sepal Width, Petal Length , Petal Width .\n\n\u4e0b\u9762\u8fd9\u4e2a\u56fe\u53ea\u662f\u7528\u4e86\u524d\u4e24\u4e2a\u7279\u5f81\u753b\u51fa\u6765\u7684\u3002\n\u8bf7\u770b `\u8fd9\u513f <https://en.wikipedia.org/wiki/Iris_flower_data_set>`_ \n\u83b7\u5f97\u6b64\u6570\u636e\u96c6\u7684\u66f4\u591a\u4fe1\u606f\u3002\n\n"
      ]
    },
    {
      "cell_type": "code",
      "execution_count": null,
      "metadata": {
        "collapsed": false
      },
      "outputs": [],
      "source": [
        "print(__doc__)\n\n\n# Code source: Ga\u00ebl Varoquaux\n# Modified for documentation by Jaques Grobler\n# \u7ffb\u8bd1 \u548c \u6d4b\u8bd5 by Antares\u535a\u58eb\n# License: BSD 3 clause\n\nimport matplotlib.pyplot as plt\nfrom mpl_toolkits.mplot3d import Axes3D\nfrom sklearn import datasets\nfrom sklearn.decomposition import PCA\n\n# \u5bfc\u5165\u6570\u636e\u7528\u6765\u73a9\u800d\niris = datasets.load_iris()\nX = iris.data[:, :2]  # \u5217\u5207\u7247\u7d22\u5f15\uff1a\u53ea\u53d6\u524d\u4e24\u4e2a\u7279\u5f81.\ny = iris.target\n\nx_min, x_max = X[:, 0].min() - .5, X[:, 0].max() + .5\ny_min, y_max = X[:, 1].min() - .5, X[:, 1].max() + .5\n\nplt.figure(2, figsize=(8, 6))\nplt.clf()\n\n# \u7ed8\u5236\u8bad\u7ec3\u6570\u636e\u70b9\nplt.scatter(X[:, 0], X[:, 1], c=y, cmap=plt.cm.Set1,\n            edgecolor='k')\nplt.xlabel('Sepal length')\nplt.ylabel('Sepal width')\n\nplt.xlim(x_min, x_max)\nplt.ylim(y_min, y_max)\nplt.xticks(())\nplt.yticks(())\n\n# \u4e3a\u4e86\u5bf9\u6570\u636e\u7684\u5404\u4e2a\u7ef4\u5ea6\u4e4b\u95f4\u7684\u76f8\u4e92\u4f5c\u7528\u6709\u4e00\u4e2a\u66f4\u597d\u5730\u7406\u89e3\uff0c\n# \u7ed8\u5236\u524d\u4e09\u4e2a PCA dimensions\u3002\nfig = plt.figure(1, figsize=(8, 6))\nax = Axes3D(fig, elev=-150, azim=110)\nX_reduced = PCA(n_components=3).fit_transform(iris.data)\nax.scatter(X_reduced[:, 0], X_reduced[:, 1], X_reduced[:, 2], c=y,\n           cmap=plt.cm.Set1, edgecolor='k', s=40)\nax.set_title(\"First three PCA directions\")\nax.set_xlabel(\"1st eigenvector\")\nax.w_xaxis.set_ticklabels([])\nax.set_ylabel(\"2nd eigenvector\")\nax.w_yaxis.set_ticklabels([])\nax.set_zlabel(\"3rd eigenvector\")\nax.w_zaxis.set_ticklabels([])\n\nplt.show()\n\n\n# #####################################################################################\n#                               Antares\u7684\u6d4b\u8bd5\u4fe1\u606f\n# \u53ef\u80fd\u4f1a\u53d1\u751f UnicodeDecodeError: \n#     'gbk' codec can't decode byte 0x86 in position 41: illegal multibyte sequence\n# \u89e3\u51b3\u65b9\u6cd5\u662f \u6839\u636e Traceback \u4fe1\u606f\uff0c\u627e\u5230 base.py \u91cc\u9762\u7684 load_iris() \u51fd\u6570\uff0c\u7b2c390\u884c\n# \u6211\u4eec\u5b9a\u4f4d\u5230\u8fd9\u4e00\u884c\uff0c\u53d1\u73b0\u662f\u8bfb\u53d6 rst \u6587\u4ef6\u7684\u4e00\u6bb5\u4ee3\u7801\uff0c\n#             with open(join(module_path, 'descr', 'digits.rst')) as f:\n#                   descr = f.read()\n# \u6211\u4eec\u53ea\u8981\u5c06\u4e0a\u9762\u8fd9\u6bb5\u4ee3\u7801\u6253\u5f00\u6587\u4ef6\u7684\u683c\u5f0f\u6539\u6210: 'rb' \u5373\u4ee5\u53ea\u8bfb\u4e8c\u8fdb\u5236\u65b9\u5f0f\u6253\u5f00\u5c31\u597d\u4e86\n#          with open(join(module_path, 'descr', 'digits.rst'),'rb') as f:\n\n\n# ################################################################################################"
      ]
    }
  ],
  "metadata": {
    "kernelspec": {
      "display_name": "Python 3",
      "language": "python",
      "name": "python3"
    },
    "language_info": {
      "codemirror_mode": {
        "name": "ipython",
        "version": 3
      },
      "file_extension": ".py",
      "mimetype": "text/x-python",
      "name": "python",
      "nbconvert_exporter": "python",
      "pygments_lexer": "ipython3",
      "version": "3.6.4"
    }
  },
  "nbformat": 4,
  "nbformat_minor": 0
}