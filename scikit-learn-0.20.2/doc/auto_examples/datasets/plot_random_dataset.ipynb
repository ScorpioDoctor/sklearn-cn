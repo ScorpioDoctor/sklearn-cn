{
  "cells": [
    {
      "cell_type": "code",
      "execution_count": null,
      "metadata": {
        "collapsed": false
      },
      "outputs": [],
      "source": [
        "%matplotlib inline"
      ]
    },
    {
      "cell_type": "markdown",
      "metadata": {},
      "source": [
        "\n# \u7ed8\u5236\u968f\u673a\u4ea7\u751f\u7684\u5206\u7c7b\u6570\u636e\u96c6\n\n\n\u7ed8\u5236\u82e5\u5e72\u4e2a\u968f\u673a\u4ea7\u751f\u7684 2D \u5206\u7c7b\u6570\u636e\u96c6\n\u8fd9\u4e2a\u793a\u4f8b\u4ee3\u7801\u5c55\u793a\u4e86\u51fd\u6570 :func:`datasets.make_classification`\n:func:`datasets.make_blobs` \u548c :func:`datasets.make_gaussian_quantiles`\n\u7684\u7528\u6cd5\u3002\n\n\u4f7f\u7528\u51fd\u6570 ``make_classification``, \u4ea7\u751f\u4e86 \u4e09\u4e2a\u4e24\u7c7b\u5206\u7c7b\u6570\u636e\u96c6 \u548c \u4e24\u4e2a\u591a\u7c7b\u5206\u7c7b\u7684\u6570\u636e\u96c6\u3002\n\u6bcf\u4e2a\u6570\u636e\u96c6\u7684\u6709\u7528\u7279\u5f81(informative features)\u4ee5\u53ca\u6bcf\u4e2a\u7c7b\u7684\u56e2\u7c07\u4e2a\u6570\u4e5f\u4e0d\u4e00\u6837\u3002\n\n"
      ]
    },
    {
      "cell_type": "code",
      "execution_count": null,
      "metadata": {
        "collapsed": false
      },
      "outputs": [],
      "source": [
        "print(__doc__)\n\nimport matplotlib.pyplot as plt\n\nfrom sklearn.datasets import make_classification\nfrom sklearn.datasets import make_blobs\nfrom sklearn.datasets import make_gaussian_quantiles\n\nplt.figure(figsize=(8, 8))\nplt.subplots_adjust(bottom=.05, top=.9, left=.05, right=.95)\n\nplt.subplot(321)\nplt.title(\"One informative feature, one cluster per class\", fontsize='small')\nX1, Y1 = make_classification(n_features=2, n_redundant=0, n_informative=1,\n                             n_clusters_per_class=1)\nplt.scatter(X1[:, 0], X1[:, 1], marker='o', c=Y1,\n            s=25, edgecolor='k')\n\nplt.subplot(322)\nplt.title(\"Two informative features, one cluster per class\", fontsize='small')\nX1, Y1 = make_classification(n_features=2, n_redundant=0, n_informative=2,\n                             n_clusters_per_class=1)\nplt.scatter(X1[:, 0], X1[:, 1], marker='o', c=Y1,\n            s=25, edgecolor='k')\n\nplt.subplot(323)\nplt.title(\"Two informative features, two clusters per class\",\n          fontsize='small')\nX2, Y2 = make_classification(n_features=2, n_redundant=0, n_informative=2)\nplt.scatter(X2[:, 0], X2[:, 1], marker='o', c=Y2,\n            s=25, edgecolor='k')\n\nplt.subplot(324)\nplt.title(\"Multi-class, two informative features, one cluster\",\n          fontsize='small')\nX1, Y1 = make_classification(n_features=2, n_redundant=0, n_informative=2,\n                             n_clusters_per_class=1, n_classes=3)\nplt.scatter(X1[:, 0], X1[:, 1], marker='o', c=Y1,\n            s=25, edgecolor='k')\n\nplt.subplot(325)\nplt.title(\"Three blobs\", fontsize='small')\nX1, Y1 = make_blobs(n_features=2, centers=3)\nplt.scatter(X1[:, 0], X1[:, 1], marker='o', c=Y1,\n            s=25, edgecolor='k')\n\nplt.subplot(326)\nplt.title(\"Gaussian divided into three quantiles\", fontsize='small')\nX1, Y1 = make_gaussian_quantiles(n_features=2, n_classes=3)\nplt.scatter(X1[:, 0], X1[:, 1], marker='o', c=Y1,\n            s=25, edgecolor='k')\n\nplt.show()"
      ]
    }
  ],
  "metadata": {
    "kernelspec": {
      "display_name": "Python 3",
      "language": "python",
      "name": "python3"
    },
    "language_info": {
      "codemirror_mode": {
        "name": "ipython",
        "version": 3
      },
      "file_extension": ".py",
      "mimetype": "text/x-python",
      "name": "python",
      "nbconvert_exporter": "python",
      "pygments_lexer": "ipython3",
      "version": "3.6.4"
    }
  },
  "nbformat": 4,
  "nbformat_minor": 0
}