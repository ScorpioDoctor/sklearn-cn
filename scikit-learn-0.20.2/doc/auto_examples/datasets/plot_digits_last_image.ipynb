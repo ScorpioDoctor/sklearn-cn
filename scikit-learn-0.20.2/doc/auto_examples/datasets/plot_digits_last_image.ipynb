{
  "cells": [
    {
      "cell_type": "code",
      "execution_count": null,
      "metadata": {
        "collapsed": false
      },
      "outputs": [],
      "source": [
        "%matplotlib inline"
      ]
    },
    {
      "cell_type": "markdown",
      "metadata": {},
      "source": [
        "\n=========================================================\n\u624b\u5199\u6570\u5b57\u6570\u636e\u96c6(Digit Dataset)\n=========================================================\n\n\u8be5\u6570\u636e\u96c6\u7531 1797 \u4e2a  8x8 \u7684\u56fe\u50cf\u6784\u6210\u3002 \u6bcf\u5f20\u56fe\u50cf,\n\u5c31\u50cf\u4e0b\u9762\u5c55\u793a\u7684\u90a3\u5f20\u4e00\u6837, \u5bf9\u5e94\u7740\u4e00\u4e2a\u624b\u5199\u6570\u5b57\u3002\n\u4e3a\u4e86\u4f7f\u7528\u50cf\u8fd9\u6837\u7684\u4e00\u4e2a 8x8 \u56fe\u50cf, \u6211\u4eec\u8981\n\u9996\u5148\u5c06\u5176\u53d8\u6362\u4e3a\u957f\u5ea6\u4e3a 64 \u7684\u7279\u5f81\u5411\u91cf(feature vector)\u3002\n\n\u8bf7\u770b `\u8fd9\u91cc\n<http://archive.ics.uci.edu/ml/datasets/Pen-Based+Recognition+of+Handwritten+Digits>`_\n\u83b7\u5f97\u8be5\u6570\u636e\u96c6\u7684\u66f4\u591a\u8be6\u60c5\u3002^_^\n\n"
      ]
    },
    {
      "cell_type": "code",
      "execution_count": null,
      "metadata": {
        "collapsed": false
      },
      "outputs": [],
      "source": [
        "print(__doc__)\n\n\n# Code source: Ga\u00ebl Varoquaux\n# Modified for documentation by Jaques Grobler\n# \u7ffb\u8bd1 \u548c \u6d4b\u8bd5 by Antares\u535a\u58eb\n# License: BSD 3 clause\n\nfrom sklearn import datasets\n\nimport matplotlib.pyplot as plt\n\n#\u52a0\u8f7d digits dataset\ndigits = datasets.load_digits()\n\n#\u663e\u793a\u7b2c\u4e00\u4e2a digit\nplt.figure(1, figsize=(3, 3))\nplt.imshow(digits.images[-1], cmap=plt.cm.gray_r, interpolation='nearest')\nplt.show()"
      ]
    },
    {
      "cell_type": "markdown",
      "metadata": {},
      "source": [
        "Antares\u7684\u6d4b\u8bd5\u4fe1\u606f\n\n\n                   \u53ef\u80fd\u4f1a\u53d1\u751f UnicodeDecodeError: \n'gbk' codec can't decode byte 0x86 in position 41: illegal multibyte sequence\nTraceback (most recent call last):\n  File \"c:/GitHub/sklearn-cn/scikit-learn-0.20.2/examples/datasets/plot_digits_last_image.py\", line 31, in <module>\n    digits = datasets.load_digits()\n  File \"c:\\github\\sklearn-cn\\scikit-learn-0.20.2\\sklearn\\datasets\\base.py\", line 549, in load_digits\n    descr = f.read()\n\u6839\u636e\u4e0a\u9762\u7684TraceBack\u4fe1\u606f\uff0c\u6211\u4eec\u77e5\u9053\u662f sklearn\u7684 load_digits() \u8fd9\u4e2a\u51fd\u6570\u51fa\u73b0\u95ee\u9898\uff0c\u800c\u4e14\u662f base.py \u7684 549 \u884c\n\u6211\u4eec\u5b9a\u4f4d\u5230\u8fd9\u4e00\u884c\uff0c\u53d1\u73b0\u662f\u8bfb\u53d6 rst \u6587\u4ef6\u7684\u4e00\u6bb5\u4ee3\u7801\uff0c\n            with open(join(module_path, 'descr', 'digits.rst')) as f:\n                  descr = f.read()\n\u6211\u4eec\u53ea\u8981\u5c06\u4e0a\u9762\u8fd9\u6bb5\u4ee3\u7801\u6253\u5f00\u6587\u4ef6\u7684\u683c\u5f0f\u6539\u6210: 'rb' \u5373\u4ee5\u53ea\u8bfb\u4e8c\u8fdb\u5236\u65b9\u5f0f\u6253\u5f00\u5c31\u597d\u4e86\n         with open(join(module_path, 'descr', 'digits.rst'),'rb') as f:\n\n"
      ]
    },
    {
      "cell_type": "code",
      "execution_count": null,
      "metadata": {
        "collapsed": false
      },
      "outputs": [],
      "source": [
        "##########################################################################################################"
      ]
    }
  ],
  "metadata": {
    "kernelspec": {
      "display_name": "Python 3",
      "language": "python",
      "name": "python3"
    },
    "language_info": {
      "codemirror_mode": {
        "name": "ipython",
        "version": 3
      },
      "file_extension": ".py",
      "mimetype": "text/x-python",
      "name": "python",
      "nbconvert_exporter": "python",
      "pygments_lexer": "ipython3",
      "version": "3.6.4"
    }
  },
  "nbformat": 4,
  "nbformat_minor": 0
}