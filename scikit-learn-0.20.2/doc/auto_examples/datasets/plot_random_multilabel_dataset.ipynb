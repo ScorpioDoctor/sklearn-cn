{
  "cells": [
    {
      "cell_type": "code",
      "execution_count": null,
      "metadata": {
        "collapsed": false
      },
      "outputs": [],
      "source": [
        "%matplotlib inline"
      ]
    },
    {
      "cell_type": "markdown",
      "metadata": {},
      "source": [
        "\n==============================================\n\u7ed8\u5236\u968f\u673a\u751f\u6210\u7684\u591a\u6807\u7b7e\u6570\u636e\u96c6(multilabel dataset) \n==============================================\n\n\u8fd9\u4e2a\u4f8b\u5b50\u5c55\u793a\u4e86 `datasets.make_multilabel_classification` \u6570\u636e\u96c6\u751f\u6210\u5668\u3002\n\u6bcf\u4e2a\u6837\u672c\u5305\u542b\u4e24\u4e2a\u7279\u5f81(\u603b\u5171\u670950\u4e2a)\uff0c\u5728\u4e24\u7c7b\u4e2d\u7684\u6bcf\u4e00\u4e2a\u4e0a\u90fd\u662f\u4e0d\u540c\u7684\u5206\u5e03\u3002\n\n\u6570\u636e\u70b9\u88ab\u5982\u4e0b\u6253\u4e0a\u6807\u7b7e, \u5176\u4e2d Y \u610f\u5473\u7740\u67d0\u4e2a\u7c7b\u6807\u7b7e\u51fa\u73b0\u5728\u4e86\u8be5\u6837\u672c\u4e0a:\n\n    =====  =====  =====  ======\n      1      2      3    Color\n    =====  =====  =====  ======\n      Y      N      N    Red\n      N      Y      N    Blue\n      N      N      Y    Yellow\n      Y      Y      N    Purple\n      Y      N      Y    Orange\n      Y      Y      N    Green\n      Y      Y      Y    Brown\n    =====  =====  =====  ======\n\n\u661f\u53f7\u6807\u8bb0\u6bcf\u4e2a\u7c7b\u7684\u671f\u671b\u6837\u672c\uff1b\u5b83\u7684\u5927\u5c0f\u53cd\u6620\u9009\u62e9\u8be5\u7c7b\u6807\u7b7e\u7684\u6982\u7387\u3002\n\n\u5de6\u8fb9\u548c\u53f3\u8fb9\u7684\u793a\u4f8b \u663e\u793a ``n_labels`` \u53c2\u6570\uff1a\u53f3\u56fe\u4e2d\u66f4\u591a\u7684\u6837\u672c\u67092\u62163\u4e2a\u6807\u7b7e\u3002\n\n\n\u8bf7\u6ce8\u610f\uff0c\u8fd9\u4e2a\u4e8c\u7ef4\u793a\u4f8b\u975e\u5e38\u9000\u5316\uff1a\u4e00\u822c\u6765\u8bf4\uff0c\u7279\u5f81\u7684\u6570\u91cf\u5c06\u6bd4\u201c\u6587\u6863\u957f\u5ea6\u201d\u5927\u5f97\u591a\uff0c\u5c3d\u7ba1\u5728\u8fd9\u91cc\u7684\u6587\u6863\u8981\u6bd4\u8bcd\u6c47\u91cf\u5927\u5f97\u591a\u3002\n\u7c7b\u4f3c\u5730\uff0c\u5bf9\u4e8en_class > n_properties \u7684\u60c5\u51b5\uff0c\u53ea\u7528\u4e00\u4e2a\u7279\u5f81\u5c31\u60f3\u533a\u5206\u7279\u5b9a\u7684\u4e24\u4e2a\u7c7b\u662f\u51e0\u4e4e\u4e0d\u53ef\u80fd\u7684\u3002\n\n"
      ]
    },
    {
      "cell_type": "code",
      "execution_count": null,
      "metadata": {
        "collapsed": false
      },
      "outputs": [],
      "source": [
        "from __future__ import print_function\nimport numpy as np\nimport matplotlib.pyplot as plt\n\nfrom sklearn.datasets import make_multilabel_classification as make_ml_clf\n\nprint(__doc__)\n\nCOLORS = np.array(['!',\n                   '#FF3333',  # red\n                   '#0198E1',  # blue\n                   '#BF5FFF',  # purple\n                   '#FCD116',  # yellow\n                   '#FF7216',  # orange\n                   '#4DBD33',  # green\n                   '#87421F'   # brown\n                   ])\n\n# \u5bf9\u591a\u6b21\u8c03\u7528\uff0c\u4f7f\u7528\u76f8\u540c\u7684\u968f\u673a\u6570\u79cd\u5b50 \u4f7f\u5f97\u51fd\u6570 make_multilabel_classification \u4ea7\u751f\u7684\u6837\u672c\n# \u80fd\u591f\u786e\u4fdd\u5177\u6709\u76f8\u540c\u7684\u5206\u5e03\nRANDOM_SEED = np.random.randint(2 ** 10)\n\n\ndef plot_2d(ax, n_labels=1, n_classes=3, length=50):\n    X, Y, p_c, p_w_c = make_ml_clf(n_samples=150, n_features=2,\n                                   n_classes=n_classes, n_labels=n_labels,\n                                   length=length, allow_unlabeled=False,\n                                   return_distributions=True,\n                                   random_state=RANDOM_SEED)\n\n    ax.scatter(X[:, 0], X[:, 1], color=COLORS.take((Y * [1, 2, 4]\n                                                    ).sum(axis=1)),\n               marker='.')\n    ax.scatter(p_w_c[0] * length, p_w_c[1] * length,\n               marker='*', linewidth=.5, edgecolor='black',\n               s=20 + 1500 * p_c ** 2,\n               color=COLORS.take([1, 2, 4]))\n    ax.set_xlabel('Feature 0 count')\n    return p_c, p_w_c\n\n\n_, (ax1, ax2) = plt.subplots(1, 2, sharex='row', sharey='row', figsize=(8, 4))\nplt.subplots_adjust(bottom=.15)\n\np_c, p_w_c = plot_2d(ax1, n_labels=1)\nax1.set_title('n_labels=1, length=50')\nax1.set_ylabel('Feature 1 count')\n\nplot_2d(ax2, n_labels=3)\nax2.set_title('n_labels=3, length=50')\nax2.set_xlim(left=0, auto=True)\nax2.set_ylim(bottom=0, auto=True)\n\nplt.show()\n\nprint('The data was generated from (random_state=%d):' % RANDOM_SEED)\nprint('Class', 'P(C)', 'P(w0|C)', 'P(w1|C)', sep='\\t')\nfor k, p, p_w in zip(['red', 'blue', 'yellow'], p_c, p_w_c.T):\n    print('%s\\t%0.2f\\t%0.2f\\t%0.2f' % (k, p, p_w[0], p_w[1]))"
      ]
    }
  ],
  "metadata": {
    "kernelspec": {
      "display_name": "Python 3",
      "language": "python",
      "name": "python3"
    },
    "language_info": {
      "codemirror_mode": {
        "name": "ipython",
        "version": 3
      },
      "file_extension": ".py",
      "mimetype": "text/x-python",
      "name": "python",
      "nbconvert_exporter": "python",
      "pygments_lexer": "ipython3",
      "version": "3.6.4"
    }
  },
  "nbformat": 4,
  "nbformat_minor": 0
}