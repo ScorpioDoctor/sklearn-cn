{
  "cells": [
    {
      "cell_type": "code",
      "execution_count": null,
      "metadata": {
        "collapsed": false
      },
      "outputs": [],
      "source": [
        "%matplotlib inline"
      ]
    },
    {
      "cell_type": "markdown",
      "metadata": {},
      "source": [
        "\n========================================================\n\u9ad8\u65af\u8fc7\u7a0b\u56de\u5f52 (GPR) \u5728 Mauna Loa \u4e8c\u6c27\u5316\u78b3\u6570\u636e\u4e0a\u7684\u5e94\u7528\n========================================================\n\n\u8be5\u793a\u4f8b\u57fa\u4e8e\u4e66([RW2006]) \u7684\u7b2c 5.4.3 \u8282\u3002 \u5b83\u6f14\u793a\u4e86\u4f7f\u7528\u68af\u5ea6\u4e0a\u5347\u7684\u5bf9\u6570\u8fb9\u7f18\u4f3c\u7136\u6027\u7684\u590d\u6742\u5185\u6838\u5de5\u7a0b\u548c\u8d85\u53c2\u6570\u4f18\u5316\u7684\u793a\u4f8b\u3002 \n\u6570\u636e\u5305\u62ec\u5728 1958 \u5e74\u81f3 1997 \u5e74\u95f4\u590f\u5a01\u5937 Mauna Loa \u5929\u6587\u53f0\u6536\u96c6\u7684\u6bcf\u6708\u5e73\u5747\u5927\u6c14\u4e8c\u6c27 \u5316\u78b3\u6d53\u5ea6\uff08\u4ee5\u767e\u4e07\u5206\u4e4b\u51e0\uff08ppmv\uff09\u8ba1\uff09\u3002 \n\u76ee\u7684\u662f\u5c06\u4e8c\u6c27\u5316\u78b3\u6d53\u5ea6\u5efa\u6a21\u4e3a\u65f6\u95f4 t \u7684\u51fd\u6570\u3002\n\n\u5185\u6838\u7531\u82e5\u5e72\u9879\u7ec4\u6210\uff0c\u8d1f\u8d23\u89e3\u91ca\u4fe1\u53f7\u7684\u4e0d\u540c\u5c5e\u6027\uff1a\n\n- \u4e00\u4e2a\u957f\u671f\u5e73\u6ed1\u7684\u4e0a\u5347\u8d8b\u52bf\u662f\u7531\u4e00\u4e2a RBF \u5185\u6838\u6765\u89e3\u91ca\u7684\u3002 \u5177\u6709\u8f83\u5927\u957f\u5ea6\u5c3a\u5bf8\u7684RBF\u5185\u6838\u5c06\u4f7f\u8be5\u5206\u91cf\u5e73\u6ed1; \u6ca1\u6709\u5f3a\u5236\u8fd9\u79cd\u8d8b\u52bf\u6b63\u5728\u4e0a\u5347\uff0c\n  \u8fd9\u7ed9 GP \u5e26\u6765\u4e86\u53ef\u9009\u62e9\u6027\u3002 \u5177\u4f53\u7684\u957f\u5ea6\u5c3a\u5ea6(length-scale)\u548c\u632f\u5e45(amplitude)\u662f\u81ea\u7531\u7684\u8d85\u53c2\u6570\u3002\n\n- \u5b63\u8282\u6027\u56e0\u7d20\uff0c\u7531\u5468\u671f\u6027\u7684 ExpSineSquared \u5185\u6838\u6765\u89e3\u91ca\uff0c\u56fa\u5b9a\u5468\u671f\u4e3a1\u5e74\u3002 \u8be5\u5468\u671f\u6027\u5206\u91cf\u7684\u957f\u5ea6\u5c3a\u5ea6\u63a7\u5236\u5176\u5e73\u6ed1\u5ea6\uff0c\u662f\u4e00\u4e2a\u81ea\u7531\u53c2\u6570\u3002 \n  \u4e3a\u4e86\u4f7f\u5176\u5177\u5907\u51c6\u786e\u5468\u671f\u6027\u7684\u8870\u51cf\uff0c\u5c06 ExpSineSquared kernel \u4e0e RBF kernel \u53d6\u4e58\u79ef\u3002 \n  \u8be5RBF component\u7684\u957f\u5ea6\u5c3a\u5ea6(length-scale)\u63a7\u5236\u8870\u51cf\u65f6\u95f4\uff0c \u5e76\u4e14\u662f\u53e6\u4e00\u4e2a\u81ea\u7531\u53c2\u6570\u3002\n\n- \u8f83\u5c0f\u7684\u4e2d\u671f\u4e0d\u89c4\u5219\u6027\u5c06\u7531\u6709\u7406\u4e8c\u6b21(RationalQuadratic)\u6838\u5206\u91cf\u6765\u89e3\u91ca\uff0c \u6709\u7406\u4e8c\u6b21\u6838\u5206\u91cf\u7684\u957f\u5ea6\u5c3a\u5ea6\u548calpha \u53c2\u6570\uff0c\n  \u51b3\u5b9a\u7740\u957f\u5ea6\u5c3a\u5ea6\u7684\u6269\u6563\u6027\uff0c\u662f\u5c06\u8981\u88ab\u786e\u5b9a\u7684\u53c2\u6570\u3002 \u6839\u636e [RW2006] \uff0c\u8fd9\u4e9b\u4e0d\u89c4\u5219\u6027\u53ef\u4ee5\u66f4\u597d\u5730\u7531\u6709\u7406\u4e8c\u6b21\u5185\u6838\u6765\u89e3\u91ca\uff0c \n  \u800c\u4e0d\u662f RBF \u6838\u5206\u91cf\uff0c\u8fd9\u53ef\u80fd\u662f\u56e0\u4e3a\u5b83\u53ef\u4ee5\u5bb9\u7eb3\u82e5\u5e72\u4e2a\u957f\u5ea6\u5c3a\u5ea6(length-scale)\u3002\n\n- \u566a\u58f0\u9879\uff0c\u7531\u4e00\u4e2a RBF \u6838\u7ec4\u6210\uff0c\u5b83\u5c06\u89e3\u91ca\u76f8\u5173\u7684\u566a\u58f0\u5206\u91cf\uff0c\u5982\u5c40\u90e8\u5929\u6c14\u73b0\u8c61\u4ee5\u53ca WhiteKernel \u5bf9\u767d\u566a\u58f0\u7684\u8d21\u732e\u3002 \n  \u5728\u8fd9\u91cc\uff0c\u76f8\u5bf9\u5e45\u5ea6(relative amplitudes)\u548cRBF\u7684\u957f\u5ea6\u5c3a\u5ea6\u53c8\u662f\u81ea\u7531\u53c2\u6570\u3002\n\n\u51cf\u53bb\u76ee\u6807\u5e73\u5747\u503c\u540e \u6700\u5927\u5316 \u5bf9\u6570\u8fb9\u9645\u4f3c\u7136(log-marginal-likelihood)\u4ea7\u751f\u4e0b\u5217\u5185\u6838\uff0c\u5176\u4e2dLML\u4e3a-83.214:\n\n   34.4**2 * RBF(length_scale=41.8)\n   + 3.27**2 * RBF(length_scale=180) * ExpSineSquared(length_scale=1.44,\n                                                      periodicity=1)\n   + 0.446**2 * RationalQuadratic(alpha=17.7, length_scale=0.957)\n   + 0.197**2 * RBF(length_scale=0.138) + WhiteKernel(noise_level=0.0336)\n\n\u56e0\u6b64\uff0c\u5927\u591a\u6570\u76ee\u6807\u4fe1\u53f7\uff0834.4ppm\uff09\u7531\u957f\u671f\u4e0a\u5347\u8d8b\u52bf\uff08\u957f\u5ea6\u5c3a\u5ea6\u5373length-scale\u4e3a41.8\u5e74\uff09\u89e3\u91ca\u3002 \n\u5468\u671f\u5206\u91cf\u7684\u632f\u5e45\u4e3a3.27ppm\uff0c\u8870\u51cf\u65f6\u95f4\u4e3a180\u5e74\uff0c\u957f\u5ea6\u5c3a\u5ea6\u4e3a1.44\u3002 \n\u957f\u65f6\u95f4\u7684\u8870\u53d8\u65f6\u95f4\u8868\u660e\u6211\u4eec\u6709\u4e00\u4e2a\u5c40\u90e8\u975e\u5e38\u63a5\u8fd1\u5468\u671f\u6027\u7684\u5b63\u8282\u6027\u6210\u5206\u3002 \n\u76f8\u5173\u566a\u58f0\u7684\u5e45\u5ea6\u4e3a0.197ppm\uff0c\u957f\u5ea6\u4e3a0.138\u5e74\uff0c\u767d\u566a\u58f0\u8d21\u732e\u4e3a0.197ppm\u3002 \n\u56e0\u6b64\uff0c\u6574\u4f53\u566a\u58f0\u6c34\u5e73\u975e\u5e38\u5c0f\uff0c\u8868\u660e\u8be5\u6a21\u578b\u53ef\u4ee5\u5f88\u597d\u5730\u89e3\u91ca\u6570\u636e\u3002 \n\u8be5\u56fe\u8fd8\u663e\u793a\uff0c\u8be5\u6a21\u578b\u76f4\u52302015\u5e74\u5de6\u53f3\u624d\u80fd\u505a\u51fa\u7f6e\u4fe1\u5ea6\u6bd4\u8f83\u9ad8\u7684\u9884\u6d4b\u3002\n\n"
      ]
    },
    {
      "cell_type": "code",
      "execution_count": null,
      "metadata": {
        "collapsed": false
      },
      "outputs": [],
      "source": [
        "# Authors: Jan Hendrik Metzen <jhm@informatik.uni-bremen.de>\n#\u7ffb\u8bd1\u8005\uff1ahttp://www.studyai.com/antares\n# License: BSD 3 clause\n\nfrom __future__ import division, print_function\n\nimport numpy as np\n\nfrom matplotlib import pyplot as plt\nfrom sklearn.datasets import fetch_openml\nfrom sklearn.gaussian_process import GaussianProcessRegressor\nfrom sklearn.gaussian_process.kernels \\\n    import RBF, WhiteKernel, RationalQuadratic, ExpSineSquared\n\nprint(__doc__)\n\n\ndef load_mauna_loa_atmospheric_co2():\n    ml_data = fetch_openml(data_id=41187)\n    months = []\n    ppmv_sums = []\n    counts = []\n\n    y = ml_data.data[:, 0]\n    m = ml_data.data[:, 1]\n    month_float = y + (m - 1) / 12\n    ppmvs = ml_data.target\n\n    for month, ppmv in zip(month_float, ppmvs):\n        if not months or month != months[-1]:\n            months.append(month)\n            ppmv_sums.append(ppmv)\n            counts.append(1)\n        else:\n            # aggregate monthly sum to produce average\n            ppmv_sums[-1] += ppmv\n            counts[-1] += 1\n\n    months = np.asarray(months).reshape(-1, 1)\n    avg_ppmvs = np.asarray(ppmv_sums) / counts\n    return months, avg_ppmvs\n\n\nX, y = load_mauna_loa_atmospheric_co2()\n\n# Kernel with parameters given in GPML book\nk1 = 66.0**2 * RBF(length_scale=67.0)  # long term smooth rising trend\nk2 = 2.4**2 * RBF(length_scale=90.0) \\\n    * ExpSineSquared(length_scale=1.3, periodicity=1.0)  # seasonal component\n# medium term irregularity\nk3 = 0.66**2 \\\n    * RationalQuadratic(length_scale=1.2, alpha=0.78)\nk4 = 0.18**2 * RBF(length_scale=0.134) \\\n    + WhiteKernel(noise_level=0.19**2)  # noise terms\nkernel_gpml = k1 + k2 + k3 + k4\n\ngp = GaussianProcessRegressor(kernel=kernel_gpml, alpha=0,\n                              optimizer=None, normalize_y=True)\ngp.fit(X, y)\n\nprint(\"GPML kernel: %s\" % gp.kernel_)\nprint(\"Log-marginal-likelihood: %.3f\"\n      % gp.log_marginal_likelihood(gp.kernel_.theta))\n\n# Kernel with optimized parameters\nk1 = 50.0**2 * RBF(length_scale=50.0)  # long term smooth rising trend\nk2 = 2.0**2 * RBF(length_scale=100.0) \\\n    * ExpSineSquared(length_scale=1.0, periodicity=1.0,\n                     periodicity_bounds=\"fixed\")  # seasonal component\n# medium term irregularities\nk3 = 0.5**2 * RationalQuadratic(length_scale=1.0, alpha=1.0)\nk4 = 0.1**2 * RBF(length_scale=0.1) \\\n    + WhiteKernel(noise_level=0.1**2,\n                  noise_level_bounds=(1e-3, np.inf))  # noise terms\nkernel = k1 + k2 + k3 + k4\n\ngp = GaussianProcessRegressor(kernel=kernel, alpha=0,\n                              normalize_y=True)\ngp.fit(X, y)\n\nprint(\"\\nLearned kernel: %s\" % gp.kernel_)\nprint(\"Log-marginal-likelihood: %.3f\"\n      % gp.log_marginal_likelihood(gp.kernel_.theta))\n\nX_ = np.linspace(X.min(), X.max() + 30, 1000)[:, np.newaxis]\ny_pred, y_std = gp.predict(X_, return_std=True)\n\n# Illustration\nplt.scatter(X, y, c='k')\nplt.plot(X_, y_pred)\nplt.fill_between(X_[:, 0], y_pred - y_std, y_pred + y_std,\n                 alpha=0.5, color='k')\nplt.xlim(X_.min(), X_.max())\nplt.xlabel(\"Year\")\nplt.ylabel(r\"CO$_2$ in ppm\")\nplt.title(r\"Atmospheric CO$_2$ concentration at Mauna Loa\")\nplt.tight_layout()\nplt.show()"
      ]
    }
  ],
  "metadata": {
    "kernelspec": {
      "display_name": "Python 3",
      "language": "python",
      "name": "python3"
    },
    "language_info": {
      "codemirror_mode": {
        "name": "ipython",
        "version": 3
      },
      "file_extension": ".py",
      "mimetype": "text/x-python",
      "name": "python",
      "nbconvert_exporter": "python",
      "pygments_lexer": "ipython3",
      "version": "3.6.4"
    }
  },
  "nbformat": 4,
  "nbformat_minor": 0
}