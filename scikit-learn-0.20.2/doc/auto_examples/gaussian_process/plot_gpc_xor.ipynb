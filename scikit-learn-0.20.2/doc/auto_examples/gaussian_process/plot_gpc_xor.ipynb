{
  "cells": [
    {
      "cell_type": "code",
      "execution_count": null,
      "metadata": {
        "collapsed": false
      },
      "outputs": [],
      "source": [
        "%matplotlib inline"
      ]
    },
    {
      "cell_type": "markdown",
      "metadata": {},
      "source": [
        "\n========================================================================\n\u9ad8\u65af\u8fc7\u7a0b\u5206\u7c7b\u5668(GPC)\u5728 XOR \u6570\u636e\u96c6\u4e0a\u7684\u5e94\u7528\n========================================================================\n\n\u6b64\u793a\u4f8b\u5c55\u793a\u4e86\u5c06GPC\u7528\u4e8eXOR\u6570\u636e\u3002\u53c2\u4e0e\u6bd4\u8f83\u8bd5\u9a8c\u7684\u662f \u5e73\u7a33\u7684\u5404\u5411\u540c\u6027\u7684\u6838(RBF)\u548c\u975e\u5e73\u7a33\u7684\u6838(DotProduct)\u3002 \n\u5728\u8fd9\u4e2a\u7279\u5b9a\u7684\u6570\u636e\u96c6\u4e0a\uff0cDotProduct\u6838\u83b7\u5f97\u4e86\u66f4\u597d\u7684\u7ed3\u679c\uff0c \u56e0\u4e3a\u7c7b\u8fb9\u754c\u662f\u7ebf\u6027\u7684\uff0c\u5e76\u4e14\u4e0e\u5750\u6807\u8f74\u91cd\u5408\u3002 \n\u7136\u800c\uff0c\u5b9e\u9645\u4e0a\uff0c\u5e73\u7a33\u7684\u6838 \u8bf8\u5982 RBF \u7ecf\u5e38\u83b7\u5f97\u66f4\u597d\u7ed3\u679c\u3002\n\n"
      ]
    },
    {
      "cell_type": "code",
      "execution_count": null,
      "metadata": {
        "collapsed": false
      },
      "outputs": [],
      "source": [
        "print(__doc__)\n\n# Authors: Jan Hendrik Metzen <jhm@informatik.uni-bremen.de>\n# \u7ffb\u8bd1\u8005\uff1ahttp://www.studyai.com/antares\n# License: BSD 3 clause\n\nimport numpy as np\nimport matplotlib.pyplot as plt\n\nfrom sklearn.gaussian_process import GaussianProcessClassifier\nfrom sklearn.gaussian_process.kernels import RBF, DotProduct\n\n\nxx, yy = np.meshgrid(np.linspace(-3, 3, 50),\n                     np.linspace(-3, 3, 50))\nrng = np.random.RandomState(0)\nX = rng.randn(200, 2)\nY = np.logical_xor(X[:, 0] > 0, X[:, 1] > 0)\n\n# fit the model\nplt.figure(figsize=(10, 5))\nkernels = [1.0 * RBF(length_scale=1.0), 1.0 * DotProduct(sigma_0=1.0)**2]\nfor i, kernel in enumerate(kernels):\n    clf = GaussianProcessClassifier(kernel=kernel, warm_start=True).fit(X, Y)\n\n    # plot the decision function for each datapoint on the grid\n    Z = clf.predict_proba(np.vstack((xx.ravel(), yy.ravel())).T)[:, 1]\n    Z = Z.reshape(xx.shape)\n\n    plt.subplot(1, 2, i + 1)\n    image = plt.imshow(Z, interpolation='nearest',\n                       extent=(xx.min(), xx.max(), yy.min(), yy.max()),\n                       aspect='auto', origin='lower', cmap=plt.cm.PuOr_r)\n    contours = plt.contour(xx, yy, Z, levels=[0.5], linewidths=2,\n                           colors=['k'])\n    plt.scatter(X[:, 0], X[:, 1], s=30, c=Y, cmap=plt.cm.Paired,\n                edgecolors=(0, 0, 0))\n    plt.xticks(())\n    plt.yticks(())\n    plt.axis([-3, 3, -3, 3])\n    plt.colorbar(image)\n    plt.title(\"%s\\n Log-Marginal-Likelihood:%.3f\"\n              % (clf.kernel_, clf.log_marginal_likelihood(clf.kernel_.theta)),\n              fontsize=12)\n\nplt.tight_layout()\nplt.show()"
      ]
    }
  ],
  "metadata": {
    "kernelspec": {
      "display_name": "Python 3",
      "language": "python",
      "name": "python3"
    },
    "language_info": {
      "codemirror_mode": {
        "name": "ipython",
        "version": 3
      },
      "file_extension": ".py",
      "mimetype": "text/x-python",
      "name": "python",
      "nbconvert_exporter": "python",
      "pygments_lexer": "ipython3",
      "version": "3.6.4"
    }
  },
  "nbformat": 4,
  "nbformat_minor": 0
}