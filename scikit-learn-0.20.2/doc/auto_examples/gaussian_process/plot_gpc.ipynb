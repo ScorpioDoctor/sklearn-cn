{
  "cells": [
    {
      "cell_type": "code",
      "execution_count": null,
      "metadata": {
        "collapsed": false
      },
      "outputs": [],
      "source": [
        "%matplotlib inline"
      ]
    },
    {
      "cell_type": "markdown",
      "metadata": {},
      "source": [
        "\n====================================================================\n\u4f7f\u7528\u9ad8\u65af\u8fc7\u7a0b\u5206\u7c7b\u5668(GPC)\u8fdb\u884c\u6982\u7387\u6027\u9884\u6d4b\n====================================================================\n\n\u8fd9\u4e2a\u4f8b\u5b50\u5c55\u793a\u4e86\u5177\u6709\u4e0d\u540c\u8d85\u53c2\u6570\u9009\u9879\u7684RBF\u5185\u6838\u7684GPC\u9884\u6d4b\u6982\u7387\u3002 \n\u7b2c\u4e00\u5e45\u56fe\u663e\u793a\u7684\u662f \u5177\u6709\u4efb\u610f\u9009\u62e9\u7684\u8d85\u53c2\u6570\u7684GPC\u7684\u9884\u6d4b\u6982\u7387 \u4ee5\u53ca \u5177\u6709\u4e0e\u6700\u5927LML\u5bf9\u5e94\u7684\u8d85\u53c2\u6570\u7684GPC\u7684\u9884\u6d4b\u6982\u7387\u3002\n\n\u867d\u7136\u901a\u8fc7\u4f18\u5316LML\u9009\u62e9\u7684\u8d85\u53c2\u6570\u5177\u6709\u76f8\u5f53\u5927\u7684LML\uff0c\u4f46\u662f\u4f9d\u636e\u6d4b\u8bd5\u6570\u636e\u4e0a\u7684\u5bf9\u6570\u635f\u5931\uff0c\u5b83\u4eec\u7684\u8868\u73b0\u66f4\u5dee\u3002 \n\u8be5\u56fe\u663e\u793a\uff0c \u8fd9\u662f\u56e0\u4e3a\u5b83\u4eec\u5728\u7c7b\u8fb9\u754c\u8868\u73b0\u51fa\u7c7b\u6982\u7387\u7684\u6025\u5267\u53d8\u5316(\u8fd9\u662f\u597d\u7684\u8868\u73b0)\uff0c \n\u4f46\u5728\u8fdc\u79bb\u7c7b\u8fb9\u754c\u7684\u5730\u65b9 \u5176\u9884\u6d4b\u6982\u7387\u5374\u63a5\u8fd10.5\uff08\u8fd9\u662f\u574f\u7684\u8868\u73b0\uff09 \n\u8fd9\u79cd\u4e0d\u826f\u5f71\u54cd\u662f\u7531\u4e8eGPC\u5185\u90e8\u4f7f\u7528\u4e86\u62c9\u666e\u62c9\u65af\u8fd1\u4f3c(Laplace approximation)\u3002\n\n\u7b2c\u4e8c\u5e45\u56fe\u663e\u793a\u4e86 \u9488\u5bf9\u5185\u6838\u8d85\u53c2\u6570\u7684\u4e0d\u540c\u9009\u62e9\u6240\u5bf9\u5e94\u7684LML\uff08\u5bf9\u6570\u8fb9\u7f18\u4f3c\u7136\uff09\uff0c\n\u7a81\u51fa\u4e86\u5728\u7b2c\u4e00\u5e45\u56fe\u4e2d\u4f7f\u7528\u7684\u901a\u8fc7\u9ed1\u70b9\uff08\u8bad\u7ec3\u96c6\uff09\u9009\u62e9\u7684\u4e24\u4e2a\u8d85\u53c2\u6570\u3002\n\n"
      ]
    },
    {
      "cell_type": "code",
      "execution_count": null,
      "metadata": {
        "collapsed": false
      },
      "outputs": [],
      "source": [
        "print(__doc__)\n\n# Authors: Jan Hendrik Metzen <jhm@informatik.uni-bremen.de>\n# \u7ffb\u8bd1\u8005\uff1ahttp://www.studyai.com/antares\n# License: BSD 3 clause\n\nimport numpy as np\n\nfrom matplotlib import pyplot as plt\n\nfrom sklearn.metrics.classification import accuracy_score, log_loss\nfrom sklearn.gaussian_process import GaussianProcessClassifier\nfrom sklearn.gaussian_process.kernels import RBF\n\n\n# Generate data\ntrain_size = 50\nrng = np.random.RandomState(0)\nX = rng.uniform(0, 5, 100)[:, np.newaxis]\ny = np.array(X[:, 0] > 2.5, dtype=int)\n\n# Specify Gaussian Processes with fixed and optimized hyperparameters\ngp_fix = GaussianProcessClassifier(kernel=1.0 * RBF(length_scale=1.0),\n                                   optimizer=None)\ngp_fix.fit(X[:train_size], y[:train_size])\n\ngp_opt = GaussianProcessClassifier(kernel=1.0 * RBF(length_scale=1.0))\ngp_opt.fit(X[:train_size], y[:train_size])\n\nprint(\"Log Marginal Likelihood (initial): %.3f\"\n      % gp_fix.log_marginal_likelihood(gp_fix.kernel_.theta))\nprint(\"Log Marginal Likelihood (optimized): %.3f\"\n      % gp_opt.log_marginal_likelihood(gp_opt.kernel_.theta))\n\nprint(\"Accuracy: %.3f (initial) %.3f (optimized)\"\n      % (accuracy_score(y[:train_size], gp_fix.predict(X[:train_size])),\n         accuracy_score(y[:train_size], gp_opt.predict(X[:train_size]))))\nprint(\"Log-loss: %.3f (initial) %.3f (optimized)\"\n      % (log_loss(y[:train_size], gp_fix.predict_proba(X[:train_size])[:, 1]),\n         log_loss(y[:train_size], gp_opt.predict_proba(X[:train_size])[:, 1])))\n\n\n# Plot posteriors\nplt.figure(0)\nplt.scatter(X[:train_size, 0], y[:train_size], c='k', label=\"Train data\",\n            edgecolors=(0, 0, 0))\nplt.scatter(X[train_size:, 0], y[train_size:], c='g', label=\"Test data\",\n            edgecolors=(0, 0, 0))\nX_ = np.linspace(0, 5, 100)\nplt.plot(X_, gp_fix.predict_proba(X_[:, np.newaxis])[:, 1], 'r',\n         label=\"Initial kernel: %s\" % gp_fix.kernel_)\nplt.plot(X_, gp_opt.predict_proba(X_[:, np.newaxis])[:, 1], 'b',\n         label=\"Optimized kernel: %s\" % gp_opt.kernel_)\nplt.xlabel(\"Feature\")\nplt.ylabel(\"Class 1 probability\")\nplt.xlim(0, 5)\nplt.ylim(-0.25, 1.5)\nplt.legend(loc=\"best\")\n\n# Plot LML landscape\nplt.figure(1)\ntheta0 = np.logspace(0, 8, 30)\ntheta1 = np.logspace(-1, 1, 29)\nTheta0, Theta1 = np.meshgrid(theta0, theta1)\nLML = [[gp_opt.log_marginal_likelihood(np.log([Theta0[i, j], Theta1[i, j]]))\n        for i in range(Theta0.shape[0])] for j in range(Theta0.shape[1])]\nLML = np.array(LML).T\nplt.plot(np.exp(gp_fix.kernel_.theta)[0], np.exp(gp_fix.kernel_.theta)[1],\n         'ko', zorder=10)\nplt.plot(np.exp(gp_opt.kernel_.theta)[0], np.exp(gp_opt.kernel_.theta)[1],\n         'ko', zorder=10)\nplt.pcolor(Theta0, Theta1, LML)\nplt.xscale(\"log\")\nplt.yscale(\"log\")\nplt.colorbar()\nplt.xlabel(\"Magnitude\")\nplt.ylabel(\"Length-scale\")\nplt.title(\"Log-marginal-likelihood\")\n\nplt.show()"
      ]
    }
  ],
  "metadata": {
    "kernelspec": {
      "display_name": "Python 3",
      "language": "python",
      "name": "python3"
    },
    "language_info": {
      "codemirror_mode": {
        "name": "ipython",
        "version": 3
      },
      "file_extension": ".py",
      "mimetype": "text/x-python",
      "name": "python",
      "nbconvert_exporter": "python",
      "pygments_lexer": "ipython3",
      "version": "3.6.4"
    }
  },
  "nbformat": 4,
  "nbformat_minor": 0
}