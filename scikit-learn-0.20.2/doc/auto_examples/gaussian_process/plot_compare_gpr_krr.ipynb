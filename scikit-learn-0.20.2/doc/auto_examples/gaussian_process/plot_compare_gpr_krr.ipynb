{
  "cells": [
    {
      "cell_type": "code",
      "execution_count": null,
      "metadata": {
        "collapsed": false
      },
      "outputs": [],
      "source": [
        "%matplotlib inline"
      ]
    },
    {
      "cell_type": "markdown",
      "metadata": {},
      "source": [
        "\n# \u9ad8\u65af\u8fc7\u7a0b\u56de\u5f52\u4e0e\u6838\u5cad\u56de\u5f52\u7684\u6bd4\u8f83\n\n\n\u6838\u5cad\u56de\u5f52(KRR)\u548c\u9ad8\u65af\u8fc7\u7a0b\u56de\u5f52(GPR)\u90fd\u662f\u901a\u8fc7\u5728\u5185\u90e8\u4f7f\u7528\u201c\u6838\u6280\u5de7\u201d\u6765\u5b66\u4e60\u76ee\u6807\u51fd\u6570\u7684\u3002\nKRR\u5728\u76f8\u5e94\u6838\u8bf1\u5bfc\u7684\u7a7a\u95f4\u4e2d\u5b66\u4e60\u4e00\u4e2a\u7ebf\u6027\u51fd\u6570\uff0c\u8be5\u51fd\u6570\u5bf9\u5e94\u4e8e\u539f\u59cb\u7a7a\u95f4\u4e2d\u7684\u4e00\u4e2a\u975e\u7ebf\u6027\u51fd\u6570\u3002\n\u57fa\u4e8e\u5e26\u6709\u5cad\u6b63\u5219\u5316\u7684\u5747\u65b9\u8bef\u5dee\u635f\u5931\uff0c\u9009\u62e9\u6838\u7a7a\u95f4\u4e2d\u7684\u7ebf\u6027\u51fd\u6570\u3002\nGPR\u5229\u7528\u6838\u51fd\u6570\u5b9a\u4e49\u76ee\u6807\u51fd\u6570\u4e0a\u5148\u9a8c\u5206\u5e03\u7684\u534f\u65b9\u5dee\uff0c\n\u5e76\u5229\u7528\u89c2\u6d4b\u5230\u7684\u8bad\u7ec3\u6570\u636e\u5b9a\u4e49\u4f3c\u7136\u51fd\u6570\u3002\u7136\u540e\uff0c\u57fa\u4e8eBayes\u5b9a\u7406\uff0c\n\u76ee\u6807\u51fd\u6570\u4e0a\u7684(\u9ad8\u65af)\u540e\u9a8c\u5206\u5e03\u5c31\u53ef\u4ee5\u88ab\u5b9a\u4e49\u4e86\uff0c\u5176\u5747\u503c\u5219\u7528\u4e8e\u9884\u6d4b\u3002\n\n\u4e00\u4e2a\u4e3b\u8981\u7684\u533a\u522b\u662f\uff0cGPR\u53ef\u4ee5\u57fa\u4e8e\u8fb9\u7f18\u4f3c\u7136\u51fd\u6570\u7684\u68af\u5ea6\u4e0a\u5347\u6765\u9009\u62e9\u6838\u7684\u8d85\u53c2\u6570\uff0c\n\u800cKRR\u9700\u8981\u5bf9\u4ea4\u53c9\u9a8c\u8bc1\u7684\u635f\u5931\u51fd\u6570(\u5747\u65b9\u8bef\u5dee\u635f\u5931)\u6267\u884c\u7f51\u683c\u641c\u7d22\u3002\u53e6\u4e00\u4e2a\u4e0d\u540c\u4e4b\u5904\u5728\u4e8e\uff0c\nGPR\u5b66\u4e60\u76ee\u6807\u51fd\u6570\u7684\u751f\u6210\u6982\u7387\u6a21\u578b\uff0c\u56e0\u6b64\u53ef\u4ee5\u63d0\u4f9b\u6709\u610f\u4e49\u7684\u7f6e\u4fe1\u533a\u95f4\u548c\u540e\u9a8c\u6837\u672c\u4ee5\u53ca\u9884\u6d4b\uff0c\n\u800cKRR\u53ea\u63d0\u4f9b\u9884\u6d4b\u3002\n\n\u6b64\u793a\u4f8b\u5728\u4eba\u5de5\u6570\u636e\u96c6\u4e0a\u5c55\u793a\u8fd9\u4e24\u79cd\u65b9\u6cd5\u7684\u4f7f\u7528\uff0c\u8be5\u6570\u636e\u96c6\u7531\u4e00\u4e2a\u6b63\u5f26\u76ee\u6807\u51fd\u6570\u548c\u5f3a\u566a\u58f0\u7ec4\u6210\u3002\n\u8be5\u56fe\u6bd4\u8f83\u4e86\u9002\u7528\u4e8e\u5b66\u4e60\u5468\u671f\u51fd\u6570\u7684\u57fa\u4e8eExpSineSquared\u6838\u7684KRR\u548cGPR\u7684\u5b66\u4e60\u6a21\u578b\u3002\n\u6838\u7684\u8d85\u53c2\u6570\u63a7\u5236\u6838\u7684\u5149\u6ed1\u6027(l)\u548c\u5468\u671f\u6027(p)\u3002\u6b64\u5916\uff0c\u6570\u636e\u7684\u566a\u58f0\u6c34\u5e73 \u5728GPR\u4e2d\u662f\n\u901a\u8fc7\u5185\u6838\u4e2d\u9644\u52a0\u7684 WhiteKernel \u5206\u91cf\u663e\u5f0f\u5730\u83b7\u5f97\u7684\uff0c\u800c\u5728KRR\u4e2d\u5219\u662f\u901a\u8fc7\u6b63\u5219\u5316\u53c2\u6570 alpha \u663e\u5f0f\u5730\u83b7\u5f97\u7684\u3002\n\n\u5c55\u793a\u56fe\u663e\u793a\uff0c\u8fd9\u4e24\u79cd\u65b9\u6cd5\u90fd\u5b66\u4e60\u4e86\u76ee\u6807\u51fd\u6570\u7684\u5408\u7406\u6a21\u578b\u3002GPR\u6b63\u786e\u5730\u8bc6\u522b\u51fa\u51fd\u6570\u7684\u5468\u671f\u7ea6\u4e3a2*pi(6.28)\uff0c\n\u800cKRR\u9009\u62e9\u7684\u5468\u671f\u4e3a4*pi\u3002\u6b64\u5916\uff0cGPR\u4e3a\u9884\u6d4b\u63d0\u4f9b\u4e86\u5408\u7406\u7684\u7f6e\u4fe1\u9650,\u4f46\u662fKRR\u5219\u65e0\u6cd5\u63d0\u4f9b\u3002\n\u8fd9\u4e24\u79cd\u65b9\u6cd5\u7684\u4e00\u4e2a\u4e3b\u8981\u533a\u522b\u662f\u62df\u5408\u548c\u9884\u6d4b\u6240\u9700\u7684\u65f6\u95f4\uff1a\u867d\u7136\u62df\u5408KRR\u5728\u539f\u5219\u4e0a\u662f\u5feb\u901f\u7684\uff0c\n\u4f46\u7f51\u683c\u641c\u7d22\u7684\u8d85\u53c2\u6570\u4f18\u5316\u89c4\u6a21\u4e0e\u8d85\u53c2\u6570\u7684\u6570\u91cf\u6210\u6307\u6570\u5173\u7cfb(\u201c\u7ef4\u6570\u707e\u96be\u201d)\u3002\nGPR\u7684\u53c2\u6570\u662f\u57fa\u4e8e\u68af\u5ea6\u4f18\u5316\u7684\uff0c\u4e0d\u53d7\u8fd9\u79cd\u6307\u6570\u6807\u5ea6\u7684\u5f71\u54cd\uff0c\u56e0\u6b64\u5728\u8fd9\u4e2a\u5177\u6709\u4e09\u7ef4\u8d85\u53c2\u6570\u7a7a\u95f4\u7684\u4f8b\u5b50\u4e2d\uff0c\n\u901f\u5ea6\u8981\u5feb\u5f97\u591a\u3002\u9884\u6d4b\u7684\u65f6\u95f4\u662f\u76f8\u4f3c\u7684\uff0c\u7136\u800c\uff0c\u4ea7\u751fGPR\u7684\u9884\u6d4b\u5206\u5e03\u7684\u65b9\u5dee\u8981\u6bd4\u4ec5\u4ec5\u9884\u6d4b\u5e73\u5747\u503c\u82b1\u8d39\u7684\u65f6\u95f4\u8981\u957f\u5f97\u591a\u3002\n\n"
      ]
    },
    {
      "cell_type": "code",
      "execution_count": null,
      "metadata": {
        "collapsed": false
      },
      "outputs": [],
      "source": [
        "print(__doc__)\n\n# Authors: Jan Hendrik Metzen <jhm@informatik.uni-bremen.de>\n# License: BSD 3 clause\n# \u7ffb\u8bd1\u8005\uff1ahttp://www.studyai.com/antares\n\nimport time\n\nimport numpy as np\n\nimport matplotlib.pyplot as plt\n\nfrom sklearn.kernel_ridge import KernelRidge\nfrom sklearn.model_selection import GridSearchCV\nfrom sklearn.gaussian_process import GaussianProcessRegressor\nfrom sklearn.gaussian_process.kernels import WhiteKernel, ExpSineSquared\n\nrng = np.random.RandomState(0)\n\n# Generate sample data\nX = 15 * rng.rand(100, 1)\ny = np.sin(X).ravel()\ny += 3 * (0.5 - rng.rand(X.shape[0]))  # add noise\n\n# Fit KernelRidge with parameter selection based on 5-fold cross validation\nparam_grid = {\"alpha\": [1e0, 1e-1, 1e-2, 1e-3],\n              \"kernel\": [ExpSineSquared(l, p)\n                         for l in np.logspace(-2, 2, 10)\n                         for p in np.logspace(0, 2, 10)]}\nkr = GridSearchCV(KernelRidge(), cv=5, param_grid=param_grid)\nstime = time.time()\nkr.fit(X, y)\nprint(\"Time for KRR fitting: %.3f\" % (time.time() - stime))\n\ngp_kernel = ExpSineSquared(1.0, 5.0, periodicity_bounds=(1e-2, 1e1)) \\\n    + WhiteKernel(1e-1)\ngpr = GaussianProcessRegressor(kernel=gp_kernel)\nstime = time.time()\ngpr.fit(X, y)\nprint(\"Time for GPR fitting: %.3f\" % (time.time() - stime))\n\n# Predict using kernel ridge\nX_plot = np.linspace(0, 20, 10000)[:, None]\nstime = time.time()\ny_kr = kr.predict(X_plot)\nprint(\"Time for KRR prediction: %.3f\" % (time.time() - stime))\n\n# Predict using gaussian process regressor\nstime = time.time()\ny_gpr = gpr.predict(X_plot, return_std=False)\nprint(\"Time for GPR prediction: %.3f\" % (time.time() - stime))\n\nstime = time.time()\ny_gpr, y_std = gpr.predict(X_plot, return_std=True)\nprint(\"Time for GPR prediction with standard-deviation: %.3f\"\n      % (time.time() - stime))\n\n# Plot results\nplt.figure(figsize=(10, 5))\nlw = 2\nplt.scatter(X, y, c='k', label='data')\nplt.plot(X_plot, np.sin(X_plot), color='navy', lw=lw, label='True')\nplt.plot(X_plot, y_kr, color='turquoise', lw=lw,\n         label='KRR (%s)' % kr.best_params_)\nplt.plot(X_plot, y_gpr, color='darkorange', lw=lw,\n         label='GPR (%s)' % gpr.kernel_)\nplt.fill_between(X_plot[:, 0], y_gpr - y_std, y_gpr + y_std, color='darkorange',\n                 alpha=0.2)\nplt.xlabel('data')\nplt.ylabel('target')\nplt.xlim(0, 20)\nplt.ylim(-4, 4)\nplt.title('GPR versus Kernel Ridge')\nplt.legend(loc=\"best\",  scatterpoints=1, prop={'size': 8})\nplt.show()"
      ]
    }
  ],
  "metadata": {
    "kernelspec": {
      "display_name": "Python 3",
      "language": "python",
      "name": "python3"
    },
    "language_info": {
      "codemirror_mode": {
        "name": "ipython",
        "version": 3
      },
      "file_extension": ".py",
      "mimetype": "text/x-python",
      "name": "python",
      "nbconvert_exporter": "python",
      "pygments_lexer": "ipython3",
      "version": "3.6.4"
    }
  },
  "nbformat": 4,
  "nbformat_minor": 0
}