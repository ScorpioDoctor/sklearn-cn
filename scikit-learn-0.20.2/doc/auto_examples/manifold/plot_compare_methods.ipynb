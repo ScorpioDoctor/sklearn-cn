{
  "cells": [
    {
      "cell_type": "code",
      "execution_count": null,
      "metadata": {
        "collapsed": false
      },
      "outputs": [],
      "source": [
        "%matplotlib inline"
      ]
    },
    {
      "cell_type": "markdown",
      "metadata": {},
      "source": [
        "\n# \u6d41\u5f62\u5b66\u4e60\u65b9\u6cd5\u7684\u6bd4\u8f83\n\n\n\u5728 S-curve \u6570\u636e\u96c6\u4e0a\u4f7f\u7528\u4e0d\u540c\u7684\u6d41\u884c\u5b66\u4e60\u7b97\u6cd5\u8fdb\u884c\u7ef4\u6570\u7ea6\u51cf\u7684\u6bd4\u8f83\u5c55\u793a\n\n\u5173\u4e8e\u8fd9\u4e9b\u65b9\u6cd5\u7684\u8ba8\u8bba\u4e0e\u6bd4\u8f83\uff0c\u8bf7\u770b `manifold module \u9875 <manifold>`\n\n\u8fd8\u6709\u4e00\u4e2a\u7c7b\u4f3c\u7684\u5c06\u672c\u4f8b\u4e2d\u7684\u6d41\u884c\u5b66\u4e60\u7b97\u6cd5\u5e94\u7528\u5230\u7a00\u758f\u6570\u636e\u96c6\u4e0a\u7684\u4f8b\u5b50,\n\u8bf7\u770b `sphx_glr_auto_examples_manifold_plot_manifold_sphere.py`\n\n\u8bf7\u6ce8\u610f MDS \u7684\u76ee\u7684\u662f\u53d1\u73b0\u6570\u636e\u7684\u4e00\u4e2a\u4f4e\u7ef4\u8868\u793a(\u8fd9\u91cc\u662f2d\u8868\u793a)\uff0c\u5728\u8fd9\u4e2a\u4f4e\u7ef4\u8868\u793a\u4e0b\u6570\u636e\u70b9\u4e4b\u95f4\u7684\u8ddd\u79bb\n\u5f88\u597d\u5730\u5c0a\u91cd\u6570\u636e\u70b9\u5728\u539f\u59cb\u7a7a\u95f4\u4e2d\u7684\u8ddd\u79bb\uff0c\u8fd9\u4e0d\u540c\u4e8e\u5176\u4ed6\u6d41\u5f62\u5b66\u4e60\u7b97\u6cd5\uff0c\u5b83\u4e0d\u4f1a\u5728\u4f4e\u7ef4\u7a7a\u95f4\u4e2d\u5bfb\u627e\u6570\u636e\u7684\n\u5404\u5411\u540c\u6027\u8868\u793a(isotropic representation)\u3002\n\n"
      ]
    },
    {
      "cell_type": "code",
      "execution_count": null,
      "metadata": {
        "collapsed": false
      },
      "outputs": [],
      "source": [
        "# Author: Jake Vanderplas -- <vanderplas@astro.washington.edu>\n\nprint(__doc__)\n\nfrom time import time\n\nimport matplotlib.pyplot as plt\nfrom mpl_toolkits.mplot3d import Axes3D\nfrom matplotlib.ticker import NullFormatter\n\nfrom sklearn import manifold, datasets\n\n# Next line to silence pyflakes. This import is needed.\nAxes3D\n\nn_points = 1000\nX, color = datasets.samples_generator.make_s_curve(n_points, random_state=0)\nn_neighbors = 10\nn_components = 2\n\nfig = plt.figure(figsize=(15, 8))\nplt.suptitle(\"Manifold Learning with %i points, %i neighbors\"\n             % (1000, n_neighbors), fontsize=14)\n\n\nax = fig.add_subplot(251, projection='3d')\nax.scatter(X[:, 0], X[:, 1], X[:, 2], c=color, cmap=plt.cm.Spectral)\nax.view_init(4, -72)\n\nmethods = ['standard', 'ltsa', 'hessian', 'modified']\nlabels = ['LLE', 'LTSA', 'Hessian LLE', 'Modified LLE']\n\nfor i, method in enumerate(methods):\n    t0 = time()\n    Y = manifold.LocallyLinearEmbedding(n_neighbors, n_components,\n                                        eigen_solver='auto',\n                                        method=method).fit_transform(X)\n    t1 = time()\n    print(\"%s: %.2g sec\" % (methods[i], t1 - t0))\n\n    ax = fig.add_subplot(252 + i)\n    plt.scatter(Y[:, 0], Y[:, 1], c=color, cmap=plt.cm.Spectral)\n    plt.title(\"%s (%.2g sec)\" % (labels[i], t1 - t0))\n    ax.xaxis.set_major_formatter(NullFormatter())\n    ax.yaxis.set_major_formatter(NullFormatter())\n    plt.axis('tight')\n\nt0 = time()\nY = manifold.Isomap(n_neighbors, n_components).fit_transform(X)\nt1 = time()\nprint(\"Isomap: %.2g sec\" % (t1 - t0))\nax = fig.add_subplot(257)\nplt.scatter(Y[:, 0], Y[:, 1], c=color, cmap=plt.cm.Spectral)\nplt.title(\"Isomap (%.2g sec)\" % (t1 - t0))\nax.xaxis.set_major_formatter(NullFormatter())\nax.yaxis.set_major_formatter(NullFormatter())\nplt.axis('tight')\n\n\nt0 = time()\nmds = manifold.MDS(n_components, max_iter=100, n_init=1)\nY = mds.fit_transform(X)\nt1 = time()\nprint(\"MDS: %.2g sec\" % (t1 - t0))\nax = fig.add_subplot(258)\nplt.scatter(Y[:, 0], Y[:, 1], c=color, cmap=plt.cm.Spectral)\nplt.title(\"MDS (%.2g sec)\" % (t1 - t0))\nax.xaxis.set_major_formatter(NullFormatter())\nax.yaxis.set_major_formatter(NullFormatter())\nplt.axis('tight')\n\n\nt0 = time()\nse = manifold.SpectralEmbedding(n_components=n_components,\n                                n_neighbors=n_neighbors)\nY = se.fit_transform(X)\nt1 = time()\nprint(\"SpectralEmbedding: %.2g sec\" % (t1 - t0))\nax = fig.add_subplot(259)\nplt.scatter(Y[:, 0], Y[:, 1], c=color, cmap=plt.cm.Spectral)\nplt.title(\"SpectralEmbedding (%.2g sec)\" % (t1 - t0))\nax.xaxis.set_major_formatter(NullFormatter())\nax.yaxis.set_major_formatter(NullFormatter())\nplt.axis('tight')\n\nt0 = time()\ntsne = manifold.TSNE(n_components=n_components, init='pca', random_state=0)\nY = tsne.fit_transform(X)\nt1 = time()\nprint(\"t-SNE: %.2g sec\" % (t1 - t0))\nax = fig.add_subplot(2, 5, 10)\nplt.scatter(Y[:, 0], Y[:, 1], c=color, cmap=plt.cm.Spectral)\nplt.title(\"t-SNE (%.2g sec)\" % (t1 - t0))\nax.xaxis.set_major_formatter(NullFormatter())\nax.yaxis.set_major_formatter(NullFormatter())\nplt.axis('tight')\n\nplt.show()"
      ]
    }
  ],
  "metadata": {
    "kernelspec": {
      "display_name": "Python 3",
      "language": "python",
      "name": "python3"
    },
    "language_info": {
      "codemirror_mode": {
        "name": "ipython",
        "version": 3
      },
      "file_extension": ".py",
      "mimetype": "text/x-python",
      "name": "python",
      "nbconvert_exporter": "python",
      "pygments_lexer": "ipython3",
      "version": "3.6.4"
    }
  },
  "nbformat": 4,
  "nbformat_minor": 0
}