{
  "cells": [
    {
      "cell_type": "code",
      "execution_count": null,
      "metadata": {
        "collapsed": false
      },
      "outputs": [],
      "source": [
        "%matplotlib inline"
      ]
    },
    {
      "cell_type": "markdown",
      "metadata": {},
      "source": [
        "\n=============================================================================\nt-SNE: \u4e0d\u540c\u56f0\u60d1\u503c\u5bf9\u5f62\u72b6\u7684\u5f71\u54cd\n=============================================================================\n\n\u4e24\u4e2a\u540c\u5fc3\u5706\u548cS\u66f2\u7ebf\u6570\u636e\u96c6\u5bf9\u4e0d\u540c\u56f0\u60d1\u503ct-SNE\u7684\u793a\u4f8b\u3002\n\n\u6211\u4eec\u89c2\u5bdf\u5230\uff0c\u968f\u7740\u8ff7\u60d1\u6027\u503c(preplexity value)\u7684\u589e\u52a0\uff0c\u5f62\u72b6\u8d8a\u6765\u8d8a\u6e05\u6670\u3002\n\n\u805a\u7c07(clusters)\u7684\u5927\u5c0f\u3001\u8ddd\u79bb\u548c\u5f62\u72b6\u53ef\u80fd\u56e0\u521d\u59cb\u5316\u3001\u56f0\u60d1\u503c\u800c\u5f02\uff0c\u5e76\u4e0d\u603b\u662f\u4f20\u8fbe\u610f\u4e49\u3002\n\n\u5982\u4e0b\u6240\u793a\uff0c\u5bf9\u4e8e\u8f83\u9ad8\u7684\u56f0\u60d1\u503c\uff0ct-SNE\u53d1\u73b0\u4e86\u4e24\u4e2a\u540c\u5fc3\u5706\u7684\u6709\u610f\u4e49\u7684\u62d3\u6251\u7ed3\u6784\uff0c\u4f46\u5706\u5708\u7684\u5927\u5c0f\u548c\u8ddd\u79bb\u4e0e\u539f\u6765\u7684\u7565\u6709\u4e0d\u540c\u3002\n\u4e0e\u540c\u5fc3\u5706\u6570\u636e\u96c6\u76f8\u53cd\uff0c\u5373\u4f7f\u5728\u8f83\u5927\u7684\u56f0\u60d1\u503c\u4e0b\uff0ct-SNE\u83b7\u5f97\u7684\u5f62\u72b6\u5728\u89c6\u89c9\u4e0a\u4e5f\u4e0eS\u66f2\u7ebf\u6570\u636e\u96c6\u4e0a\u7684S\u66f2\u7ebf\u62d3\u6251\u4e0d\u540c\u3002\n\n\u5173\u4e8e\u66f4\u591a\u8be6\u7ec6\u7ec6\u8282, \"How to Use t-SNE Effectively\" http://distill.pub/2016/misread-tsne/ \n\u63d0\u4f9b\u4e86\u5404\u79cd\u53c2\u6570\u7684\u5f71\u54cd\u7684\u8ba8\u8bba\uff0c\u5305\u62ec\u4e00\u4e9b\u4ea4\u4e92\u5f0f\u7ed8\u56fe\u6765\u63a2\u7d22\u8fd9\u4e9b\u5f71\u54cd\u3002\n\n"
      ]
    },
    {
      "cell_type": "code",
      "execution_count": null,
      "metadata": {
        "collapsed": false
      },
      "outputs": [],
      "source": [
        "# Author: Narine Kokhlikyan <narine@slice.com>\n# License: BSD\n\nprint(__doc__)\n\nimport numpy as np\nimport matplotlib.pyplot as plt\n\nfrom matplotlib.ticker import NullFormatter\nfrom sklearn import manifold, datasets\nfrom time import time\n\nn_samples = 300\nn_components = 2\n(fig, subplots) = plt.subplots(3, 5, figsize=(15, 8))\nperplexities = [5, 30, 50, 100]\n\nX, y = datasets.make_circles(n_samples=n_samples, factor=.5, noise=.05)\n\nred = y == 0\ngreen = y == 1\n\nax = subplots[0][0]\nax.scatter(X[red, 0], X[red, 1], c=\"r\")\nax.scatter(X[green, 0], X[green, 1], c=\"g\")\nax.xaxis.set_major_formatter(NullFormatter())\nax.yaxis.set_major_formatter(NullFormatter())\nplt.axis('tight')\n\nfor i, perplexity in enumerate(perplexities):\n    ax = subplots[0][i + 1]\n\n    t0 = time()\n    tsne = manifold.TSNE(n_components=n_components, init='random',\n                         random_state=0, perplexity=perplexity)\n    Y = tsne.fit_transform(X)\n    t1 = time()\n    print(\"circles, perplexity=%d in %.2g sec\" % (perplexity, t1 - t0))\n    ax.set_title(\"Perplexity=%d\" % perplexity)\n    ax.scatter(Y[red, 0], Y[red, 1], c=\"r\")\n    ax.scatter(Y[green, 0], Y[green, 1], c=\"g\")\n    ax.xaxis.set_major_formatter(NullFormatter())\n    ax.yaxis.set_major_formatter(NullFormatter())\n    ax.axis('tight')\n\n# Another example using s-curve\nX, color = datasets.samples_generator.make_s_curve(n_samples, random_state=0)\n\nax = subplots[1][0]\nax.scatter(X[:, 0], X[:, 2], c=color)\nax.xaxis.set_major_formatter(NullFormatter())\nax.yaxis.set_major_formatter(NullFormatter())\n\nfor i, perplexity in enumerate(perplexities):\n    ax = subplots[1][i + 1]\n\n    t0 = time()\n    tsne = manifold.TSNE(n_components=n_components, init='random',\n                         random_state=0, perplexity=perplexity)\n    Y = tsne.fit_transform(X)\n    t1 = time()\n    print(\"S-curve, perplexity=%d in %.2g sec\" % (perplexity, t1 - t0))\n\n    ax.set_title(\"Perplexity=%d\" % perplexity)\n    ax.scatter(Y[:, 0], Y[:, 1], c=color)\n    ax.xaxis.set_major_formatter(NullFormatter())\n    ax.yaxis.set_major_formatter(NullFormatter())\n    ax.axis('tight')\n\n\n# Another example using a 2D uniform grid\nx = np.linspace(0, 1, int(np.sqrt(n_samples)))\nxx, yy = np.meshgrid(x, x)\nX = np.hstack([\n    xx.ravel().reshape(-1, 1),\n    yy.ravel().reshape(-1, 1),\n])\ncolor = xx.ravel()\nax = subplots[2][0]\nax.scatter(X[:, 0], X[:, 1], c=color)\nax.xaxis.set_major_formatter(NullFormatter())\nax.yaxis.set_major_formatter(NullFormatter())\n\nfor i, perplexity in enumerate(perplexities):\n    ax = subplots[2][i + 1]\n\n    t0 = time()\n    tsne = manifold.TSNE(n_components=n_components, init='random',\n                         random_state=0, perplexity=perplexity)\n    Y = tsne.fit_transform(X)\n    t1 = time()\n    print(\"uniform grid, perplexity=%d in %.2g sec\" % (perplexity, t1 - t0))\n\n    ax.set_title(\"Perplexity=%d\" % perplexity)\n    ax.scatter(Y[:, 0], Y[:, 1], c=color)\n    ax.xaxis.set_major_formatter(NullFormatter())\n    ax.yaxis.set_major_formatter(NullFormatter())\n    ax.axis('tight')\n\n\nplt.show()"
      ]
    }
  ],
  "metadata": {
    "kernelspec": {
      "display_name": "Python 3",
      "language": "python",
      "name": "python3"
    },
    "language_info": {
      "codemirror_mode": {
        "name": "ipython",
        "version": 3
      },
      "file_extension": ".py",
      "mimetype": "text/x-python",
      "name": "python",
      "nbconvert_exporter": "python",
      "pygments_lexer": "ipython3",
      "version": "3.6.4"
    }
  },
  "nbformat": 4,
  "nbformat_minor": 0
}