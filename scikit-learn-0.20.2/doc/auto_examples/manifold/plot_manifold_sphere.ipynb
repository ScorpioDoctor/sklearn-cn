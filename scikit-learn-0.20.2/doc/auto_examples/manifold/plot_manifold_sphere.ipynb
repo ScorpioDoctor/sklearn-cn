{
  "cells": [
    {
      "cell_type": "code",
      "execution_count": null,
      "metadata": {
        "collapsed": false
      },
      "outputs": [],
      "source": [
        "%matplotlib inline"
      ]
    },
    {
      "cell_type": "markdown",
      "metadata": {},
      "source": [
        "\n# \u5728\u5207\u65ad\u7403\u4f53\u4e0a\u7684\u6d41\u884c\u5b66\u4e60\u65b9\u6cd5\n\n\n\u4e0d\u540c\u7684 `manifold` \u6280\u672f\u5728\u7403\u5f62\u6570\u636e\u96c6\u4e0a\u7684\u5e94\u7528\u3002\n\u8fd9\u91cc\uff0c\u4f60\u53ef\u4ee5\u770b\u5230\u4e3a\u4e86\u83b7\u5f97\u6d41\u884c\u5b66\u4e60\u65b9\u6cd5\u7684\u4e00\u4e9b\u76f4\u89c2\u5370\u8c61\u4f7f\u7528\u4e86\u7ef4\u6570\u7ea6\u51cf\u3002\n\u5173\u4e8e\u6570\u636e\u96c6\uff0c\u4e24\u6781\u4ee5\u53ca\u6cbf\u7740\u7403\u4f53\u4e00\u4fa7\u7684\u4e00\u7247\u8584\u7247\u88ab\u4ece\u7403\u4f53\u4e2d\u5207\u4e0b\u6765\u3002\n\u8fd9\u4f7f\u5f97\u6d41\u5f62\u5b66\u4e60\u6280\u672f\u80fd\u591f\u201c\u6253\u5f00\u201d\u7403\u4f53\uff0c\u540c\u65f6\u5c06\u5176\u6295\u5c04\u5230\u4e24\u4e2a\u7ef4\u5ea6\u3002\n\n\u8fd8\u6709\u4e00\u4e2a\u7c7b\u4f3c\u7684\u4f8b\u5b50, \u5728\u90a3\u91cc\u8fd9\u4e9b\u6d41\u884c\u65b9\u6cd5\u88ab\u8fd0\u7528\u5230 S-curve \u6570\u636e\u96c6\uff0c\u8bf7\u770b \n`sphx_glr_auto_examples_manifold_plot_compare_methods.py`\n\n\u8bf7\u6ce8\u610f `MDS <multidimensional_scaling>` \u7684\u76ee\u7684\u662f\u53d1\u73b0\u6570\u636e\u7684\u4e00\u4e2a\u4f4e\u7ef4\u8868\u793a(\u8fd9\u91cc\u662f2d\u8868\u793a)\uff0c\n\u5728\u8fd9\u4e2a\u4f4e\u7ef4\u8868\u793a\u4e0b\u6570\u636e\u70b9\u4e4b\u95f4\u7684\u8ddd\u79bb\n\u5f88\u597d\u5730\u5c0a\u91cd\u6570\u636e\u70b9\u5728\u539f\u59cb\u7a7a\u95f4\u4e2d\u7684\u8ddd\u79bb\uff0c\u8fd9\u4e0d\u540c\u4e8e\u5176\u4ed6\u6d41\u5f62\u5b66\u4e60\u7b97\u6cd5\uff0c\u5b83\u4e0d\u4f1a\u5728\u4f4e\u7ef4\u7a7a\u95f4\u4e2d\u5bfb\u627e\u6570\u636e\u7684\n\u5404\u5411\u540c\u6027\u8868\u793a(isotropic representation)\u3002\n\n\u5728\u8fd9\u91cc\uff0c\u6d41\u5f62\u95ee\u9898\u4e0e\u8868\u793a\u5730\u7403\u5e73\u9762\u56fe\u7684\u95ee\u9898\u76f8\u5f53\u5339\u914d\uff0c\u5c31\u50cf `\u5730\u56fe\u6295\u5f71<https://en.wikipedia.org/wiki/Map_projection>`_ \u4e00\u6837\u3002\n\n"
      ]
    },
    {
      "cell_type": "code",
      "execution_count": null,
      "metadata": {
        "collapsed": false
      },
      "outputs": [],
      "source": [
        "# Author: Jaques Grobler <jaques.grobler@inria.fr>\n# License: BSD 3 clause\n\nprint(__doc__)\n\nfrom time import time\n\nimport numpy as np\nimport matplotlib.pyplot as plt\nfrom mpl_toolkits.mplot3d import Axes3D\nfrom matplotlib.ticker import NullFormatter\n\nfrom sklearn import manifold\nfrom sklearn.utils import check_random_state\n\n# Next line to silence pyflakes.\nAxes3D\n\n# Variables for manifold learning.\nn_neighbors = 10\nn_samples = 1000\n\n# Create our sphere.\nrandom_state = check_random_state(0)\np = random_state.rand(n_samples) * (2 * np.pi - 0.55)\nt = random_state.rand(n_samples) * np.pi\n\n# Sever the poles from the sphere.\nindices = ((t < (np.pi - (np.pi / 8))) & (t > ((np.pi / 8))))\ncolors = p[indices]\nx, y, z = np.sin(t[indices]) * np.cos(p[indices]), \\\n    np.sin(t[indices]) * np.sin(p[indices]), \\\n    np.cos(t[indices])\n\n# Plot our dataset.\nfig = plt.figure(figsize=(15, 8))\nplt.suptitle(\"Manifold Learning with %i points, %i neighbors\"\n             % (1000, n_neighbors), fontsize=14)\n\nax = fig.add_subplot(251, projection='3d')\nax.scatter(x, y, z, c=p[indices], cmap=plt.cm.rainbow)\nax.view_init(40, -10)\n\nsphere_data = np.array([x, y, z]).T\n\n# Perform Locally Linear Embedding Manifold learning\nmethods = ['standard', 'ltsa', 'hessian', 'modified']\nlabels = ['LLE', 'LTSA', 'Hessian LLE', 'Modified LLE']\n\nfor i, method in enumerate(methods):\n    t0 = time()\n    trans_data = manifold\\\n        .LocallyLinearEmbedding(n_neighbors, 2,\n                                method=method).fit_transform(sphere_data).T\n    t1 = time()\n    print(\"%s: %.2g sec\" % (methods[i], t1 - t0))\n\n    ax = fig.add_subplot(252 + i)\n    plt.scatter(trans_data[0], trans_data[1], c=colors, cmap=plt.cm.rainbow)\n    plt.title(\"%s (%.2g sec)\" % (labels[i], t1 - t0))\n    ax.xaxis.set_major_formatter(NullFormatter())\n    ax.yaxis.set_major_formatter(NullFormatter())\n    plt.axis('tight')\n\n# Perform Isomap Manifold learning.\nt0 = time()\ntrans_data = manifold.Isomap(n_neighbors, n_components=2)\\\n    .fit_transform(sphere_data).T\nt1 = time()\nprint(\"%s: %.2g sec\" % ('ISO', t1 - t0))\n\nax = fig.add_subplot(257)\nplt.scatter(trans_data[0], trans_data[1], c=colors, cmap=plt.cm.rainbow)\nplt.title(\"%s (%.2g sec)\" % ('Isomap', t1 - t0))\nax.xaxis.set_major_formatter(NullFormatter())\nax.yaxis.set_major_formatter(NullFormatter())\nplt.axis('tight')\n\n# Perform Multi-dimensional scaling.\nt0 = time()\nmds = manifold.MDS(2, max_iter=100, n_init=1)\ntrans_data = mds.fit_transform(sphere_data).T\nt1 = time()\nprint(\"MDS: %.2g sec\" % (t1 - t0))\n\nax = fig.add_subplot(258)\nplt.scatter(trans_data[0], trans_data[1], c=colors, cmap=plt.cm.rainbow)\nplt.title(\"MDS (%.2g sec)\" % (t1 - t0))\nax.xaxis.set_major_formatter(NullFormatter())\nax.yaxis.set_major_formatter(NullFormatter())\nplt.axis('tight')\n\n# Perform Spectral Embedding.\nt0 = time()\nse = manifold.SpectralEmbedding(n_components=2,\n                                n_neighbors=n_neighbors)\ntrans_data = se.fit_transform(sphere_data).T\nt1 = time()\nprint(\"Spectral Embedding: %.2g sec\" % (t1 - t0))\n\nax = fig.add_subplot(259)\nplt.scatter(trans_data[0], trans_data[1], c=colors, cmap=plt.cm.rainbow)\nplt.title(\"Spectral Embedding (%.2g sec)\" % (t1 - t0))\nax.xaxis.set_major_formatter(NullFormatter())\nax.yaxis.set_major_formatter(NullFormatter())\nplt.axis('tight')\n\n# Perform t-distributed stochastic neighbor embedding.\nt0 = time()\ntsne = manifold.TSNE(n_components=2, init='pca', random_state=0)\ntrans_data = tsne.fit_transform(sphere_data).T\nt1 = time()\nprint(\"t-SNE: %.2g sec\" % (t1 - t0))\n\nax = fig.add_subplot(2, 5, 10)\nplt.scatter(trans_data[0], trans_data[1], c=colors, cmap=plt.cm.rainbow)\nplt.title(\"t-SNE (%.2g sec)\" % (t1 - t0))\nax.xaxis.set_major_formatter(NullFormatter())\nax.yaxis.set_major_formatter(NullFormatter())\nplt.axis('tight')\n\nplt.show()"
      ]
    }
  ],
  "metadata": {
    "kernelspec": {
      "display_name": "Python 3",
      "language": "python",
      "name": "python3"
    },
    "language_info": {
      "codemirror_mode": {
        "name": "ipython",
        "version": 3
      },
      "file_extension": ".py",
      "mimetype": "text/x-python",
      "name": "python",
      "nbconvert_exporter": "python",
      "pygments_lexer": "ipython3",
      "version": "3.6.4"
    }
  },
  "nbformat": 4,
  "nbformat_minor": 0
}